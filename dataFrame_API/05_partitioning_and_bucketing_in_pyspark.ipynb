{
 "cells": [
  {
   "cell_type": "markdown",
   "metadata": {
    "application/vnd.databricks.v1+cell": {
     "cellMetadata": {},
     "inputWidgets": {},
     "nuid": "fccea015-5add-4860-82d4-7c401fdc985c",
     "showTitle": false,
     "tableResultSettingsMap": {},
     "title": ""
    }
   },
   "source": [
    "## Partitioning and bucketing in PySpark\n",
    "\n",
    "Partitioning and bucketing in PySpark are techniques used to optimize data storage and query performance, especially in distributed data processing."
   ]
  },
  {
   "cell_type": "markdown",
   "metadata": {
    "application/vnd.databricks.v1+cell": {
     "cellMetadata": {},
     "inputWidgets": {},
     "nuid": "70e001ca-c15a-4cd5-b124-eb69a10a225d",
     "showTitle": false,
     "tableResultSettingsMap": {},
     "title": ""
    }
   },
   "source": []
  },
  {
   "cell_type": "markdown",
   "metadata": {
    "application/vnd.databricks.v1+cell": {
     "cellMetadata": {},
     "inputWidgets": {},
     "nuid": "751be496-073e-44bf-bb53-0507cdf64f50",
     "showTitle": false,
     "tableResultSettingsMap": {},
     "title": ""
    }
   },
   "source": [
    "### Partitioning\n",
    "Partitioning is a technique that organizes the data in a DataFrame or table by dividing it into separate files or directories based on the unique values of one or more columns.\n",
    "\n",
    "**How It Works:**\n",
    "- `Partition Column:` Data is written into subdirectories for each unique value in the partition column.\n",
    "- Improves performance when queries filter data on the partition column because Spark can skip non-relevant partitions (partition pruning).\n",
    "\n",
    "**Advantages:**\n",
    "- Reduces the amount of data scanned during query execution (pruning).\n",
    "- Helps in organizing and managing large datasets.\n",
    "\n",
    "**Disadvantages**\n",
    "- Over-partitioning can lead to many small files, which degrade performance (HDFS small file problem).\n",
    "- Only effective if queries use filters on the partition column."
   ]
  },
  {
   "cell_type": "markdown",
   "metadata": {
    "application/vnd.databricks.v1+cell": {
     "cellMetadata": {},
     "inputWidgets": {},
     "nuid": "062aecd5-17df-4aa0-81e8-9b76760325b6",
     "showTitle": false,
     "tableResultSettingsMap": {},
     "title": ""
    }
   },
   "source": [
    "**Example: Writing with Partitioning**"
   ]
  },
  {
   "cell_type": "code",
   "execution_count": 0,
   "metadata": {
    "application/vnd.databricks.v1+cell": {
     "cellMetadata": {
      "byteLimit": 2048000,
      "rowLimit": 10000
     },
     "inputWidgets": {},
     "nuid": "b4ebc1f6-bc8f-4af4-8991-a284ce08a2e5",
     "showTitle": false,
     "tableResultSettingsMap": {},
     "title": ""
    }
   },
   "outputs": [],
   "source": [
    "# Sample DataFrame\n",
    "data = [(\"Rohish\", 25, \"India\"), (\"Bob\", 30, \"UK\"), (\"Naina\", 35, \"India\"), (\"David\", 40, \"USA\")]\n",
    "columns = [\"Name\", \"Age\", \"Country\"]\n",
    "df = spark.createDataFrame(data, columns)\n",
    "\n",
    "# Write the DataFrame with partitioning\n",
    "df.write.format(\"parquet\") \\\n",
    "    .partitionBy(\"Country\") \\\n",
    "    .mode(\"overwrite\") \\\n",
    "    .save(\"dbfs:/FileStore/shared_uploads/zaderohish5@gmail.com/partition_output/\")"
   ]
  },
  {
   "cell_type": "markdown",
   "metadata": {
    "application/vnd.databricks.v1+cell": {
     "cellMetadata": {},
     "inputWidgets": {},
     "nuid": "6b65c5bf-6fe8-4a1c-a544-874889e55bab",
     "showTitle": false,
     "tableResultSettingsMap": {},
     "title": ""
    }
   },
   "source": [
    "**Output Directory Structure:**"
   ]
  },
  {
   "cell_type": "code",
   "execution_count": 0,
   "metadata": {
    "application/vnd.databricks.v1+cell": {
     "cellMetadata": {
      "byteLimit": 2048000,
      "rowLimit": 10000
     },
     "inputWidgets": {},
     "nuid": "a94ad333-d348-4d3a-b895-3637ec9eeb81",
     "showTitle": false,
     "tableResultSettingsMap": {},
     "title": ""
    }
   },
   "outputs": [
    {
     "output_type": "display_data",
     "data": {
      "text/html": [
       "<style scoped>\n",
       "  .table-result-container {\n",
       "    max-height: 300px;\n",
       "    overflow: auto;\n",
       "  }\n",
       "  table, th, td {\n",
       "    border: 1px solid black;\n",
       "    border-collapse: collapse;\n",
       "  }\n",
       "  th, td {\n",
       "    padding: 5px;\n",
       "  }\n",
       "  th {\n",
       "    text-align: left;\n",
       "  }\n",
       "</style><div class='table-result-container'><table class='table-result'><thead style='background-color: white'><tr><th>path</th><th>name</th><th>size</th><th>modificationTime</th></tr></thead><tbody><tr><td>dbfs:/FileStore/shared_uploads/zaderohish5@gmail.com/partition_output/Country=India/</td><td>Country=India/</td><td>0</td><td>0</td></tr><tr><td>dbfs:/FileStore/shared_uploads/zaderohish5@gmail.com/partition_output/Country=UK/</td><td>Country=UK/</td><td>0</td><td>0</td></tr><tr><td>dbfs:/FileStore/shared_uploads/zaderohish5@gmail.com/partition_output/Country=USA/</td><td>Country=USA/</td><td>0</td><td>0</td></tr><tr><td>dbfs:/FileStore/shared_uploads/zaderohish5@gmail.com/partition_output/_SUCCESS</td><td>_SUCCESS</td><td>0</td><td>1733491248000</td></tr><tr><td>dbfs:/FileStore/shared_uploads/zaderohish5@gmail.com/partition_output/_committed_3496381552902929341</td><td>_committed_3496381552902929341</td><td>35</td><td>1733491247000</td></tr></tbody></table></div>"
      ]
     },
     "metadata": {
      "application/vnd.databricks.v1+output": {
       "addedWidgets": {},
       "aggData": [],
       "aggError": "",
       "aggOverflow": false,
       "aggSchema": [],
       "aggSeriesLimitReached": false,
       "aggType": "",
       "arguments": {},
       "columnCustomDisplayInfos": {},
       "data": [
        [
         "dbfs:/FileStore/shared_uploads/zaderohish5@gmail.com/partition_output/Country=India/",
         "Country=India/",
         0,
         0
        ],
        [
         "dbfs:/FileStore/shared_uploads/zaderohish5@gmail.com/partition_output/Country=UK/",
         "Country=UK/",
         0,
         0
        ],
        [
         "dbfs:/FileStore/shared_uploads/zaderohish5@gmail.com/partition_output/Country=USA/",
         "Country=USA/",
         0,
         0
        ],
        [
         "dbfs:/FileStore/shared_uploads/zaderohish5@gmail.com/partition_output/_SUCCESS",
         "_SUCCESS",
         0,
         1733491248000
        ],
        [
         "dbfs:/FileStore/shared_uploads/zaderohish5@gmail.com/partition_output/_committed_3496381552902929341",
         "_committed_3496381552902929341",
         35,
         1733491247000
        ]
       ],
       "datasetInfos": [],
       "dbfsResultPath": null,
       "isJsonSchema": true,
       "metadata": {
        "isDbfsCommandResult": false
       },
       "overflow": false,
       "plotOptions": {
        "customPlotOptions": {},
        "displayType": "table",
        "pivotAggregation": null,
        "pivotColumns": null,
        "xColumns": null,
        "yColumns": null
       },
       "removedWidgets": [],
       "schema": [
        {
         "metadata": "{}",
         "name": "path",
         "type": "\"string\""
        },
        {
         "metadata": "{}",
         "name": "name",
         "type": "\"string\""
        },
        {
         "metadata": "{}",
         "name": "size",
         "type": "\"long\""
        },
        {
         "metadata": "{}",
         "name": "modificationTime",
         "type": "\"long\""
        }
       ],
       "type": "table"
      }
     },
     "output_type": "display_data"
    }
   ],
   "source": [
    "%fs\n",
    "ls dbfs:/FileStore/shared_uploads/zaderohish5@gmail.com/partition_output/"
   ]
  },
  {
   "cell_type": "markdown",
   "metadata": {
    "application/vnd.databricks.v1+cell": {
     "cellMetadata": {},
     "inputWidgets": {},
     "nuid": "b819988e-0fe2-4678-9f84-6fccb9dfcffd",
     "showTitle": false,
     "tableResultSettingsMap": {},
     "title": ""
    }
   },
   "source": [
    "**When to Use Partitioning**\n",
    "- When datasets are large and queries often filter data on specific columns.\n",
    "- Common for time-series data (e.g., partition by year or month)."
   ]
  },
  {
   "cell_type": "markdown",
   "metadata": {
    "application/vnd.databricks.v1+cell": {
     "cellMetadata": {},
     "inputWidgets": {},
     "nuid": "2474b4e1-3ac1-444f-b818-526c0e267755",
     "showTitle": false,
     "tableResultSettingsMap": {},
     "title": ""
    }
   },
   "source": []
  },
  {
   "cell_type": "markdown",
   "metadata": {
    "application/vnd.databricks.v1+cell": {
     "cellMetadata": {},
     "inputWidgets": {},
     "nuid": "9d7deef9-927b-4f06-b61c-5fde2ea9d7bd",
     "showTitle": false,
     "tableResultSettingsMap": {},
     "title": ""
    }
   },
   "source": [
    "### Bucketing\n",
    "Bucketing is another optimization technique where data is grouped into a fixed number of files (buckets) based on the hash of a column or columns. \n",
    "\n",
    "Unlike partitioning, bucketing doesn’t create directories but instead divides data into buckets within the same directory.\n",
    "\n",
    "**How It Works**\n",
    "- Data is distributed based on the hash of the bucket column into a predefined number of buckets.\n",
    "- Each bucket is stored as a single file.\n",
    "- Helps in query optimization when performing operations like joins and aggregations on bucketed columns.\n",
    "\n",
    "**Advantages:**\n",
    "- Optimizes performance for joins and aggregations by co-locating data with the same hash.\n",
    "- Allows better control over file size and data distribution.\n",
    "\n",
    "**Disadvantages:**\n",
    "- Requires specifying the number of buckets upfront.\n",
    "- Does not support dynamic pruning like partitioning."
   ]
  },
  {
   "cell_type": "markdown",
   "metadata": {
    "application/vnd.databricks.v1+cell": {
     "cellMetadata": {},
     "inputWidgets": {},
     "nuid": "3a9816b8-bea6-4d24-b3ff-13d76b52cc13",
     "showTitle": false,
     "tableResultSettingsMap": {},
     "title": ""
    }
   },
   "source": [
    "**Example: Writing with Bucketing**"
   ]
  },
  {
   "cell_type": "code",
   "execution_count": 0,
   "metadata": {
    "application/vnd.databricks.v1+cell": {
     "cellMetadata": {
      "byteLimit": 2048000,
      "rowLimit": 10000
     },
     "inputWidgets": {},
     "nuid": "5a0c6129-0182-4710-936b-eb4186b0da15",
     "showTitle": false,
     "tableResultSettingsMap": {},
     "title": ""
    }
   },
   "outputs": [],
   "source": [
    "# Sample DataFrame\n",
    "data = [(\"Rohish\", 25, \"India\"), (\"Bob\", 30, \"UK\"), (\"Naina\", 35, \"India\"), (\"David\", 40, \"USA\")]\n",
    "columns = [\"Name\", \"Age\", \"Country\"]\n",
    "df = spark.createDataFrame(data, columns)\n",
    "\n",
    "# Write the DataFrame with partitioning\n",
    "df.write.format(\"parquet\") \\\n",
    "    .bucketBy(4, \"Country\") \\  # 4 buckets based on the hash of \"Country\" \\\n",
    "    .sortBy(\"Age\") \\           # Sort records within each bucket by \"Age\" \\\n",
    "    .saveAsTable(\"bucketed_table\")"
   ]
  },
  {
   "cell_type": "markdown",
   "metadata": {
    "application/vnd.databricks.v1+cell": {
     "cellMetadata": {},
     "inputWidgets": {},
     "nuid": "4ee8bcb2-f1e0-490b-880f-b3062b894732",
     "showTitle": false,
     "tableResultSettingsMap": {},
     "title": ""
    }
   },
   "source": [
    "**Output**\n",
    "- Bucketing writes the data into 4 buckets based on the hash of the Country column.\n",
    "- Stored as Hive-compatible tables in the specified location."
   ]
  },
  {
   "cell_type": "code",
   "execution_count": 0,
   "metadata": {
    "application/vnd.databricks.v1+cell": {
     "cellMetadata": {
      "byteLimit": 2048000,
      "rowLimit": 10000
     },
     "inputWidgets": {},
     "nuid": "e38e0a45-9b2a-45c6-b408-92ca3e10f184",
     "showTitle": false,
     "tableResultSettingsMap": {},
     "title": ""
    }
   },
   "outputs": [
    {
     "output_type": "display_data",
     "data": {
      "text/html": [
       "<style scoped>\n",
       "  .table-result-container {\n",
       "    max-height: 300px;\n",
       "    overflow: auto;\n",
       "  }\n",
       "  table, th, td {\n",
       "    border: 1px solid black;\n",
       "    border-collapse: collapse;\n",
       "  }\n",
       "  th, td {\n",
       "    padding: 5px;\n",
       "  }\n",
       "  th {\n",
       "    text-align: left;\n",
       "  }\n",
       "</style><div class='table-result-container'><table class='table-result'><thead style='background-color: white'><tr><th>path</th><th>name</th><th>size</th><th>modificationTime</th></tr></thead><tbody><tr><td>dbfs:/user/hive/warehouse/bucketed_table/_SUCCESS</td><td>_SUCCESS</td><td>0</td><td>1733491450000</td></tr><tr><td>dbfs:/user/hive/warehouse/bucketed_table/_committed_7924222626171180252</td><td>_committed_7924222626171180252</td><td>444</td><td>1733491450000</td></tr><tr><td>dbfs:/user/hive/warehouse/bucketed_table/_started_7924222626171180252</td><td>_started_7924222626171180252</td><td>0</td><td>1733491450000</td></tr><tr><td>dbfs:/user/hive/warehouse/bucketed_table/part-00001-tid-7924222626171180252-b8316328-8dda-4c39-a59f-be7e40021a90-17-1_00003.c000.snappy.parquet</td><td>part-00001-tid-7924222626171180252-b8316328-8dda-4c39-a59f-be7e40021a90-17-1_00003.c000.snappy.parquet</td><td>1100</td><td>1733491450000</td></tr><tr><td>dbfs:/user/hive/warehouse/bucketed_table/part-00003-tid-7924222626171180252-b8316328-8dda-4c39-a59f-be7e40021a90-19-1_00000.c000.snappy.parquet</td><td>part-00003-tid-7924222626171180252-b8316328-8dda-4c39-a59f-be7e40021a90-19-1_00000.c000.snappy.parquet</td><td>1057</td><td>1733491450000</td></tr><tr><td>dbfs:/user/hive/warehouse/bucketed_table/part-00005-tid-7924222626171180252-b8316328-8dda-4c39-a59f-be7e40021a90-21-1_00003.c000.snappy.parquet</td><td>part-00005-tid-7924222626171180252-b8316328-8dda-4c39-a59f-be7e40021a90-21-1_00003.c000.snappy.parquet</td><td>1092</td><td>1733491450000</td></tr><tr><td>dbfs:/user/hive/warehouse/bucketed_table/part-00007-tid-7924222626171180252-b8316328-8dda-4c39-a59f-be7e40021a90-23-1_00002.c000.snappy.parquet</td><td>part-00007-tid-7924222626171180252-b8316328-8dda-4c39-a59f-be7e40021a90-23-1_00002.c000.snappy.parquet</td><td>1079</td><td>1733491450000</td></tr></tbody></table></div>"
      ]
     },
     "metadata": {
      "application/vnd.databricks.v1+output": {
       "addedWidgets": {},
       "aggData": [],
       "aggError": "",
       "aggOverflow": false,
       "aggSchema": [],
       "aggSeriesLimitReached": false,
       "aggType": "",
       "arguments": {},
       "columnCustomDisplayInfos": {},
       "data": [
        [
         "dbfs:/user/hive/warehouse/bucketed_table/_SUCCESS",
         "_SUCCESS",
         0,
         1733491450000
        ],
        [
         "dbfs:/user/hive/warehouse/bucketed_table/_committed_7924222626171180252",
         "_committed_7924222626171180252",
         444,
         1733491450000
        ],
        [
         "dbfs:/user/hive/warehouse/bucketed_table/_started_7924222626171180252",
         "_started_7924222626171180252",
         0,
         1733491450000
        ],
        [
         "dbfs:/user/hive/warehouse/bucketed_table/part-00001-tid-7924222626171180252-b8316328-8dda-4c39-a59f-be7e40021a90-17-1_00003.c000.snappy.parquet",
         "part-00001-tid-7924222626171180252-b8316328-8dda-4c39-a59f-be7e40021a90-17-1_00003.c000.snappy.parquet",
         1100,
         1733491450000
        ],
        [
         "dbfs:/user/hive/warehouse/bucketed_table/part-00003-tid-7924222626171180252-b8316328-8dda-4c39-a59f-be7e40021a90-19-1_00000.c000.snappy.parquet",
         "part-00003-tid-7924222626171180252-b8316328-8dda-4c39-a59f-be7e40021a90-19-1_00000.c000.snappy.parquet",
         1057,
         1733491450000
        ],
        [
         "dbfs:/user/hive/warehouse/bucketed_table/part-00005-tid-7924222626171180252-b8316328-8dda-4c39-a59f-be7e40021a90-21-1_00003.c000.snappy.parquet",
         "part-00005-tid-7924222626171180252-b8316328-8dda-4c39-a59f-be7e40021a90-21-1_00003.c000.snappy.parquet",
         1092,
         1733491450000
        ],
        [
         "dbfs:/user/hive/warehouse/bucketed_table/part-00007-tid-7924222626171180252-b8316328-8dda-4c39-a59f-be7e40021a90-23-1_00002.c000.snappy.parquet",
         "part-00007-tid-7924222626171180252-b8316328-8dda-4c39-a59f-be7e40021a90-23-1_00002.c000.snappy.parquet",
         1079,
         1733491450000
        ]
       ],
       "datasetInfos": [],
       "dbfsResultPath": null,
       "isJsonSchema": true,
       "metadata": {
        "isDbfsCommandResult": false
       },
       "overflow": false,
       "plotOptions": {
        "customPlotOptions": {},
        "displayType": "table",
        "pivotAggregation": null,
        "pivotColumns": null,
        "xColumns": null,
        "yColumns": null
       },
       "removedWidgets": [],
       "schema": [
        {
         "metadata": "{}",
         "name": "path",
         "type": "\"string\""
        },
        {
         "metadata": "{}",
         "name": "name",
         "type": "\"string\""
        },
        {
         "metadata": "{}",
         "name": "size",
         "type": "\"long\""
        },
        {
         "metadata": "{}",
         "name": "modificationTime",
         "type": "\"long\""
        }
       ],
       "type": "table"
      }
     },
     "output_type": "display_data"
    }
   ],
   "source": [
    "%fs\n",
    "ls dbfs:/user/hive/warehouse/bucketed_table/"
   ]
  },
  {
   "cell_type": "markdown",
   "metadata": {
    "application/vnd.databricks.v1+cell": {
     "cellMetadata": {},
     "inputWidgets": {},
     "nuid": "4bbd0bc8-fe93-4095-ad00-ebe137befdb4",
     "showTitle": false,
     "tableResultSettingsMap": {},
     "title": ""
    }
   },
   "source": [
    "**When to Use Bucketing:**\n",
    "- When you frequently join or aggregate on specific columns.\n",
    "- When partitioning is either impractical or leads to too many small files."
   ]
  },
  {
   "cell_type": "markdown",
   "metadata": {
    "application/vnd.databricks.v1+cell": {
     "cellMetadata": {},
     "inputWidgets": {},
     "nuid": "48829dfc-a23b-4ee2-9ef4-6e8a8b0fe698",
     "showTitle": false,
     "tableResultSettingsMap": {},
     "title": ""
    }
   },
   "source": []
  },
  {
   "cell_type": "markdown",
   "metadata": {
    "application/vnd.databricks.v1+cell": {
     "cellMetadata": {},
     "inputWidgets": {},
     "nuid": "90d48c19-f56a-4fe0-b70f-55a0f0c16e57",
     "showTitle": false,
     "tableResultSettingsMap": {},
     "title": ""
    }
   },
   "source": [
    "### Key Differences Between Partitioning and Bucketing:\n",
    "| **Feature**         | **Partitioning**                               | **Bucketing**                                |\n",
    "|---------------------|-----------------------------------------------|---------------------------------------------|\n",
    "| **Basis**           | Divides data by unique column values.         | Divides data by the hash of column values.  |\n",
    "| **Output Structure**| Creates separate directories for partitions.  | Stores all buckets in the same directory.   |\n",
    "| **Dynamic Pruning** | Supports dynamic partition pruning.           | Does not support dynamic pruning.           |\n",
    "| **Granularity**     | Based on unique values (may lead to over-partitioning). | Fixed number of buckets (user-defined). |\n",
    "| **Use Case**        | Filtering data on partition columns.          | Joining or aggregating on bucket columns.   |\n",
    "\n"
   ]
  },
  {
   "cell_type": "markdown",
   "metadata": {
    "application/vnd.databricks.v1+cell": {
     "cellMetadata": {},
     "inputWidgets": {},
     "nuid": "5d866c73-feb9-4826-a863-d890041ffecf",
     "showTitle": false,
     "tableResultSettingsMap": {},
     "title": ""
    }
   },
   "source": []
  },
  {
   "cell_type": "markdown",
   "metadata": {
    "application/vnd.databricks.v1+cell": {
     "cellMetadata": {},
     "inputWidgets": {},
     "nuid": "00d59b1d-7578-4933-bae4-f958d5040ed0",
     "showTitle": false,
     "tableResultSettingsMap": {},
     "title": ""
    }
   },
   "source": [
    "### Combining Partitioning and Bucketing\n",
    "\n",
    "You can use both techniques together for better optimization, especially when dealing with large datasets."
   ]
  },
  {
   "cell_type": "markdown",
   "metadata": {
    "application/vnd.databricks.v1+cell": {
     "cellMetadata": {},
     "inputWidgets": {},
     "nuid": "697f7cf1-f0e7-47a1-9039-18eff1feed0e",
     "showTitle": false,
     "tableResultSettingsMap": {},
     "title": ""
    }
   },
   "source": [
    "**Example: Partitioning + Bucketing**"
   ]
  },
  {
   "cell_type": "code",
   "execution_count": 0,
   "metadata": {
    "application/vnd.databricks.v1+cell": {
     "cellMetadata": {
      "byteLimit": 2048000,
      "rowLimit": 10000
     },
     "inputWidgets": {},
     "nuid": "f3019a0c-590e-47ef-91b7-ff3b6d82bbd0",
     "showTitle": false,
     "tableResultSettingsMap": {},
     "title": ""
    }
   },
   "outputs": [],
   "source": [
    "df.write.format(\"parquet\") \\\n",
    "    .partitionBy(\"Country\") \\       # Partition by Country\n",
    "    .bucketBy(4, \"Age\") \\           # Bucket within each partition by Age\n",
    "    .saveAsTable(\"partitioned_bucketed_table\")\n"
   ]
  },
  {
   "cell_type": "code",
   "execution_count": 0,
   "metadata": {
    "application/vnd.databricks.v1+cell": {
     "cellMetadata": {
      "byteLimit": 2048000,
      "rowLimit": 10000
     },
     "inputWidgets": {},
     "nuid": "8121cf07-888e-4193-95f7-1a22b53feee0",
     "showTitle": false,
     "tableResultSettingsMap": {},
     "title": ""
    }
   },
   "outputs": [
    {
     "output_type": "display_data",
     "data": {
      "text/html": [
       "<style scoped>\n",
       "  .table-result-container {\n",
       "    max-height: 300px;\n",
       "    overflow: auto;\n",
       "  }\n",
       "  table, th, td {\n",
       "    border: 1px solid black;\n",
       "    border-collapse: collapse;\n",
       "  }\n",
       "  th, td {\n",
       "    padding: 5px;\n",
       "  }\n",
       "  th {\n",
       "    text-align: left;\n",
       "  }\n",
       "</style><div class='table-result-container'><table class='table-result'><thead style='background-color: white'><tr><th>path</th><th>name</th><th>size</th><th>modificationTime</th></tr></thead><tbody><tr><td>dbfs:/user/hive/warehouse/partitioned_bucketed_table/Country=India/</td><td>Country=India/</td><td>0</td><td>0</td></tr><tr><td>dbfs:/user/hive/warehouse/partitioned_bucketed_table/Country=UK/</td><td>Country=UK/</td><td>0</td><td>0</td></tr><tr><td>dbfs:/user/hive/warehouse/partitioned_bucketed_table/Country=USA/</td><td>Country=USA/</td><td>0</td><td>0</td></tr><tr><td>dbfs:/user/hive/warehouse/partitioned_bucketed_table/_SUCCESS</td><td>_SUCCESS</td><td>0</td><td>1733491677000</td></tr></tbody></table></div>"
      ]
     },
     "metadata": {
      "application/vnd.databricks.v1+output": {
       "addedWidgets": {},
       "aggData": [],
       "aggError": "",
       "aggOverflow": false,
       "aggSchema": [],
       "aggSeriesLimitReached": false,
       "aggType": "",
       "arguments": {},
       "columnCustomDisplayInfos": {},
       "data": [
        [
         "dbfs:/user/hive/warehouse/partitioned_bucketed_table/Country=India/",
         "Country=India/",
         0,
         0
        ],
        [
         "dbfs:/user/hive/warehouse/partitioned_bucketed_table/Country=UK/",
         "Country=UK/",
         0,
         0
        ],
        [
         "dbfs:/user/hive/warehouse/partitioned_bucketed_table/Country=USA/",
         "Country=USA/",
         0,
         0
        ],
        [
         "dbfs:/user/hive/warehouse/partitioned_bucketed_table/_SUCCESS",
         "_SUCCESS",
         0,
         1733491677000
        ]
       ],
       "datasetInfos": [],
       "dbfsResultPath": null,
       "isJsonSchema": true,
       "metadata": {
        "isDbfsCommandResult": false
       },
       "overflow": false,
       "plotOptions": {
        "customPlotOptions": {},
        "displayType": "table",
        "pivotAggregation": null,
        "pivotColumns": null,
        "xColumns": null,
        "yColumns": null
       },
       "removedWidgets": [],
       "schema": [
        {
         "metadata": "{}",
         "name": "path",
         "type": "\"string\""
        },
        {
         "metadata": "{}",
         "name": "name",
         "type": "\"string\""
        },
        {
         "metadata": "{}",
         "name": "size",
         "type": "\"long\""
        },
        {
         "metadata": "{}",
         "name": "modificationTime",
         "type": "\"long\""
        }
       ],
       "type": "table"
      }
     },
     "output_type": "display_data"
    }
   ],
   "source": [
    "%fs\n",
    "ls dbfs:/user/hive/warehouse/partitioned_bucketed_table/"
   ]
  },
  {
   "cell_type": "code",
   "execution_count": 0,
   "metadata": {
    "application/vnd.databricks.v1+cell": {
     "cellMetadata": {
      "byteLimit": 2048000,
      "rowLimit": 10000
     },
     "inputWidgets": {},
     "nuid": "3abcaae2-6660-4c51-9e84-bd418af2edf5",
     "showTitle": false,
     "tableResultSettingsMap": {},
     "title": ""
    }
   },
   "outputs": [
    {
     "output_type": "display_data",
     "data": {
      "text/html": [
       "<style scoped>\n",
       "  .table-result-container {\n",
       "    max-height: 300px;\n",
       "    overflow: auto;\n",
       "  }\n",
       "  table, th, td {\n",
       "    border: 1px solid black;\n",
       "    border-collapse: collapse;\n",
       "  }\n",
       "  th, td {\n",
       "    padding: 5px;\n",
       "  }\n",
       "  th {\n",
       "    text-align: left;\n",
       "  }\n",
       "</style><div class='table-result-container'><table class='table-result'><thead style='background-color: white'><tr><th>path</th><th>name</th><th>size</th><th>modificationTime</th></tr></thead><tbody><tr><td>dbfs:/user/hive/warehouse/partitioned_bucketed_table/Country=India/_SUCCESS</td><td>_SUCCESS</td><td>0</td><td>1733491677000</td></tr><tr><td>dbfs:/user/hive/warehouse/partitioned_bucketed_table/Country=India/_committed_2687089059435324386</td><td>_committed_2687089059435324386</td><td>234</td><td>1733491677000</td></tr><tr><td>dbfs:/user/hive/warehouse/partitioned_bucketed_table/Country=India/_started_2687089059435324386</td><td>_started_2687089059435324386</td><td>0</td><td>1733491676000</td></tr><tr><td>dbfs:/user/hive/warehouse/partitioned_bucketed_table/Country=India/part-00001-tid-2687089059435324386-7386ccd7-db2c-4841-95a2-77d992f02857-41-1_00000.c000.snappy.parquet</td><td>part-00001-tid-2687089059435324386-7386ccd7-db2c-4841-95a2-77d992f02857-41-1_00000.c000.snappy.parquet</td><td>851</td><td>1733491676000</td></tr><tr><td>dbfs:/user/hive/warehouse/partitioned_bucketed_table/Country=India/part-00005-tid-2687089059435324386-7386ccd7-db2c-4841-95a2-77d992f02857-45-1_00002.c000.snappy.parquet</td><td>part-00005-tid-2687089059435324386-7386ccd7-db2c-4841-95a2-77d992f02857-45-1_00002.c000.snappy.parquet</td><td>843</td><td>1733491676000</td></tr></tbody></table></div>"
      ]
     },
     "metadata": {
      "application/vnd.databricks.v1+output": {
       "addedWidgets": {},
       "aggData": [],
       "aggError": "",
       "aggOverflow": false,
       "aggSchema": [],
       "aggSeriesLimitReached": false,
       "aggType": "",
       "arguments": {},
       "columnCustomDisplayInfos": {},
       "data": [
        [
         "dbfs:/user/hive/warehouse/partitioned_bucketed_table/Country=India/_SUCCESS",
         "_SUCCESS",
         0,
         1733491677000
        ],
        [
         "dbfs:/user/hive/warehouse/partitioned_bucketed_table/Country=India/_committed_2687089059435324386",
         "_committed_2687089059435324386",
         234,
         1733491677000
        ],
        [
         "dbfs:/user/hive/warehouse/partitioned_bucketed_table/Country=India/_started_2687089059435324386",
         "_started_2687089059435324386",
         0,
         1733491676000
        ],
        [
         "dbfs:/user/hive/warehouse/partitioned_bucketed_table/Country=India/part-00001-tid-2687089059435324386-7386ccd7-db2c-4841-95a2-77d992f02857-41-1_00000.c000.snappy.parquet",
         "part-00001-tid-2687089059435324386-7386ccd7-db2c-4841-95a2-77d992f02857-41-1_00000.c000.snappy.parquet",
         851,
         1733491676000
        ],
        [
         "dbfs:/user/hive/warehouse/partitioned_bucketed_table/Country=India/part-00005-tid-2687089059435324386-7386ccd7-db2c-4841-95a2-77d992f02857-45-1_00002.c000.snappy.parquet",
         "part-00005-tid-2687089059435324386-7386ccd7-db2c-4841-95a2-77d992f02857-45-1_00002.c000.snappy.parquet",
         843,
         1733491676000
        ]
       ],
       "datasetInfos": [],
       "dbfsResultPath": null,
       "isJsonSchema": true,
       "metadata": {
        "isDbfsCommandResult": false
       },
       "overflow": false,
       "plotOptions": {
        "customPlotOptions": {},
        "displayType": "table",
        "pivotAggregation": null,
        "pivotColumns": null,
        "xColumns": null,
        "yColumns": null
       },
       "removedWidgets": [],
       "schema": [
        {
         "metadata": "{}",
         "name": "path",
         "type": "\"string\""
        },
        {
         "metadata": "{}",
         "name": "name",
         "type": "\"string\""
        },
        {
         "metadata": "{}",
         "name": "size",
         "type": "\"long\""
        },
        {
         "metadata": "{}",
         "name": "modificationTime",
         "type": "\"long\""
        }
       ],
       "type": "table"
      }
     },
     "output_type": "display_data"
    }
   ],
   "source": [
    "%fs\n",
    "ls dbfs:/user/hive/warehouse/partitioned_bucketed_table/Country=India/"
   ]
  }
 ],
 "metadata": {
  "application/vnd.databricks.v1+notebook": {
   "dashboards": [],
   "environmentMetadata": null,
   "language": "python",
   "notebookMetadata": {
    "mostRecentlyExecutedCommandWithImplicitDF": {
     "commandId": 3426536334456838,
     "dataframes": [
      "_sqldf"
     ]
    },
    "pythonIndentUnit": 4
   },
   "notebookName": "partitioning_and_bucketing_in_pyspark",
   "widgets": {}
  }
 },
 "nbformat": 4,
 "nbformat_minor": 0
}
