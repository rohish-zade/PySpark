{
 "cells": [
  {
   "cell_type": "markdown",
   "metadata": {
    "application/vnd.databricks.v1+cell": {
     "cellMetadata": {},
     "inputWidgets": {},
     "nuid": "a057a4b3-d7ab-4710-9c0b-cb7bd1aa0024",
     "showTitle": false,
     "tableResultSettingsMap": {},
     "title": ""
    }
   },
   "source": [
    "## Joins In PySpark\n",
    "In PySpark, joins are used to combine data from two DataFrames based on a common key.\n",
    "\n",
    "The `DataFrame.join()` function provides various types of joins similar to SQL joins."
   ]
  },
  {
   "cell_type": "markdown",
   "metadata": {
    "application/vnd.databricks.v1+cell": {
     "cellMetadata": {},
     "inputWidgets": {},
     "nuid": "cc652684-dd88-4e17-9e0f-b2bba32873f0",
     "showTitle": false,
     "tableResultSettingsMap": {},
     "title": ""
    }
   },
   "source": [
    "**Synatax:**\n",
    "\n",
    "**`joined_df = df1.join(df2, join_condition, join_type)`**\n",
    "\n",
    "- `df1:` The left DataFrame.\n",
    "- `df2:` The right DataFrame.\n",
    "- `join_condition:` Column(s) to perform the join (can be a single column, list of columns, or condition).\n",
    "- `join_condition:` The type of join. Supported values\n",
    "\n",
    "\n",
    "**`result_df = df1.join(df2, on=\"key\", how=\"join_type\")`**\n",
    "- `on:` Column(s) to perform the join (can be a single column, list of columns, or condition).\n",
    "- `how:` The type of join. Supported values"
   ]
  },
  {
   "cell_type": "markdown",
   "metadata": {
    "application/vnd.databricks.v1+cell": {
     "cellMetadata": {},
     "inputWidgets": {},
     "nuid": "a252dde1-3d85-4ff7-a271-c08d84c4c976",
     "showTitle": false,
     "tableResultSettingsMap": {},
     "title": ""
    }
   },
   "source": []
  },
  {
   "cell_type": "code",
   "execution_count": 0,
   "metadata": {
    "application/vnd.databricks.v1+cell": {
     "cellMetadata": {
      "byteLimit": 2048000,
      "rowLimit": 10000
     },
     "inputWidgets": {},
     "nuid": "d655fa9f-3a8f-4138-9c6c-a5fb8ddfcbf7",
     "showTitle": false,
     "tableResultSettingsMap": {},
     "title": ""
    }
   },
   "outputs": [
    {
     "output_type": "stream",
     "name": "stdout",
     "output_type": "stream",
     "text": [
      "+-----------+-------------+-------+---------------+\n|customer_id|customer_name|address|date_of_joining|\n+-----------+-------------+-------+---------------+\n|          1|       Rohish|   Pune|     30-05-2022|\n|          2|       vikash|kolkata|     12-03-2023|\n|          3|       nikita|  delhi|     25-06-2023|\n|          4|        rahul| ranchi|     24-03-2023|\n|          5|       mahesh| jaipur|     22-03-2023|\n|          6|     prantosh|kolkata|     18-10-2022|\n|          7|        raman|  patna|     30-12-2022|\n|          8|      prakash| ranchi|     24-02-2023|\n|          9|       ragini|kolkata|     03-03-2023|\n|         10|      raushan| jaipur|     05-02-2023|\n+-----------+-------------+-------+---------------+\n\n"
     ]
    }
   ],
   "source": [
    "# Sample customer data\n",
    "customer_data = [(1,'Rohish','Pune',\"30-05-2022\"),\n",
    "(2,'vikash','kolkata',\"12-03-2023\"),\n",
    "(3,'nikita','delhi',\"25-06-2023\"),\n",
    "(4,'rahul','ranchi',\"24-03-2023\"),\n",
    "(5,'mahesh','jaipur',\"22-03-2023\"),\n",
    "(6,'prantosh','kolkata',\"18-10-2022\"),\n",
    "(7,'raman','patna',\"30-12-2022\"),\n",
    "(8,'prakash','ranchi',\"24-02-2023\"),\n",
    "(9,'ragini','kolkata',\"03-03-2023\"),\n",
    "(10,'raushan','jaipur',\"05-02-2023\")]\n",
    "\n",
    "# customer schema\n",
    "customer_schema=['customer_id','customer_name','address','date_of_joining']\n",
    "\n",
    "# customer DataFrame\n",
    "customer_df = spark.createDataFrame(customer_data, customer_schema)\n",
    "customer_df.show()"
   ]
  },
  {
   "cell_type": "code",
   "execution_count": 0,
   "metadata": {
    "application/vnd.databricks.v1+cell": {
     "cellMetadata": {
      "byteLimit": 2048000,
      "rowLimit": 10000
     },
     "inputWidgets": {},
     "nuid": "2d93d716-f66f-46a2-b38f-41648b5cbf39",
     "showTitle": false,
     "tableResultSettingsMap": {},
     "title": ""
    }
   },
   "outputs": [
    {
     "output_type": "stream",
     "name": "stdout",
     "output_type": "stream",
     "text": [
      "+-----------+----------+--------+----------------+\n|customer_id|product_id|quantity|date_of_purchase|\n+-----------+----------+--------+----------------+\n|          1|        22|      10|      01-06-2022|\n|          1|        27|       5|      03-02-2023|\n|          2|         5|       3|      01-06-2023|\n|          5|        22|       1|      22-03-2023|\n|          7|        22|       4|      03-02-2023|\n|          9|         5|       6|      03-03-2023|\n|          2|         1|      12|      15-06-2023|\n|          1|        56|       2|      25-06-2023|\n|          5|        12|       5|      15-04-2023|\n|         11|        12|      76|      12-03-2023|\n+-----------+----------+--------+----------------+\n\n"
     ]
    }
   ],
   "source": [
    "# Sample sales data\n",
    "sales_data = [(1,22,10,\"01-06-2022\"),\n",
    "(1,27,5,\"03-02-2023\"),\n",
    "(2,5,3,\"01-06-2023\"),\n",
    "(5,22,1,\"22-03-2023\"),\n",
    "(7,22,4,\"03-02-2023\"),\n",
    "(9,5,6,\"03-03-2023\"),\n",
    "(2,1,12,\"15-06-2023\"),\n",
    "(1,56,2,\"25-06-2023\"),\n",
    "(5,12,5,\"15-04-2023\"),\n",
    "(11,12,76,\"12-03-2023\")]\n",
    "\n",
    "# sales schema\n",
    "sales_schema=['customer_id','product_id','quantity','date_of_purchase']\n",
    "\n",
    "# Sales DataFrame\n",
    "sales_df = spark.createDataFrame(sales_data, sales_schema)\n",
    "sales_df.show()"
   ]
  },
  {
   "cell_type": "code",
   "execution_count": 0,
   "metadata": {
    "application/vnd.databricks.v1+cell": {
     "cellMetadata": {
      "byteLimit": 2048000,
      "rowLimit": 10000
     },
     "inputWidgets": {},
     "nuid": "73903aa5-7894-46d0-b937-4c7d3a1f6b09",
     "showTitle": false,
     "tableResultSettingsMap": {},
     "title": ""
    }
   },
   "outputs": [
    {
     "output_type": "stream",
     "name": "stdout",
     "output_type": "stream",
     "text": [
      "+---+-------+-----+\n| id|   name|price|\n+---+-------+-----+\n|  1|  fanta|   20|\n|  2|    dew|   22|\n|  5| sprite|   40|\n|  7|redbull|  100|\n| 12|  mazza|   45|\n| 22|   coke|   27|\n| 25|  limca|   21|\n| 27|  pepsi|   14|\n| 56|  sting|   10|\n+---+-------+-----+\n\n"
     ]
    }
   ],
   "source": [
    "# product sales data\n",
    "product_data = [(1, 'fanta',20),\n",
    "(2, 'dew',22),\n",
    "(5, 'sprite',40),\n",
    "(7, 'redbull',100),\n",
    "(12,'mazza',45),\n",
    "(22,'coke',27),\n",
    "(25,'limca',21),\n",
    "(27,'pepsi',14),\n",
    "(56,'sting',10)]\n",
    "\n",
    "# product sceham\n",
    "product_schema=['id','name','price']\n",
    "\n",
    "# product DataFrame\n",
    "product_df = spark.createDataFrame(product_data, product_schema)\n",
    "product_df.show()"
   ]
  },
  {
   "cell_type": "markdown",
   "metadata": {
    "application/vnd.databricks.v1+cell": {
     "cellMetadata": {},
     "inputWidgets": {},
     "nuid": "662cc0a6-0c05-445d-9d5b-6aa763a36f56",
     "showTitle": false,
     "tableResultSettingsMap": {},
     "title": ""
    }
   },
   "source": []
  },
  {
   "cell_type": "markdown",
   "metadata": {
    "application/vnd.databricks.v1+cell": {
     "cellMetadata": {},
     "inputWidgets": {},
     "nuid": "2d163409-c5ee-4a98-a224-7c0df30f9b96",
     "showTitle": false,
     "tableResultSettingsMap": {},
     "title": ""
    }
   },
   "source": [
    "### Types of Joines"
   ]
  },
  {
   "cell_type": "markdown",
   "metadata": {
    "application/vnd.databricks.v1+cell": {
     "cellMetadata": {},
     "inputWidgets": {},
     "nuid": "ec33e678-b149-4f44-ba6a-bbfa3ed6290b",
     "showTitle": false,
     "tableResultSettingsMap": {},
     "title": ""
    }
   },
   "source": [
    "#### Inner Join:\n",
    "- Returns only the rows that have matching keys in both DataFrames.\n",
    "- Rows with non-matching keys are excluded."
   ]
  },
  {
   "cell_type": "code",
   "execution_count": 0,
   "metadata": {
    "application/vnd.databricks.v1+cell": {
     "cellMetadata": {
      "byteLimit": 2048000,
      "rowLimit": 10000
     },
     "inputWidgets": {},
     "nuid": "5989c3d9-da34-4d4f-a0e5-61bcd125887c",
     "showTitle": false,
     "tableResultSettingsMap": {},
     "title": ""
    }
   },
   "outputs": [
    {
     "output_type": "stream",
     "name": "stdout",
     "output_type": "stream",
     "text": [
      "+-----------+-------------+-------+---------------+----------+--------+----------------+\n|customer_id|customer_name|address|date_of_joining|product_id|quantity|date_of_purchase|\n+-----------+-------------+-------+---------------+----------+--------+----------------+\n|          1|       Rohish|   Pune|     30-05-2022|        22|      10|      01-06-2022|\n|          1|       Rohish|   Pune|     30-05-2022|        27|       5|      03-02-2023|\n|          1|       Rohish|   Pune|     30-05-2022|        56|       2|      25-06-2023|\n|          2|       vikash|kolkata|     12-03-2023|         5|       3|      01-06-2023|\n|          2|       vikash|kolkata|     12-03-2023|         1|      12|      15-06-2023|\n|          5|       mahesh| jaipur|     22-03-2023|        22|       1|      22-03-2023|\n|          5|       mahesh| jaipur|     22-03-2023|        12|       5|      15-04-2023|\n|          7|        raman|  patna|     30-12-2022|        22|       4|      03-02-2023|\n|          9|       ragini|kolkata|     03-03-2023|         5|       6|      03-03-2023|\n+-----------+-------------+-------+---------------+----------+--------+----------------+\n\n"
     ]
    }
   ],
   "source": [
    "customer_df.join(sales_df, on='customer_id', how='inner').show()"
   ]
  },
  {
   "cell_type": "code",
   "execution_count": 0,
   "metadata": {
    "application/vnd.databricks.v1+cell": {
     "cellMetadata": {
      "byteLimit": 2048000,
      "rowLimit": 10000
     },
     "inputWidgets": {},
     "nuid": "57f43cd9-4cd2-418e-9b6f-bd9009843b93",
     "showTitle": false,
     "tableResultSettingsMap": {},
     "title": ""
    }
   },
   "outputs": [
    {
     "output_type": "stream",
     "name": "stdout",
     "output_type": "stream",
     "text": [
      "+-----------+-------------+-------+---------------+-----------+----------+--------+----------------+\n|customer_id|customer_name|address|date_of_joining|customer_id|product_id|quantity|date_of_purchase|\n+-----------+-------------+-------+---------------+-----------+----------+--------+----------------+\n|          1|       Rohish|   Pune|     30-05-2022|          1|        22|      10|      01-06-2022|\n|          1|       Rohish|   Pune|     30-05-2022|          1|        27|       5|      03-02-2023|\n|          1|       Rohish|   Pune|     30-05-2022|          1|        56|       2|      25-06-2023|\n|          2|       vikash|kolkata|     12-03-2023|          2|         5|       3|      01-06-2023|\n|          2|       vikash|kolkata|     12-03-2023|          2|         1|      12|      15-06-2023|\n|          5|       mahesh| jaipur|     22-03-2023|          5|        22|       1|      22-03-2023|\n|          5|       mahesh| jaipur|     22-03-2023|          5|        12|       5|      15-04-2023|\n|          7|        raman|  patna|     30-12-2022|          7|        22|       4|      03-02-2023|\n|          9|       ragini|kolkata|     03-03-2023|          9|         5|       6|      03-03-2023|\n+-----------+-------------+-------+---------------+-----------+----------+--------+----------------+\n\n"
     ]
    }
   ],
   "source": [
    "customer_df.join(sales_df, customer_df.customer_id==sales_df.customer_id, how='inner').show()"
   ]
  },
  {
   "cell_type": "markdown",
   "metadata": {
    "application/vnd.databricks.v1+cell": {
     "cellMetadata": {},
     "inputWidgets": {},
     "nuid": "c8c0acce-bd77-4e4a-b6aa-c9e4b13b4563",
     "showTitle": false,
     "tableResultSettingsMap": {},
     "title": ""
    }
   },
   "source": []
  },
  {
   "cell_type": "markdown",
   "metadata": {
    "application/vnd.databricks.v1+cell": {
     "cellMetadata": {},
     "inputWidgets": {},
     "nuid": "7dc1d5f6-e649-4537-bd6f-bdc1e089cbb1",
     "showTitle": false,
     "tableResultSettingsMap": {},
     "title": ""
    }
   },
   "source": [
    "#### Left Join (Left Outer Join):\n",
    "- Returns all rows from the left DataFrame and only matching rows from the right DataFrame.\n",
    "- If there’s no match, columns from the right DataFrame will have `null` values."
   ]
  },
  {
   "cell_type": "code",
   "execution_count": 0,
   "metadata": {
    "application/vnd.databricks.v1+cell": {
     "cellMetadata": {
      "byteLimit": 2048000,
      "rowLimit": 10000
     },
     "inputWidgets": {},
     "nuid": "4bb8d11d-426c-4ab7-b34d-e322f46e03bb",
     "showTitle": false,
     "tableResultSettingsMap": {},
     "title": ""
    }
   },
   "outputs": [
    {
     "output_type": "stream",
     "name": "stdout",
     "output_type": "stream",
     "text": [
      "+-----------+-------------+-------+---------------+----------+--------+----------------+\n|customer_id|customer_name|address|date_of_joining|product_id|quantity|date_of_purchase|\n+-----------+-------------+-------+---------------+----------+--------+----------------+\n|          1|       Rohish|   Pune|     30-05-2022|        56|       2|      25-06-2023|\n|          1|       Rohish|   Pune|     30-05-2022|        27|       5|      03-02-2023|\n|          1|       Rohish|   Pune|     30-05-2022|        22|      10|      01-06-2022|\n|          2|       vikash|kolkata|     12-03-2023|         1|      12|      15-06-2023|\n|          2|       vikash|kolkata|     12-03-2023|         5|       3|      01-06-2023|\n|          3|       nikita|  delhi|     25-06-2023|      null|    null|            null|\n|          5|       mahesh| jaipur|     22-03-2023|        12|       5|      15-04-2023|\n|          5|       mahesh| jaipur|     22-03-2023|        22|       1|      22-03-2023|\n|          4|        rahul| ranchi|     24-03-2023|      null|    null|            null|\n|          6|     prantosh|kolkata|     18-10-2022|      null|    null|            null|\n|          7|        raman|  patna|     30-12-2022|        22|       4|      03-02-2023|\n|          8|      prakash| ranchi|     24-02-2023|      null|    null|            null|\n|          9|       ragini|kolkata|     03-03-2023|         5|       6|      03-03-2023|\n|         10|      raushan| jaipur|     05-02-2023|      null|    null|            null|\n+-----------+-------------+-------+---------------+----------+--------+----------------+\n\n"
     ]
    }
   ],
   "source": [
    "result_left_df = customer_df.join(sales_df, on='customer_id', how='left')\n",
    "result_left_df.ashow()"
   ]
  },
  {
   "cell_type": "markdown",
   "metadata": {
    "application/vnd.databricks.v1+cell": {
     "cellMetadata": {},
     "inputWidgets": {},
     "nuid": "bfe67949-83ec-45ee-b24d-20be8ba0e86d",
     "showTitle": false,
     "tableResultSettingsMap": {},
     "title": ""
    }
   },
   "source": []
  },
  {
   "cell_type": "markdown",
   "metadata": {
    "application/vnd.databricks.v1+cell": {
     "cellMetadata": {},
     "inputWidgets": {},
     "nuid": "b265e21c-6ea2-4b61-8a1b-4918e763c413",
     "showTitle": false,
     "tableResultSettingsMap": {},
     "title": ""
    }
   },
   "source": [
    "#### Right Join ((Right Outer Join)):\n",
    "- Returns all rows from the right DataFrame and only matching rows from the left DataFrame.\n",
    "- If there’s no match, columns from the left DataFrame will have `null` values.\n"
   ]
  },
  {
   "cell_type": "code",
   "execution_count": 0,
   "metadata": {
    "application/vnd.databricks.v1+cell": {
     "cellMetadata": {
      "byteLimit": 2048000,
      "rowLimit": 10000
     },
     "inputWidgets": {},
     "nuid": "eb212b01-b10f-4487-a775-e3a6e0af9f00",
     "showTitle": false,
     "tableResultSettingsMap": {},
     "title": ""
    }
   },
   "outputs": [
    {
     "output_type": "stream",
     "name": "stdout",
     "output_type": "stream",
     "text": [
      "+-----------+-------------+-------+---------------+----------+--------+----------------+\n|customer_id|customer_name|address|date_of_joining|product_id|quantity|date_of_purchase|\n+-----------+-------------+-------+---------------+----------+--------+----------------+\n|          1|       Rohish|   Pune|     30-05-2022|        22|      10|      01-06-2022|\n|          1|       Rohish|   Pune|     30-05-2022|        27|       5|      03-02-2023|\n|          2|       vikash|kolkata|     12-03-2023|         5|       3|      01-06-2023|\n|          7|        raman|  patna|     30-12-2022|        22|       4|      03-02-2023|\n|          5|       mahesh| jaipur|     22-03-2023|        22|       1|      22-03-2023|\n|          9|       ragini|kolkata|     03-03-2023|         5|       6|      03-03-2023|\n|          2|       vikash|kolkata|     12-03-2023|         1|      12|      15-06-2023|\n|          1|       Rohish|   Pune|     30-05-2022|        56|       2|      25-06-2023|\n|          5|       mahesh| jaipur|     22-03-2023|        12|       5|      15-04-2023|\n|         11|         null|   null|           null|        12|      76|      12-03-2023|\n+-----------+-------------+-------+---------------+----------+--------+----------------+\n\n"
     ]
    }
   ],
   "source": [
    "result_right_df = customer_df.join(sales_df, on='customer_id', how='right')\n",
    "result_right_df.show()"
   ]
  },
  {
   "cell_type": "markdown",
   "metadata": {
    "application/vnd.databricks.v1+cell": {
     "cellMetadata": {},
     "inputWidgets": {},
     "nuid": "0274e38e-e54a-4771-98e8-e7b2b3711ac4",
     "showTitle": false,
     "tableResultSettingsMap": {},
     "title": ""
    }
   },
   "source": []
  },
  {
   "cell_type": "markdown",
   "metadata": {
    "application/vnd.databricks.v1+cell": {
     "cellMetadata": {},
     "inputWidgets": {},
     "nuid": "349e536e-3e50-41b5-980d-d2677ca2ad80",
     "showTitle": false,
     "tableResultSettingsMap": {},
     "title": ""
    }
   },
   "source": [
    "####  Full Join (Full Outer Join):\n",
    "- Returns all rows from both DataFrames.\n",
    "- If there’s no match in one DataFrame, the columns from that DataFrame will have `null` values."
   ]
  },
  {
   "cell_type": "code",
   "execution_count": 0,
   "metadata": {
    "application/vnd.databricks.v1+cell": {
     "cellMetadata": {
      "byteLimit": 2048000,
      "rowLimit": 10000
     },
     "inputWidgets": {},
     "nuid": "39ebe51a-5be3-47a9-80df-0f23179a61cc",
     "showTitle": false,
     "tableResultSettingsMap": {},
     "title": ""
    }
   },
   "outputs": [
    {
     "output_type": "stream",
     "name": "stdout",
     "output_type": "stream",
     "text": [
      "+-----------+-------------+-------+---------------+----------+--------+----------------+\n|customer_id|customer_name|address|date_of_joining|product_id|quantity|date_of_purchase|\n+-----------+-------------+-------+---------------+----------+--------+----------------+\n|          1|       Rohish|   Pune|     30-05-2022|        22|      10|      01-06-2022|\n|          1|       Rohish|   Pune|     30-05-2022|        27|       5|      03-02-2023|\n|          1|       Rohish|   Pune|     30-05-2022|        56|       2|      25-06-2023|\n|          2|       vikash|kolkata|     12-03-2023|         5|       3|      01-06-2023|\n|          2|       vikash|kolkata|     12-03-2023|         1|      12|      15-06-2023|\n|          3|       nikita|  delhi|     25-06-2023|      null|    null|            null|\n|          4|        rahul| ranchi|     24-03-2023|      null|    null|            null|\n|          5|       mahesh| jaipur|     22-03-2023|        22|       1|      22-03-2023|\n|          5|       mahesh| jaipur|     22-03-2023|        12|       5|      15-04-2023|\n|          6|     prantosh|kolkata|     18-10-2022|      null|    null|            null|\n|          7|        raman|  patna|     30-12-2022|        22|       4|      03-02-2023|\n|          8|      prakash| ranchi|     24-02-2023|      null|    null|            null|\n|          9|       ragini|kolkata|     03-03-2023|         5|       6|      03-03-2023|\n|         10|      raushan| jaipur|     05-02-2023|      null|    null|            null|\n|         11|         null|   null|           null|        12|      76|      12-03-2023|\n+-----------+-------------+-------+---------------+----------+--------+----------------+\n\n"
     ]
    }
   ],
   "source": [
    "result_ful_df = customer_df.join(sales_df, on='customer_id', how='full')\n",
    "result_ful_df.show()"
   ]
  },
  {
   "cell_type": "markdown",
   "metadata": {
    "application/vnd.databricks.v1+cell": {
     "cellMetadata": {},
     "inputWidgets": {},
     "nuid": "715ac2c2-06d6-4d7c-83f8-4b5efda144bb",
     "showTitle": false,
     "tableResultSettingsMap": {},
     "title": ""
    }
   },
   "source": []
  },
  {
   "cell_type": "markdown",
   "metadata": {
    "application/vnd.databricks.v1+cell": {
     "cellMetadata": {},
     "inputWidgets": {},
     "nuid": "d9b9979d-98db-4ffe-84e0-6b8ccde6b39f",
     "showTitle": false,
     "tableResultSettingsMap": {},
     "title": ""
    }
   },
   "source": [
    "#### Left Semi Join:\n",
    "- Returns only rows from the left DataFrame where there is a match in the right DataFrame.\n",
    "- Unlike other joins, it does not include columns from the right DataFrame."
   ]
  },
  {
   "cell_type": "code",
   "execution_count": 0,
   "metadata": {
    "application/vnd.databricks.v1+cell": {
     "cellMetadata": {
      "byteLimit": 2048000,
      "rowLimit": 10000
     },
     "inputWidgets": {},
     "nuid": "6a6dc020-544b-47ce-b56c-e6e96f043c77",
     "showTitle": false,
     "tableResultSettingsMap": {},
     "title": ""
    }
   },
   "outputs": [
    {
     "output_type": "stream",
     "name": "stdout",
     "output_type": "stream",
     "text": [
      "+-----------+-------------+-------+---------------+\n|customer_id|customer_name|address|date_of_joining|\n+-----------+-------------+-------+---------------+\n|          1|       Rohish|   Pune|     30-05-2022|\n|          2|       vikash|kolkata|     12-03-2023|\n|          5|       mahesh| jaipur|     22-03-2023|\n|          7|        raman|  patna|     30-12-2022|\n|          9|       ragini|kolkata|     03-03-2023|\n+-----------+-------------+-------+---------------+\n\n"
     ]
    }
   ],
   "source": [
    "result_left_semi_df = customer_df.join(sales_df, on='customer_id', how='left_semi')\n",
    "result_left_semi_df.show()\n",
    "\n",
    "# Explanation: Only rows from customer_df with matching customer_id in sales_df are returned."
   ]
  },
  {
   "cell_type": "markdown",
   "metadata": {
    "application/vnd.databricks.v1+cell": {
     "cellMetadata": {},
     "inputWidgets": {},
     "nuid": "31f11b76-80ec-4a3a-ad97-72fd9717a62e",
     "showTitle": false,
     "tableResultSettingsMap": {},
     "title": ""
    }
   },
   "source": []
  },
  {
   "cell_type": "markdown",
   "metadata": {
    "application/vnd.databricks.v1+cell": {
     "cellMetadata": {},
     "inputWidgets": {},
     "nuid": "705bdc5b-dc1c-4f13-8155-05da38edfff2",
     "showTitle": false,
     "tableResultSettingsMap": {},
     "title": ""
    }
   },
   "source": [
    "#### Left Anti Join:\n",
    "- Returns only rows from the left DataFrame that do not have a match in the right DataFrame.\n",
    "- Like left_semi, no columns from the right DataFrame are included."
   ]
  },
  {
   "cell_type": "code",
   "execution_count": 0,
   "metadata": {
    "application/vnd.databricks.v1+cell": {
     "cellMetadata": {
      "byteLimit": 2048000,
      "rowLimit": 10000
     },
     "inputWidgets": {},
     "nuid": "d77eb635-aba6-49bc-ae17-cc52b57ccbbb",
     "showTitle": false,
     "tableResultSettingsMap": {},
     "title": ""
    }
   },
   "outputs": [
    {
     "output_type": "stream",
     "name": "stdout",
     "output_type": "stream",
     "text": [
      "+-----------+-------------+-------+---------------+\n|customer_id|customer_name|address|date_of_joining|\n+-----------+-------------+-------+---------------+\n|          3|       nikita|  delhi|     25-06-2023|\n|          4|        rahul| ranchi|     24-03-2023|\n|          6|     prantosh|kolkata|     18-10-2022|\n|          8|      prakash| ranchi|     24-02-2023|\n|         10|      raushan| jaipur|     05-02-2023|\n+-----------+-------------+-------+---------------+\n\n"
     ]
    }
   ],
   "source": [
    "result_left_anti_df = customer_df.join(sales_df, on='customer_id', how='left_anti')\n",
    "result_left_anti_df.show()\n",
    "\n",
    "# Explanation: Only rows from customer_df with no matching customer_id in sales_df are returned."
   ]
  },
  {
   "cell_type": "markdown",
   "metadata": {
    "application/vnd.databricks.v1+cell": {
     "cellMetadata": {},
     "inputWidgets": {},
     "nuid": "f40906e4-9fea-4bcd-99ba-48cd03434c44",
     "showTitle": false,
     "tableResultSettingsMap": {},
     "title": ""
    }
   },
   "source": []
  },
  {
   "cell_type": "markdown",
   "metadata": {
    "application/vnd.databricks.v1+cell": {
     "cellMetadata": {},
     "inputWidgets": {},
     "nuid": "29413d46-c127-44ae-a8d8-2a3d33871f1f",
     "showTitle": false,
     "tableResultSettingsMap": {},
     "title": ""
    }
   },
   "source": [
    "#### Cross Join (Cartesian Join):\n",
    "- Returns the Cartesian product of the two DataFrames.\n",
    "- Each row in the left DataFrame is joined with all rows in the right DataFrame.\n",
    "\n",
    "**🚨 Caution: Cross joins can generate very large datasets.**"
   ]
  },
  {
   "cell_type": "code",
   "execution_count": 0,
   "metadata": {
    "application/vnd.databricks.v1+cell": {
     "cellMetadata": {
      "byteLimit": 2048000,
      "rowLimit": 10000
     },
     "inputWidgets": {},
     "nuid": "c36d291d-1db0-4a7b-9c03-708badaddf3f",
     "showTitle": false,
     "tableResultSettingsMap": {},
     "title": ""
    }
   },
   "outputs": [
    {
     "output_type": "display_data",
     "data": {
      "text/html": [
       "<style scoped>\n",
       "  .table-result-container {\n",
       "    max-height: 300px;\n",
       "    overflow: auto;\n",
       "  }\n",
       "  table, th, td {\n",
       "    border: 1px solid black;\n",
       "    border-collapse: collapse;\n",
       "  }\n",
       "  th, td {\n",
       "    padding: 5px;\n",
       "  }\n",
       "  th {\n",
       "    text-align: left;\n",
       "  }\n",
       "</style><div class='table-result-container'><table class='table-result'><thead style='background-color: white'><tr><th>customer_id</th><th>customer_name</th><th>address</th><th>date_of_joining</th><th>customer_id</th><th>product_id</th><th>quantity</th><th>date_of_purchase</th></tr></thead><tbody><tr><td>1</td><td>Rohish</td><td>Pune</td><td>30-05-2022</td><td>1</td><td>22</td><td>10</td><td>01-06-2022</td></tr><tr><td>1</td><td>Rohish</td><td>Pune</td><td>30-05-2022</td><td>1</td><td>27</td><td>5</td><td>03-02-2023</td></tr><tr><td>1</td><td>Rohish</td><td>Pune</td><td>30-05-2022</td><td>2</td><td>5</td><td>3</td><td>01-06-2023</td></tr><tr><td>1</td><td>Rohish</td><td>Pune</td><td>30-05-2022</td><td>5</td><td>22</td><td>1</td><td>22-03-2023</td></tr><tr><td>1</td><td>Rohish</td><td>Pune</td><td>30-05-2022</td><td>7</td><td>22</td><td>4</td><td>03-02-2023</td></tr><tr><td>1</td><td>Rohish</td><td>Pune</td><td>30-05-2022</td><td>9</td><td>5</td><td>6</td><td>03-03-2023</td></tr><tr><td>1</td><td>Rohish</td><td>Pune</td><td>30-05-2022</td><td>2</td><td>1</td><td>12</td><td>15-06-2023</td></tr><tr><td>1</td><td>Rohish</td><td>Pune</td><td>30-05-2022</td><td>1</td><td>56</td><td>2</td><td>25-06-2023</td></tr><tr><td>1</td><td>Rohish</td><td>Pune</td><td>30-05-2022</td><td>5</td><td>12</td><td>5</td><td>15-04-2023</td></tr><tr><td>1</td><td>Rohish</td><td>Pune</td><td>30-05-2022</td><td>11</td><td>12</td><td>76</td><td>12-03-2023</td></tr><tr><td>2</td><td>vikash</td><td>kolkata</td><td>12-03-2023</td><td>1</td><td>22</td><td>10</td><td>01-06-2022</td></tr><tr><td>2</td><td>vikash</td><td>kolkata</td><td>12-03-2023</td><td>1</td><td>27</td><td>5</td><td>03-02-2023</td></tr><tr><td>2</td><td>vikash</td><td>kolkata</td><td>12-03-2023</td><td>2</td><td>5</td><td>3</td><td>01-06-2023</td></tr><tr><td>2</td><td>vikash</td><td>kolkata</td><td>12-03-2023</td><td>5</td><td>22</td><td>1</td><td>22-03-2023</td></tr><tr><td>2</td><td>vikash</td><td>kolkata</td><td>12-03-2023</td><td>7</td><td>22</td><td>4</td><td>03-02-2023</td></tr><tr><td>2</td><td>vikash</td><td>kolkata</td><td>12-03-2023</td><td>9</td><td>5</td><td>6</td><td>03-03-2023</td></tr><tr><td>2</td><td>vikash</td><td>kolkata</td><td>12-03-2023</td><td>2</td><td>1</td><td>12</td><td>15-06-2023</td></tr><tr><td>2</td><td>vikash</td><td>kolkata</td><td>12-03-2023</td><td>1</td><td>56</td><td>2</td><td>25-06-2023</td></tr><tr><td>2</td><td>vikash</td><td>kolkata</td><td>12-03-2023</td><td>5</td><td>12</td><td>5</td><td>15-04-2023</td></tr><tr><td>2</td><td>vikash</td><td>kolkata</td><td>12-03-2023</td><td>11</td><td>12</td><td>76</td><td>12-03-2023</td></tr><tr><td>3</td><td>nikita</td><td>delhi</td><td>25-06-2023</td><td>1</td><td>22</td><td>10</td><td>01-06-2022</td></tr><tr><td>3</td><td>nikita</td><td>delhi</td><td>25-06-2023</td><td>1</td><td>27</td><td>5</td><td>03-02-2023</td></tr><tr><td>3</td><td>nikita</td><td>delhi</td><td>25-06-2023</td><td>2</td><td>5</td><td>3</td><td>01-06-2023</td></tr><tr><td>3</td><td>nikita</td><td>delhi</td><td>25-06-2023</td><td>5</td><td>22</td><td>1</td><td>22-03-2023</td></tr><tr><td>3</td><td>nikita</td><td>delhi</td><td>25-06-2023</td><td>7</td><td>22</td><td>4</td><td>03-02-2023</td></tr><tr><td>3</td><td>nikita</td><td>delhi</td><td>25-06-2023</td><td>9</td><td>5</td><td>6</td><td>03-03-2023</td></tr><tr><td>3</td><td>nikita</td><td>delhi</td><td>25-06-2023</td><td>2</td><td>1</td><td>12</td><td>15-06-2023</td></tr><tr><td>3</td><td>nikita</td><td>delhi</td><td>25-06-2023</td><td>1</td><td>56</td><td>2</td><td>25-06-2023</td></tr><tr><td>3</td><td>nikita</td><td>delhi</td><td>25-06-2023</td><td>5</td><td>12</td><td>5</td><td>15-04-2023</td></tr><tr><td>3</td><td>nikita</td><td>delhi</td><td>25-06-2023</td><td>11</td><td>12</td><td>76</td><td>12-03-2023</td></tr><tr><td>4</td><td>rahul</td><td>ranchi</td><td>24-03-2023</td><td>1</td><td>22</td><td>10</td><td>01-06-2022</td></tr><tr><td>5</td><td>mahesh</td><td>jaipur</td><td>22-03-2023</td><td>1</td><td>22</td><td>10</td><td>01-06-2022</td></tr><tr><td>4</td><td>rahul</td><td>ranchi</td><td>24-03-2023</td><td>1</td><td>27</td><td>5</td><td>03-02-2023</td></tr><tr><td>5</td><td>mahesh</td><td>jaipur</td><td>22-03-2023</td><td>1</td><td>27</td><td>5</td><td>03-02-2023</td></tr><tr><td>4</td><td>rahul</td><td>ranchi</td><td>24-03-2023</td><td>2</td><td>5</td><td>3</td><td>01-06-2023</td></tr><tr><td>5</td><td>mahesh</td><td>jaipur</td><td>22-03-2023</td><td>2</td><td>5</td><td>3</td><td>01-06-2023</td></tr><tr><td>4</td><td>rahul</td><td>ranchi</td><td>24-03-2023</td><td>5</td><td>22</td><td>1</td><td>22-03-2023</td></tr><tr><td>4</td><td>rahul</td><td>ranchi</td><td>24-03-2023</td><td>7</td><td>22</td><td>4</td><td>03-02-2023</td></tr><tr><td>5</td><td>mahesh</td><td>jaipur</td><td>22-03-2023</td><td>5</td><td>22</td><td>1</td><td>22-03-2023</td></tr><tr><td>5</td><td>mahesh</td><td>jaipur</td><td>22-03-2023</td><td>7</td><td>22</td><td>4</td><td>03-02-2023</td></tr><tr><td>4</td><td>rahul</td><td>ranchi</td><td>24-03-2023</td><td>9</td><td>5</td><td>6</td><td>03-03-2023</td></tr><tr><td>5</td><td>mahesh</td><td>jaipur</td><td>22-03-2023</td><td>9</td><td>5</td><td>6</td><td>03-03-2023</td></tr><tr><td>4</td><td>rahul</td><td>ranchi</td><td>24-03-2023</td><td>2</td><td>1</td><td>12</td><td>15-06-2023</td></tr><tr><td>5</td><td>mahesh</td><td>jaipur</td><td>22-03-2023</td><td>2</td><td>1</td><td>12</td><td>15-06-2023</td></tr><tr><td>4</td><td>rahul</td><td>ranchi</td><td>24-03-2023</td><td>1</td><td>56</td><td>2</td><td>25-06-2023</td></tr><tr><td>5</td><td>mahesh</td><td>jaipur</td><td>22-03-2023</td><td>1</td><td>56</td><td>2</td><td>25-06-2023</td></tr><tr><td>4</td><td>rahul</td><td>ranchi</td><td>24-03-2023</td><td>5</td><td>12</td><td>5</td><td>15-04-2023</td></tr><tr><td>4</td><td>rahul</td><td>ranchi</td><td>24-03-2023</td><td>11</td><td>12</td><td>76</td><td>12-03-2023</td></tr><tr><td>5</td><td>mahesh</td><td>jaipur</td><td>22-03-2023</td><td>5</td><td>12</td><td>5</td><td>15-04-2023</td></tr><tr><td>5</td><td>mahesh</td><td>jaipur</td><td>22-03-2023</td><td>11</td><td>12</td><td>76</td><td>12-03-2023</td></tr><tr><td>6</td><td>prantosh</td><td>kolkata</td><td>18-10-2022</td><td>1</td><td>22</td><td>10</td><td>01-06-2022</td></tr><tr><td>6</td><td>prantosh</td><td>kolkata</td><td>18-10-2022</td><td>1</td><td>27</td><td>5</td><td>03-02-2023</td></tr><tr><td>6</td><td>prantosh</td><td>kolkata</td><td>18-10-2022</td><td>2</td><td>5</td><td>3</td><td>01-06-2023</td></tr><tr><td>6</td><td>prantosh</td><td>kolkata</td><td>18-10-2022</td><td>5</td><td>22</td><td>1</td><td>22-03-2023</td></tr><tr><td>6</td><td>prantosh</td><td>kolkata</td><td>18-10-2022</td><td>7</td><td>22</td><td>4</td><td>03-02-2023</td></tr><tr><td>6</td><td>prantosh</td><td>kolkata</td><td>18-10-2022</td><td>9</td><td>5</td><td>6</td><td>03-03-2023</td></tr><tr><td>6</td><td>prantosh</td><td>kolkata</td><td>18-10-2022</td><td>2</td><td>1</td><td>12</td><td>15-06-2023</td></tr><tr><td>6</td><td>prantosh</td><td>kolkata</td><td>18-10-2022</td><td>1</td><td>56</td><td>2</td><td>25-06-2023</td></tr><tr><td>6</td><td>prantosh</td><td>kolkata</td><td>18-10-2022</td><td>5</td><td>12</td><td>5</td><td>15-04-2023</td></tr><tr><td>6</td><td>prantosh</td><td>kolkata</td><td>18-10-2022</td><td>11</td><td>12</td><td>76</td><td>12-03-2023</td></tr><tr><td>7</td><td>raman</td><td>patna</td><td>30-12-2022</td><td>1</td><td>22</td><td>10</td><td>01-06-2022</td></tr><tr><td>7</td><td>raman</td><td>patna</td><td>30-12-2022</td><td>1</td><td>27</td><td>5</td><td>03-02-2023</td></tr><tr><td>7</td><td>raman</td><td>patna</td><td>30-12-2022</td><td>2</td><td>5</td><td>3</td><td>01-06-2023</td></tr><tr><td>7</td><td>raman</td><td>patna</td><td>30-12-2022</td><td>5</td><td>22</td><td>1</td><td>22-03-2023</td></tr><tr><td>7</td><td>raman</td><td>patna</td><td>30-12-2022</td><td>7</td><td>22</td><td>4</td><td>03-02-2023</td></tr><tr><td>7</td><td>raman</td><td>patna</td><td>30-12-2022</td><td>9</td><td>5</td><td>6</td><td>03-03-2023</td></tr><tr><td>7</td><td>raman</td><td>patna</td><td>30-12-2022</td><td>2</td><td>1</td><td>12</td><td>15-06-2023</td></tr><tr><td>7</td><td>raman</td><td>patna</td><td>30-12-2022</td><td>1</td><td>56</td><td>2</td><td>25-06-2023</td></tr><tr><td>7</td><td>raman</td><td>patna</td><td>30-12-2022</td><td>5</td><td>12</td><td>5</td><td>15-04-2023</td></tr><tr><td>7</td><td>raman</td><td>patna</td><td>30-12-2022</td><td>11</td><td>12</td><td>76</td><td>12-03-2023</td></tr><tr><td>8</td><td>prakash</td><td>ranchi</td><td>24-02-2023</td><td>1</td><td>22</td><td>10</td><td>01-06-2022</td></tr><tr><td>8</td><td>prakash</td><td>ranchi</td><td>24-02-2023</td><td>1</td><td>27</td><td>5</td><td>03-02-2023</td></tr><tr><td>8</td><td>prakash</td><td>ranchi</td><td>24-02-2023</td><td>2</td><td>5</td><td>3</td><td>01-06-2023</td></tr><tr><td>8</td><td>prakash</td><td>ranchi</td><td>24-02-2023</td><td>5</td><td>22</td><td>1</td><td>22-03-2023</td></tr><tr><td>8</td><td>prakash</td><td>ranchi</td><td>24-02-2023</td><td>7</td><td>22</td><td>4</td><td>03-02-2023</td></tr><tr><td>8</td><td>prakash</td><td>ranchi</td><td>24-02-2023</td><td>9</td><td>5</td><td>6</td><td>03-03-2023</td></tr><tr><td>8</td><td>prakash</td><td>ranchi</td><td>24-02-2023</td><td>2</td><td>1</td><td>12</td><td>15-06-2023</td></tr><tr><td>8</td><td>prakash</td><td>ranchi</td><td>24-02-2023</td><td>1</td><td>56</td><td>2</td><td>25-06-2023</td></tr><tr><td>8</td><td>prakash</td><td>ranchi</td><td>24-02-2023</td><td>5</td><td>12</td><td>5</td><td>15-04-2023</td></tr><tr><td>8</td><td>prakash</td><td>ranchi</td><td>24-02-2023</td><td>11</td><td>12</td><td>76</td><td>12-03-2023</td></tr><tr><td>9</td><td>ragini</td><td>kolkata</td><td>03-03-2023</td><td>1</td><td>22</td><td>10</td><td>01-06-2022</td></tr><tr><td>10</td><td>raushan</td><td>jaipur</td><td>05-02-2023</td><td>1</td><td>22</td><td>10</td><td>01-06-2022</td></tr><tr><td>9</td><td>ragini</td><td>kolkata</td><td>03-03-2023</td><td>1</td><td>27</td><td>5</td><td>03-02-2023</td></tr><tr><td>10</td><td>raushan</td><td>jaipur</td><td>05-02-2023</td><td>1</td><td>27</td><td>5</td><td>03-02-2023</td></tr><tr><td>9</td><td>ragini</td><td>kolkata</td><td>03-03-2023</td><td>2</td><td>5</td><td>3</td><td>01-06-2023</td></tr><tr><td>10</td><td>raushan</td><td>jaipur</td><td>05-02-2023</td><td>2</td><td>5</td><td>3</td><td>01-06-2023</td></tr><tr><td>9</td><td>ragini</td><td>kolkata</td><td>03-03-2023</td><td>5</td><td>22</td><td>1</td><td>22-03-2023</td></tr><tr><td>9</td><td>ragini</td><td>kolkata</td><td>03-03-2023</td><td>7</td><td>22</td><td>4</td><td>03-02-2023</td></tr><tr><td>10</td><td>raushan</td><td>jaipur</td><td>05-02-2023</td><td>5</td><td>22</td><td>1</td><td>22-03-2023</td></tr><tr><td>10</td><td>raushan</td><td>jaipur</td><td>05-02-2023</td><td>7</td><td>22</td><td>4</td><td>03-02-2023</td></tr><tr><td>9</td><td>ragini</td><td>kolkata</td><td>03-03-2023</td><td>9</td><td>5</td><td>6</td><td>03-03-2023</td></tr><tr><td>10</td><td>raushan</td><td>jaipur</td><td>05-02-2023</td><td>9</td><td>5</td><td>6</td><td>03-03-2023</td></tr><tr><td>9</td><td>ragini</td><td>kolkata</td><td>03-03-2023</td><td>2</td><td>1</td><td>12</td><td>15-06-2023</td></tr><tr><td>10</td><td>raushan</td><td>jaipur</td><td>05-02-2023</td><td>2</td><td>1</td><td>12</td><td>15-06-2023</td></tr><tr><td>9</td><td>ragini</td><td>kolkata</td><td>03-03-2023</td><td>1</td><td>56</td><td>2</td><td>25-06-2023</td></tr><tr><td>10</td><td>raushan</td><td>jaipur</td><td>05-02-2023</td><td>1</td><td>56</td><td>2</td><td>25-06-2023</td></tr><tr><td>9</td><td>ragini</td><td>kolkata</td><td>03-03-2023</td><td>5</td><td>12</td><td>5</td><td>15-04-2023</td></tr><tr><td>9</td><td>ragini</td><td>kolkata</td><td>03-03-2023</td><td>11</td><td>12</td><td>76</td><td>12-03-2023</td></tr><tr><td>10</td><td>raushan</td><td>jaipur</td><td>05-02-2023</td><td>5</td><td>12</td><td>5</td><td>15-04-2023</td></tr><tr><td>10</td><td>raushan</td><td>jaipur</td><td>05-02-2023</td><td>11</td><td>12</td><td>76</td><td>12-03-2023</td></tr></tbody></table></div>"
      ]
     },
     "metadata": {
      "application/vnd.databricks.v1+output": {
       "addedWidgets": {},
       "aggData": [],
       "aggError": "",
       "aggOverflow": false,
       "aggSchema": [],
       "aggSeriesLimitReached": false,
       "aggType": "",
       "arguments": {},
       "columnCustomDisplayInfos": {},
       "data": [
        [
         1,
         "Rohish",
         "Pune",
         "30-05-2022",
         1,
         22,
         10,
         "01-06-2022"
        ],
        [
         1,
         "Rohish",
         "Pune",
         "30-05-2022",
         1,
         27,
         5,
         "03-02-2023"
        ],
        [
         1,
         "Rohish",
         "Pune",
         "30-05-2022",
         2,
         5,
         3,
         "01-06-2023"
        ],
        [
         1,
         "Rohish",
         "Pune",
         "30-05-2022",
         5,
         22,
         1,
         "22-03-2023"
        ],
        [
         1,
         "Rohish",
         "Pune",
         "30-05-2022",
         7,
         22,
         4,
         "03-02-2023"
        ],
        [
         1,
         "Rohish",
         "Pune",
         "30-05-2022",
         9,
         5,
         6,
         "03-03-2023"
        ],
        [
         1,
         "Rohish",
         "Pune",
         "30-05-2022",
         2,
         1,
         12,
         "15-06-2023"
        ],
        [
         1,
         "Rohish",
         "Pune",
         "30-05-2022",
         1,
         56,
         2,
         "25-06-2023"
        ],
        [
         1,
         "Rohish",
         "Pune",
         "30-05-2022",
         5,
         12,
         5,
         "15-04-2023"
        ],
        [
         1,
         "Rohish",
         "Pune",
         "30-05-2022",
         11,
         12,
         76,
         "12-03-2023"
        ],
        [
         2,
         "vikash",
         "kolkata",
         "12-03-2023",
         1,
         22,
         10,
         "01-06-2022"
        ],
        [
         2,
         "vikash",
         "kolkata",
         "12-03-2023",
         1,
         27,
         5,
         "03-02-2023"
        ],
        [
         2,
         "vikash",
         "kolkata",
         "12-03-2023",
         2,
         5,
         3,
         "01-06-2023"
        ],
        [
         2,
         "vikash",
         "kolkata",
         "12-03-2023",
         5,
         22,
         1,
         "22-03-2023"
        ],
        [
         2,
         "vikash",
         "kolkata",
         "12-03-2023",
         7,
         22,
         4,
         "03-02-2023"
        ],
        [
         2,
         "vikash",
         "kolkata",
         "12-03-2023",
         9,
         5,
         6,
         "03-03-2023"
        ],
        [
         2,
         "vikash",
         "kolkata",
         "12-03-2023",
         2,
         1,
         12,
         "15-06-2023"
        ],
        [
         2,
         "vikash",
         "kolkata",
         "12-03-2023",
         1,
         56,
         2,
         "25-06-2023"
        ],
        [
         2,
         "vikash",
         "kolkata",
         "12-03-2023",
         5,
         12,
         5,
         "15-04-2023"
        ],
        [
         2,
         "vikash",
         "kolkata",
         "12-03-2023",
         11,
         12,
         76,
         "12-03-2023"
        ],
        [
         3,
         "nikita",
         "delhi",
         "25-06-2023",
         1,
         22,
         10,
         "01-06-2022"
        ],
        [
         3,
         "nikita",
         "delhi",
         "25-06-2023",
         1,
         27,
         5,
         "03-02-2023"
        ],
        [
         3,
         "nikita",
         "delhi",
         "25-06-2023",
         2,
         5,
         3,
         "01-06-2023"
        ],
        [
         3,
         "nikita",
         "delhi",
         "25-06-2023",
         5,
         22,
         1,
         "22-03-2023"
        ],
        [
         3,
         "nikita",
         "delhi",
         "25-06-2023",
         7,
         22,
         4,
         "03-02-2023"
        ],
        [
         3,
         "nikita",
         "delhi",
         "25-06-2023",
         9,
         5,
         6,
         "03-03-2023"
        ],
        [
         3,
         "nikita",
         "delhi",
         "25-06-2023",
         2,
         1,
         12,
         "15-06-2023"
        ],
        [
         3,
         "nikita",
         "delhi",
         "25-06-2023",
         1,
         56,
         2,
         "25-06-2023"
        ],
        [
         3,
         "nikita",
         "delhi",
         "25-06-2023",
         5,
         12,
         5,
         "15-04-2023"
        ],
        [
         3,
         "nikita",
         "delhi",
         "25-06-2023",
         11,
         12,
         76,
         "12-03-2023"
        ],
        [
         4,
         "rahul",
         "ranchi",
         "24-03-2023",
         1,
         22,
         10,
         "01-06-2022"
        ],
        [
         5,
         "mahesh",
         "jaipur",
         "22-03-2023",
         1,
         22,
         10,
         "01-06-2022"
        ],
        [
         4,
         "rahul",
         "ranchi",
         "24-03-2023",
         1,
         27,
         5,
         "03-02-2023"
        ],
        [
         5,
         "mahesh",
         "jaipur",
         "22-03-2023",
         1,
         27,
         5,
         "03-02-2023"
        ],
        [
         4,
         "rahul",
         "ranchi",
         "24-03-2023",
         2,
         5,
         3,
         "01-06-2023"
        ],
        [
         5,
         "mahesh",
         "jaipur",
         "22-03-2023",
         2,
         5,
         3,
         "01-06-2023"
        ],
        [
         4,
         "rahul",
         "ranchi",
         "24-03-2023",
         5,
         22,
         1,
         "22-03-2023"
        ],
        [
         4,
         "rahul",
         "ranchi",
         "24-03-2023",
         7,
         22,
         4,
         "03-02-2023"
        ],
        [
         5,
         "mahesh",
         "jaipur",
         "22-03-2023",
         5,
         22,
         1,
         "22-03-2023"
        ],
        [
         5,
         "mahesh",
         "jaipur",
         "22-03-2023",
         7,
         22,
         4,
         "03-02-2023"
        ],
        [
         4,
         "rahul",
         "ranchi",
         "24-03-2023",
         9,
         5,
         6,
         "03-03-2023"
        ],
        [
         5,
         "mahesh",
         "jaipur",
         "22-03-2023",
         9,
         5,
         6,
         "03-03-2023"
        ],
        [
         4,
         "rahul",
         "ranchi",
         "24-03-2023",
         2,
         1,
         12,
         "15-06-2023"
        ],
        [
         5,
         "mahesh",
         "jaipur",
         "22-03-2023",
         2,
         1,
         12,
         "15-06-2023"
        ],
        [
         4,
         "rahul",
         "ranchi",
         "24-03-2023",
         1,
         56,
         2,
         "25-06-2023"
        ],
        [
         5,
         "mahesh",
         "jaipur",
         "22-03-2023",
         1,
         56,
         2,
         "25-06-2023"
        ],
        [
         4,
         "rahul",
         "ranchi",
         "24-03-2023",
         5,
         12,
         5,
         "15-04-2023"
        ],
        [
         4,
         "rahul",
         "ranchi",
         "24-03-2023",
         11,
         12,
         76,
         "12-03-2023"
        ],
        [
         5,
         "mahesh",
         "jaipur",
         "22-03-2023",
         5,
         12,
         5,
         "15-04-2023"
        ],
        [
         5,
         "mahesh",
         "jaipur",
         "22-03-2023",
         11,
         12,
         76,
         "12-03-2023"
        ],
        [
         6,
         "prantosh",
         "kolkata",
         "18-10-2022",
         1,
         22,
         10,
         "01-06-2022"
        ],
        [
         6,
         "prantosh",
         "kolkata",
         "18-10-2022",
         1,
         27,
         5,
         "03-02-2023"
        ],
        [
         6,
         "prantosh",
         "kolkata",
         "18-10-2022",
         2,
         5,
         3,
         "01-06-2023"
        ],
        [
         6,
         "prantosh",
         "kolkata",
         "18-10-2022",
         5,
         22,
         1,
         "22-03-2023"
        ],
        [
         6,
         "prantosh",
         "kolkata",
         "18-10-2022",
         7,
         22,
         4,
         "03-02-2023"
        ],
        [
         6,
         "prantosh",
         "kolkata",
         "18-10-2022",
         9,
         5,
         6,
         "03-03-2023"
        ],
        [
         6,
         "prantosh",
         "kolkata",
         "18-10-2022",
         2,
         1,
         12,
         "15-06-2023"
        ],
        [
         6,
         "prantosh",
         "kolkata",
         "18-10-2022",
         1,
         56,
         2,
         "25-06-2023"
        ],
        [
         6,
         "prantosh",
         "kolkata",
         "18-10-2022",
         5,
         12,
         5,
         "15-04-2023"
        ],
        [
         6,
         "prantosh",
         "kolkata",
         "18-10-2022",
         11,
         12,
         76,
         "12-03-2023"
        ],
        [
         7,
         "raman",
         "patna",
         "30-12-2022",
         1,
         22,
         10,
         "01-06-2022"
        ],
        [
         7,
         "raman",
         "patna",
         "30-12-2022",
         1,
         27,
         5,
         "03-02-2023"
        ],
        [
         7,
         "raman",
         "patna",
         "30-12-2022",
         2,
         5,
         3,
         "01-06-2023"
        ],
        [
         7,
         "raman",
         "patna",
         "30-12-2022",
         5,
         22,
         1,
         "22-03-2023"
        ],
        [
         7,
         "raman",
         "patna",
         "30-12-2022",
         7,
         22,
         4,
         "03-02-2023"
        ],
        [
         7,
         "raman",
         "patna",
         "30-12-2022",
         9,
         5,
         6,
         "03-03-2023"
        ],
        [
         7,
         "raman",
         "patna",
         "30-12-2022",
         2,
         1,
         12,
         "15-06-2023"
        ],
        [
         7,
         "raman",
         "patna",
         "30-12-2022",
         1,
         56,
         2,
         "25-06-2023"
        ],
        [
         7,
         "raman",
         "patna",
         "30-12-2022",
         5,
         12,
         5,
         "15-04-2023"
        ],
        [
         7,
         "raman",
         "patna",
         "30-12-2022",
         11,
         12,
         76,
         "12-03-2023"
        ],
        [
         8,
         "prakash",
         "ranchi",
         "24-02-2023",
         1,
         22,
         10,
         "01-06-2022"
        ],
        [
         8,
         "prakash",
         "ranchi",
         "24-02-2023",
         1,
         27,
         5,
         "03-02-2023"
        ],
        [
         8,
         "prakash",
         "ranchi",
         "24-02-2023",
         2,
         5,
         3,
         "01-06-2023"
        ],
        [
         8,
         "prakash",
         "ranchi",
         "24-02-2023",
         5,
         22,
         1,
         "22-03-2023"
        ],
        [
         8,
         "prakash",
         "ranchi",
         "24-02-2023",
         7,
         22,
         4,
         "03-02-2023"
        ],
        [
         8,
         "prakash",
         "ranchi",
         "24-02-2023",
         9,
         5,
         6,
         "03-03-2023"
        ],
        [
         8,
         "prakash",
         "ranchi",
         "24-02-2023",
         2,
         1,
         12,
         "15-06-2023"
        ],
        [
         8,
         "prakash",
         "ranchi",
         "24-02-2023",
         1,
         56,
         2,
         "25-06-2023"
        ],
        [
         8,
         "prakash",
         "ranchi",
         "24-02-2023",
         5,
         12,
         5,
         "15-04-2023"
        ],
        [
         8,
         "prakash",
         "ranchi",
         "24-02-2023",
         11,
         12,
         76,
         "12-03-2023"
        ],
        [
         9,
         "ragini",
         "kolkata",
         "03-03-2023",
         1,
         22,
         10,
         "01-06-2022"
        ],
        [
         10,
         "raushan",
         "jaipur",
         "05-02-2023",
         1,
         22,
         10,
         "01-06-2022"
        ],
        [
         9,
         "ragini",
         "kolkata",
         "03-03-2023",
         1,
         27,
         5,
         "03-02-2023"
        ],
        [
         10,
         "raushan",
         "jaipur",
         "05-02-2023",
         1,
         27,
         5,
         "03-02-2023"
        ],
        [
         9,
         "ragini",
         "kolkata",
         "03-03-2023",
         2,
         5,
         3,
         "01-06-2023"
        ],
        [
         10,
         "raushan",
         "jaipur",
         "05-02-2023",
         2,
         5,
         3,
         "01-06-2023"
        ],
        [
         9,
         "ragini",
         "kolkata",
         "03-03-2023",
         5,
         22,
         1,
         "22-03-2023"
        ],
        [
         9,
         "ragini",
         "kolkata",
         "03-03-2023",
         7,
         22,
         4,
         "03-02-2023"
        ],
        [
         10,
         "raushan",
         "jaipur",
         "05-02-2023",
         5,
         22,
         1,
         "22-03-2023"
        ],
        [
         10,
         "raushan",
         "jaipur",
         "05-02-2023",
         7,
         22,
         4,
         "03-02-2023"
        ],
        [
         9,
         "ragini",
         "kolkata",
         "03-03-2023",
         9,
         5,
         6,
         "03-03-2023"
        ],
        [
         10,
         "raushan",
         "jaipur",
         "05-02-2023",
         9,
         5,
         6,
         "03-03-2023"
        ],
        [
         9,
         "ragini",
         "kolkata",
         "03-03-2023",
         2,
         1,
         12,
         "15-06-2023"
        ],
        [
         10,
         "raushan",
         "jaipur",
         "05-02-2023",
         2,
         1,
         12,
         "15-06-2023"
        ],
        [
         9,
         "ragini",
         "kolkata",
         "03-03-2023",
         1,
         56,
         2,
         "25-06-2023"
        ],
        [
         10,
         "raushan",
         "jaipur",
         "05-02-2023",
         1,
         56,
         2,
         "25-06-2023"
        ],
        [
         9,
         "ragini",
         "kolkata",
         "03-03-2023",
         5,
         12,
         5,
         "15-04-2023"
        ],
        [
         9,
         "ragini",
         "kolkata",
         "03-03-2023",
         11,
         12,
         76,
         "12-03-2023"
        ],
        [
         10,
         "raushan",
         "jaipur",
         "05-02-2023",
         5,
         12,
         5,
         "15-04-2023"
        ],
        [
         10,
         "raushan",
         "jaipur",
         "05-02-2023",
         11,
         12,
         76,
         "12-03-2023"
        ]
       ],
       "datasetInfos": [],
       "dbfsResultPath": null,
       "isJsonSchema": true,
       "metadata": {},
       "overflow": false,
       "plotOptions": {
        "customPlotOptions": {},
        "displayType": "table",
        "pivotAggregation": null,
        "pivotColumns": null,
        "xColumns": null,
        "yColumns": null
       },
       "removedWidgets": [],
       "schema": [
        {
         "metadata": "{}",
         "name": "customer_id",
         "type": "\"long\""
        },
        {
         "metadata": "{}",
         "name": "customer_name",
         "type": "\"string\""
        },
        {
         "metadata": "{}",
         "name": "address",
         "type": "\"string\""
        },
        {
         "metadata": "{}",
         "name": "date_of_joining",
         "type": "\"string\""
        },
        {
         "metadata": "{}",
         "name": "customer_id",
         "type": "\"long\""
        },
        {
         "metadata": "{}",
         "name": "product_id",
         "type": "\"long\""
        },
        {
         "metadata": "{}",
         "name": "quantity",
         "type": "\"long\""
        },
        {
         "metadata": "{}",
         "name": "date_of_purchase",
         "type": "\"string\""
        }
       ],
       "type": "table"
      }
     },
     "output_type": "display_data"
    }
   ],
   "source": [
    "result_cross_df = customer_df.crossJoin(sales_df)\n",
    "result_cross_df.display()"
   ]
  },
  {
   "cell_type": "markdown",
   "metadata": {
    "application/vnd.databricks.v1+cell": {
     "cellMetadata": {},
     "inputWidgets": {},
     "nuid": "96b71155-fd07-4272-95e8-e09bb8dc8735",
     "showTitle": false,
     "tableResultSettingsMap": {},
     "title": ""
    }
   },
   "source": []
  },
  {
   "cell_type": "markdown",
   "metadata": {
    "application/vnd.databricks.v1+cell": {
     "cellMetadata": {},
     "inputWidgets": {},
     "nuid": "5e2adaa7-7853-4feb-b477-cd1be93ae45d",
     "showTitle": false,
     "tableResultSettingsMap": {},
     "title": ""
    }
   },
   "source": [
    "#### Summary of Join Types\n",
    "| **Join Type**       | **Behavior**                                                                 |\n",
    "|----------------------|----------------------------------------------------------------------------|\n",
    "| **Inner Join**       | Only matching rows in both DataFrames.                                     |\n",
    "| **Left Join**        | All rows from the left, matching rows from the right, else null.           |\n",
    "| **Right Join**       | All rows from the right, matching rows from the left, else null.           |\n",
    "| **Full Outer Join**  | All rows from both DataFrames, with null for non-matches.                  |\n",
    "| **Left Semi Join**   | Rows from the left DataFrame with matches in the right (no right columns). |\n",
    "| **Left Anti Join**   | Rows from the left DataFrame without matches in the right.                 |\n",
    "| **Cross Join**       | Cartesian product of both DataFrames.                                      |\n"
   ]
  }
 ],
 "metadata": {
  "application/vnd.databricks.v1+notebook": {
   "dashboards": [],
   "environmentMetadata": null,
   "language": "python",
   "notebookMetadata": {
    "pythonIndentUnit": 4
   },
   "notebookName": "joins_in_pyspark",
   "widgets": {}
  }
 },
 "nbformat": 4,
 "nbformat_minor": 0
}
