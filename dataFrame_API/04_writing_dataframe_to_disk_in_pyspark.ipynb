{
 "cells": [
  {
   "cell_type": "markdown",
   "metadata": {
    "application/vnd.databricks.v1+cell": {
     "cellMetadata": {},
     "inputWidgets": {},
     "nuid": "e08fdde1-a0b6-4a1c-8755-c7c2e9962cd9",
     "showTitle": false,
     "tableResultSettingsMap": {},
     "title": ""
    }
   },
   "source": [
    "## Writing Dataframe to disk in PySpark\n",
    "- Writing a DataFrame to disk in PySpark is a common operation for saving data after performing transformations. \n",
    "- PySpark provides the **DataFrame.write** API, which allows saving data in multiple formats (e.g., `CSV`, `Parquet`, `JSON`, etc.) with various options for file organization and data management."
   ]
  },
  {
   "cell_type": "markdown",
   "metadata": {
    "application/vnd.databricks.v1+cell": {
     "cellMetadata": {},
     "inputWidgets": {},
     "nuid": "b96b50fd-036d-44f0-9068-5c09c419d06c",
     "showTitle": false,
     "tableResultSettingsMap": {},
     "title": ""
    }
   },
   "source": [
    "### Writing a DataFrame\n",
    "The write function is used to save a DataFrame to storage. It supports a variety of file formats and configurations.\n",
    "\n",
    "**Dataframe writer API general structure:**\n",
    "\n",
    "  ```python\n",
    "  dataframewriter.format() \\\n",
    "                 .option() \\\n",
    "                 .partitionBy() \\\n",
    "                 .bucketBy() \\\n",
    "                 .save()\n",
    "  ```\n",
    "\n",
    "**format():**\n",
    "- Specifies the file format to use when saving the DataFrame.\n",
    "- If not explicitly specified, the default format is Parquet.\n",
    "\n",
    "**option(key, value):**\n",
    "- Allows you to pass additional configurations specific to the file format.\n",
    "- Common options include:\n",
    "  | Key          | Value                       | Description                                           |\n",
    "  |--------------|-----------------------------|-------------------------------------------------------|\n",
    "  | `header`     | `true` or `false`           | Writes column names as the first row (for CSV).       |\n",
    "  | `delimiter`  | Any single character (e.g., `,`, `|`) | Sets a custom delimiter for CSV files.              |\n",
    "  | `compression`| `snappy`, `gzip`, `none`, etc. | Specifies the compression codec to use.             |\n",
    "  | `inferSchema`| `true` or `false`           | Infers the schema automatically (for CSV or JSON).    |\n",
    "  | `quote`      | Character (e.g., `\"`)       | Specifies the character to wrap around quoted fields (CSV). |\n",
    "  | `escape`     | Character (e.g., `\\`)       | Defines escape characters for special cases (CSV).    |\n",
    "\n",
    "\n",
    "\n",
    "**repartition() and coalesce():**\n",
    "- To control how many files are written, you can change the number of partitions using repartition() or coalesce().\n",
    "- **`Using repartition():`**\n",
    "  - Redistributes the data into a specified number of partitions, increasing or decreasing the number of output files.\n",
    "  - Causes data shuffling across the cluster\n",
    "  - Example: # Redistributing data into 4 partitions (will create 4 output files)\n",
    "    - `df.repartition(4).write.csv(\"/path/to/output\")`\n",
    "- **`Using coalesce()`**\n",
    "  - Reduces the number of partitions without shuffling the data.\n",
    "  - More efficient than repartition() for reducing the number of partitions.\n",
    "  - Example: # Reducing to 2 partitions (will create 2 output files)\n",
    "    - `df.coalesce(2).write.csv(\"/path/to/output\")`\n",
    "\n",
    "\n",
    "\n",
    "**partitionBy(\\*columns):**\n",
    "- Splits the output data into subdirectories based on the values of one or more columns.\n",
    "- Improves query performance by pruning irrelevant partitions during data reads.\n",
    "- Example: \n",
    "  - `df.write.partitionBy(\"Age\").parquet(\"/path/to/output\")`\n",
    "  - Example Directory Structure:\n",
    "    ```bash\n",
    "    /path/to/output/Age=25/\n",
    "    /path/to/output/Age=30/\n",
    "    /path/to/output/Age=35/\n",
    "    ```\n",
    "\n",
    "**bucketBy(numBuckets, column): (For Spark Tables)**\n",
    "- Groups data into a specific number of buckets for distributed storage.\n",
    "- Often used with saveAsTable.\n",
    "- Example: `df.write.bucketBy(5, \"Age\").saveAsTable(\"bucketed_table\")`\n",
    "- Bucketing is typically used for optimizing large joins or aggregations.\n",
    "\n",
    "**mode():**\n",
    "- Controls the behavior when saving data to an existing location.\n",
    "  | Mode                 | Description                                                          |\n",
    "  |----------------------|----------------------------------------------------------------------|\n",
    "  | `overwrite`          | Overwrites any existing data at the output location.                |\n",
    "  | `append`             | Appends data to the existing data.                                  |\n",
    "  | `ignore`             | Skips the operation if the target path already exists.              |\n",
    "  | `error` or `errorifexists` | Fails the operation if the target path already exists (default). |\n",
    "\n",
    "\n",
    "**save(path):**\n",
    "- Specifies the output path where the DataFrame will be saved.\n",
    "- The format is determined by the `format()` method or defaults to Parquet.\n",
    "- Use **saveAsTable()** for saving as a table instead of a file\n",
    "\n",
    "**saveAsTable(tableName):**\n",
    "- Saves the DataFrame as a managed or external table in a Hive-compatible metastore.\n",
    "- The `tableName` can include a database prefix, e.g., `database_name.table_name.`\n",
    "- Example: `df.write.saveAsTable(\"my_table\")`\n",
    "\n",
    "**insertInto(tableName):**\n",
    "- Inserts data into an existing table without overwriting it.\n",
    "- The table must exist, and the schema should match.\n",
    "- Example: `df.write.mode(\"append\").insertInto(\"existing_table\")`\n",
    "\n",
    "**compression (via option() or implicitly):**\n",
    "- Specifies the compression codec to use for data storage.\n",
    "- Supported codecs depend on the format:\n",
    "  - `For Parquet:` snappy (default), gzip, none\n",
    "  - `For CSV/JSON:` gzip, bzip2, none\n",
    "- Example: `df.write.option(\"compression\", \"gzip\").csv(\"/path/to/output\")`\n"
   ]
  },
  {
   "cell_type": "markdown",
   "metadata": {
    "application/vnd.databricks.v1+cell": {
     "cellMetadata": {},
     "inputWidgets": {},
     "nuid": "2ef925eb-032c-4861-bdcf-1fe6c00975e6",
     "showTitle": false,
     "tableResultSettingsMap": {},
     "title": ""
    }
   },
   "source": []
  },
  {
   "cell_type": "markdown",
   "metadata": {
    "application/vnd.databricks.v1+cell": {
     "cellMetadata": {},
     "inputWidgets": {},
     "nuid": "37b9e7a5-1f31-4f43-b4d3-7fedabe74ce8",
     "showTitle": false,
     "tableResultSettingsMap": {},
     "title": ""
    }
   },
   "source": [
    "**Full Example with Multiple Configurations**"
   ]
  },
  {
   "cell_type": "code",
   "execution_count": 0,
   "metadata": {
    "application/vnd.databricks.v1+cell": {
     "cellMetadata": {
      "byteLimit": 2048000,
      "rowLimit": 10000
     },
     "inputWidgets": {},
     "nuid": "e68f8188-0f30-4a7f-934f-4bec664f62db",
     "showTitle": false,
     "tableResultSettingsMap": {},
     "title": ""
    }
   },
   "outputs": [
    {
     "output_type": "stream",
     "name": "stdout",
     "output_type": "stream",
     "text": [
      "+-----------------+-------------------+-----+\n|DEST_COUNTRY_NAME|ORIGIN_COUNTRY_NAME|count|\n+-----------------+-------------------+-----+\n|    United States|            Romania|    1|\n|    United States|            Ireland|  264|\n|    United States|              India|   69|\n|            Egypt|      United States|   24|\n|Equatorial Guinea|      United States|    1|\n+-----------------+-------------------+-----+\nonly showing top 5 rows\n\n"
     ]
    }
   ],
   "source": [
    "# reading the csv file using format method\n",
    "flight_df = spark.read.format(\"csv\") \\\n",
    "    .option(\"header\", \"true\") \\\n",
    "    .option(\"inferSchema\", \"true\") \\\n",
    "    .option(\"mode\", \"failfast\") \\\n",
    "    .load(\"dbfs:/FileStore/shared_uploads/zaderohish5@gmail.com/2010_summary.csv\")\n",
    "\n",
    "# show method to display the dataframe data\n",
    "flight_df.show(5)"
   ]
  },
  {
   "cell_type": "code",
   "execution_count": 0,
   "metadata": {
    "application/vnd.databricks.v1+cell": {
     "cellMetadata": {
      "byteLimit": 2048000,
      "rowLimit": 10000
     },
     "inputWidgets": {},
     "nuid": "668848d1-bbf8-4688-a6cd-13872de16b85",
     "showTitle": false,
     "tableResultSettingsMap": {},
     "title": ""
    }
   },
   "outputs": [],
   "source": [
    "# Writing DataFrame with configurations\n",
    "flight_df.write.format(\"csv\") \\\n",
    "    .option(\"header\", \"true\") \\\n",
    "    .option(\"delimiter\", \"|\") \\\n",
    "    .option(\"compression\", \"gzip\") \\\n",
    "    .mode(\"overwrite\") \\\n",
    "    .partitionBy(\"ORIGIN_COUNTRY_NAME\") \\\n",
    "    .save(\"dbfs:/FileStore/shared_uploads/zaderohish5@gmail.com/out/\")"
   ]
  },
  {
   "cell_type": "markdown",
   "metadata": {
    "application/vnd.databricks.v1+cell": {
     "cellMetadata": {},
     "inputWidgets": {},
     "nuid": "2afec6c4-b6ac-4995-b81f-1aff5e353d02",
     "showTitle": false,
     "tableResultSettingsMap": {},
     "title": ""
    }
   },
   "source": [
    "We can see we the data is got ingested"
   ]
  },
  {
   "cell_type": "code",
   "execution_count": 0,
   "metadata": {
    "application/vnd.databricks.v1+cell": {
     "cellMetadata": {
      "byteLimit": 2048000,
      "rowLimit": 10000
     },
     "inputWidgets": {},
     "nuid": "8700abaa-0c2c-474a-8944-35040ab47635",
     "showTitle": false,
     "tableResultSettingsMap": {},
     "title": ""
    }
   },
   "outputs": [
    {
     "output_type": "display_data",
     "data": {
      "text/html": [
       "<style scoped>\n",
       "  .table-result-container {\n",
       "    max-height: 300px;\n",
       "    overflow: auto;\n",
       "  }\n",
       "  table, th, td {\n",
       "    border: 1px solid black;\n",
       "    border-collapse: collapse;\n",
       "  }\n",
       "  th, td {\n",
       "    padding: 5px;\n",
       "  }\n",
       "  th {\n",
       "    text-align: left;\n",
       "  }\n",
       "</style><div class='table-result-container'><table class='table-result'><thead style='background-color: white'><tr><th>path</th><th>name</th><th>size</th><th>modificationTime</th></tr></thead><tbody><tr><td>dbfs:/FileStore/shared_uploads/zaderohish5@gmail.com/out/ORIGIN_COUNTRY_NAME=Afghanistan/</td><td>ORIGIN_COUNTRY_NAME=Afghanistan/</td><td>0</td><td>0</td></tr><tr><td>dbfs:/FileStore/shared_uploads/zaderohish5@gmail.com/out/ORIGIN_COUNTRY_NAME=Algeria/</td><td>ORIGIN_COUNTRY_NAME=Algeria/</td><td>0</td><td>0</td></tr><tr><td>dbfs:/FileStore/shared_uploads/zaderohish5@gmail.com/out/ORIGIN_COUNTRY_NAME=Angola/</td><td>ORIGIN_COUNTRY_NAME=Angola/</td><td>0</td><td>0</td></tr><tr><td>dbfs:/FileStore/shared_uploads/zaderohish5@gmail.com/out/ORIGIN_COUNTRY_NAME=Anguilla/</td><td>ORIGIN_COUNTRY_NAME=Anguilla/</td><td>0</td><td>0</td></tr><tr><td>dbfs:/FileStore/shared_uploads/zaderohish5@gmail.com/out/ORIGIN_COUNTRY_NAME=Antigua and Barbuda/</td><td>ORIGIN_COUNTRY_NAME=Antigua and Barbuda/</td><td>0</td><td>0</td></tr><tr><td>dbfs:/FileStore/shared_uploads/zaderohish5@gmail.com/out/ORIGIN_COUNTRY_NAME=Argentina/</td><td>ORIGIN_COUNTRY_NAME=Argentina/</td><td>0</td><td>0</td></tr><tr><td>dbfs:/FileStore/shared_uploads/zaderohish5@gmail.com/out/ORIGIN_COUNTRY_NAME=Aruba/</td><td>ORIGIN_COUNTRY_NAME=Aruba/</td><td>0</td><td>0</td></tr><tr><td>dbfs:/FileStore/shared_uploads/zaderohish5@gmail.com/out/ORIGIN_COUNTRY_NAME=Australia/</td><td>ORIGIN_COUNTRY_NAME=Australia/</td><td>0</td><td>0</td></tr><tr><td>dbfs:/FileStore/shared_uploads/zaderohish5@gmail.com/out/ORIGIN_COUNTRY_NAME=Austria/</td><td>ORIGIN_COUNTRY_NAME=Austria/</td><td>0</td><td>0</td></tr><tr><td>dbfs:/FileStore/shared_uploads/zaderohish5@gmail.com/out/ORIGIN_COUNTRY_NAME=Azerbaijan/</td><td>ORIGIN_COUNTRY_NAME=Azerbaijan/</td><td>0</td><td>0</td></tr><tr><td>dbfs:/FileStore/shared_uploads/zaderohish5@gmail.com/out/ORIGIN_COUNTRY_NAME=Bahrain/</td><td>ORIGIN_COUNTRY_NAME=Bahrain/</td><td>0</td><td>0</td></tr><tr><td>dbfs:/FileStore/shared_uploads/zaderohish5@gmail.com/out/ORIGIN_COUNTRY_NAME=Barbados/</td><td>ORIGIN_COUNTRY_NAME=Barbados/</td><td>0</td><td>0</td></tr><tr><td>dbfs:/FileStore/shared_uploads/zaderohish5@gmail.com/out/ORIGIN_COUNTRY_NAME=Belgium/</td><td>ORIGIN_COUNTRY_NAME=Belgium/</td><td>0</td><td>0</td></tr><tr><td>dbfs:/FileStore/shared_uploads/zaderohish5@gmail.com/out/ORIGIN_COUNTRY_NAME=Belize/</td><td>ORIGIN_COUNTRY_NAME=Belize/</td><td>0</td><td>0</td></tr><tr><td>dbfs:/FileStore/shared_uploads/zaderohish5@gmail.com/out/ORIGIN_COUNTRY_NAME=Bermuda/</td><td>ORIGIN_COUNTRY_NAME=Bermuda/</td><td>0</td><td>0</td></tr><tr><td>dbfs:/FileStore/shared_uploads/zaderohish5@gmail.com/out/ORIGIN_COUNTRY_NAME=Bolivia/</td><td>ORIGIN_COUNTRY_NAME=Bolivia/</td><td>0</td><td>0</td></tr><tr><td>dbfs:/FileStore/shared_uploads/zaderohish5@gmail.com/out/ORIGIN_COUNTRY_NAME=Bonaire, Sint Eustatius, and Saba/</td><td>ORIGIN_COUNTRY_NAME=Bonaire, Sint Eustatius, and Saba/</td><td>0</td><td>0</td></tr><tr><td>dbfs:/FileStore/shared_uploads/zaderohish5@gmail.com/out/ORIGIN_COUNTRY_NAME=Bosnia and Herzegovina/</td><td>ORIGIN_COUNTRY_NAME=Bosnia and Herzegovina/</td><td>0</td><td>0</td></tr><tr><td>dbfs:/FileStore/shared_uploads/zaderohish5@gmail.com/out/ORIGIN_COUNTRY_NAME=Brazil/</td><td>ORIGIN_COUNTRY_NAME=Brazil/</td><td>0</td><td>0</td></tr><tr><td>dbfs:/FileStore/shared_uploads/zaderohish5@gmail.com/out/ORIGIN_COUNTRY_NAME=British Virgin Islands/</td><td>ORIGIN_COUNTRY_NAME=British Virgin Islands/</td><td>0</td><td>0</td></tr><tr><td>dbfs:/FileStore/shared_uploads/zaderohish5@gmail.com/out/ORIGIN_COUNTRY_NAME=Bulgaria/</td><td>ORIGIN_COUNTRY_NAME=Bulgaria/</td><td>0</td><td>0</td></tr><tr><td>dbfs:/FileStore/shared_uploads/zaderohish5@gmail.com/out/ORIGIN_COUNTRY_NAME=Burkina Faso/</td><td>ORIGIN_COUNTRY_NAME=Burkina Faso/</td><td>0</td><td>0</td></tr><tr><td>dbfs:/FileStore/shared_uploads/zaderohish5@gmail.com/out/ORIGIN_COUNTRY_NAME=Cameroon/</td><td>ORIGIN_COUNTRY_NAME=Cameroon/</td><td>0</td><td>0</td></tr><tr><td>dbfs:/FileStore/shared_uploads/zaderohish5@gmail.com/out/ORIGIN_COUNTRY_NAME=Canada/</td><td>ORIGIN_COUNTRY_NAME=Canada/</td><td>0</td><td>0</td></tr><tr><td>dbfs:/FileStore/shared_uploads/zaderohish5@gmail.com/out/ORIGIN_COUNTRY_NAME=Cape Verde/</td><td>ORIGIN_COUNTRY_NAME=Cape Verde/</td><td>0</td><td>0</td></tr><tr><td>dbfs:/FileStore/shared_uploads/zaderohish5@gmail.com/out/ORIGIN_COUNTRY_NAME=Cayman Islands/</td><td>ORIGIN_COUNTRY_NAME=Cayman Islands/</td><td>0</td><td>0</td></tr><tr><td>dbfs:/FileStore/shared_uploads/zaderohish5@gmail.com/out/ORIGIN_COUNTRY_NAME=Chile/</td><td>ORIGIN_COUNTRY_NAME=Chile/</td><td>0</td><td>0</td></tr><tr><td>dbfs:/FileStore/shared_uploads/zaderohish5@gmail.com/out/ORIGIN_COUNTRY_NAME=China/</td><td>ORIGIN_COUNTRY_NAME=China/</td><td>0</td><td>0</td></tr><tr><td>dbfs:/FileStore/shared_uploads/zaderohish5@gmail.com/out/ORIGIN_COUNTRY_NAME=Colombia/</td><td>ORIGIN_COUNTRY_NAME=Colombia/</td><td>0</td><td>0</td></tr><tr><td>dbfs:/FileStore/shared_uploads/zaderohish5@gmail.com/out/ORIGIN_COUNTRY_NAME=Cook Islands/</td><td>ORIGIN_COUNTRY_NAME=Cook Islands/</td><td>0</td><td>0</td></tr><tr><td>dbfs:/FileStore/shared_uploads/zaderohish5@gmail.com/out/ORIGIN_COUNTRY_NAME=Costa Rica/</td><td>ORIGIN_COUNTRY_NAME=Costa Rica/</td><td>0</td><td>0</td></tr><tr><td>dbfs:/FileStore/shared_uploads/zaderohish5@gmail.com/out/ORIGIN_COUNTRY_NAME=Cuba/</td><td>ORIGIN_COUNTRY_NAME=Cuba/</td><td>0</td><td>0</td></tr><tr><td>dbfs:/FileStore/shared_uploads/zaderohish5@gmail.com/out/ORIGIN_COUNTRY_NAME=Curacao/</td><td>ORIGIN_COUNTRY_NAME=Curacao/</td><td>0</td><td>0</td></tr><tr><td>dbfs:/FileStore/shared_uploads/zaderohish5@gmail.com/out/ORIGIN_COUNTRY_NAME=Cyprus/</td><td>ORIGIN_COUNTRY_NAME=Cyprus/</td><td>0</td><td>0</td></tr><tr><td>dbfs:/FileStore/shared_uploads/zaderohish5@gmail.com/out/ORIGIN_COUNTRY_NAME=Czech Republic/</td><td>ORIGIN_COUNTRY_NAME=Czech Republic/</td><td>0</td><td>0</td></tr><tr><td>dbfs:/FileStore/shared_uploads/zaderohish5@gmail.com/out/ORIGIN_COUNTRY_NAME=Denmark/</td><td>ORIGIN_COUNTRY_NAME=Denmark/</td><td>0</td><td>0</td></tr><tr><td>dbfs:/FileStore/shared_uploads/zaderohish5@gmail.com/out/ORIGIN_COUNTRY_NAME=Dominica/</td><td>ORIGIN_COUNTRY_NAME=Dominica/</td><td>0</td><td>0</td></tr><tr><td>dbfs:/FileStore/shared_uploads/zaderohish5@gmail.com/out/ORIGIN_COUNTRY_NAME=Dominican Republic/</td><td>ORIGIN_COUNTRY_NAME=Dominican Republic/</td><td>0</td><td>0</td></tr><tr><td>dbfs:/FileStore/shared_uploads/zaderohish5@gmail.com/out/ORIGIN_COUNTRY_NAME=Ecuador/</td><td>ORIGIN_COUNTRY_NAME=Ecuador/</td><td>0</td><td>0</td></tr><tr><td>dbfs:/FileStore/shared_uploads/zaderohish5@gmail.com/out/ORIGIN_COUNTRY_NAME=Egypt/</td><td>ORIGIN_COUNTRY_NAME=Egypt/</td><td>0</td><td>0</td></tr><tr><td>dbfs:/FileStore/shared_uploads/zaderohish5@gmail.com/out/ORIGIN_COUNTRY_NAME=El Salvador/</td><td>ORIGIN_COUNTRY_NAME=El Salvador/</td><td>0</td><td>0</td></tr><tr><td>dbfs:/FileStore/shared_uploads/zaderohish5@gmail.com/out/ORIGIN_COUNTRY_NAME=Estonia/</td><td>ORIGIN_COUNTRY_NAME=Estonia/</td><td>0</td><td>0</td></tr><tr><td>dbfs:/FileStore/shared_uploads/zaderohish5@gmail.com/out/ORIGIN_COUNTRY_NAME=Ethiopia/</td><td>ORIGIN_COUNTRY_NAME=Ethiopia/</td><td>0</td><td>0</td></tr><tr><td>dbfs:/FileStore/shared_uploads/zaderohish5@gmail.com/out/ORIGIN_COUNTRY_NAME=Federated States of Micronesia/</td><td>ORIGIN_COUNTRY_NAME=Federated States of Micronesia/</td><td>0</td><td>0</td></tr><tr><td>dbfs:/FileStore/shared_uploads/zaderohish5@gmail.com/out/ORIGIN_COUNTRY_NAME=Fiji/</td><td>ORIGIN_COUNTRY_NAME=Fiji/</td><td>0</td><td>0</td></tr><tr><td>dbfs:/FileStore/shared_uploads/zaderohish5@gmail.com/out/ORIGIN_COUNTRY_NAME=Finland/</td><td>ORIGIN_COUNTRY_NAME=Finland/</td><td>0</td><td>0</td></tr><tr><td>dbfs:/FileStore/shared_uploads/zaderohish5@gmail.com/out/ORIGIN_COUNTRY_NAME=France/</td><td>ORIGIN_COUNTRY_NAME=France/</td><td>0</td><td>0</td></tr><tr><td>dbfs:/FileStore/shared_uploads/zaderohish5@gmail.com/out/ORIGIN_COUNTRY_NAME=French Guiana/</td><td>ORIGIN_COUNTRY_NAME=French Guiana/</td><td>0</td><td>0</td></tr><tr><td>dbfs:/FileStore/shared_uploads/zaderohish5@gmail.com/out/ORIGIN_COUNTRY_NAME=French Polynesia/</td><td>ORIGIN_COUNTRY_NAME=French Polynesia/</td><td>0</td><td>0</td></tr><tr><td>dbfs:/FileStore/shared_uploads/zaderohish5@gmail.com/out/ORIGIN_COUNTRY_NAME=Gabon/</td><td>ORIGIN_COUNTRY_NAME=Gabon/</td><td>0</td><td>0</td></tr><tr><td>dbfs:/FileStore/shared_uploads/zaderohish5@gmail.com/out/ORIGIN_COUNTRY_NAME=Germany/</td><td>ORIGIN_COUNTRY_NAME=Germany/</td><td>0</td><td>0</td></tr><tr><td>dbfs:/FileStore/shared_uploads/zaderohish5@gmail.com/out/ORIGIN_COUNTRY_NAME=Ghana/</td><td>ORIGIN_COUNTRY_NAME=Ghana/</td><td>0</td><td>0</td></tr><tr><td>dbfs:/FileStore/shared_uploads/zaderohish5@gmail.com/out/ORIGIN_COUNTRY_NAME=Greece/</td><td>ORIGIN_COUNTRY_NAME=Greece/</td><td>0</td><td>0</td></tr><tr><td>dbfs:/FileStore/shared_uploads/zaderohish5@gmail.com/out/ORIGIN_COUNTRY_NAME=Greenland/</td><td>ORIGIN_COUNTRY_NAME=Greenland/</td><td>0</td><td>0</td></tr><tr><td>dbfs:/FileStore/shared_uploads/zaderohish5@gmail.com/out/ORIGIN_COUNTRY_NAME=Grenada/</td><td>ORIGIN_COUNTRY_NAME=Grenada/</td><td>0</td><td>0</td></tr><tr><td>dbfs:/FileStore/shared_uploads/zaderohish5@gmail.com/out/ORIGIN_COUNTRY_NAME=Guadeloupe/</td><td>ORIGIN_COUNTRY_NAME=Guadeloupe/</td><td>0</td><td>0</td></tr><tr><td>dbfs:/FileStore/shared_uploads/zaderohish5@gmail.com/out/ORIGIN_COUNTRY_NAME=Guatemala/</td><td>ORIGIN_COUNTRY_NAME=Guatemala/</td><td>0</td><td>0</td></tr><tr><td>dbfs:/FileStore/shared_uploads/zaderohish5@gmail.com/out/ORIGIN_COUNTRY_NAME=Guyana/</td><td>ORIGIN_COUNTRY_NAME=Guyana/</td><td>0</td><td>0</td></tr><tr><td>dbfs:/FileStore/shared_uploads/zaderohish5@gmail.com/out/ORIGIN_COUNTRY_NAME=Haiti/</td><td>ORIGIN_COUNTRY_NAME=Haiti/</td><td>0</td><td>0</td></tr><tr><td>dbfs:/FileStore/shared_uploads/zaderohish5@gmail.com/out/ORIGIN_COUNTRY_NAME=Honduras/</td><td>ORIGIN_COUNTRY_NAME=Honduras/</td><td>0</td><td>0</td></tr><tr><td>dbfs:/FileStore/shared_uploads/zaderohish5@gmail.com/out/ORIGIN_COUNTRY_NAME=Hong Kong/</td><td>ORIGIN_COUNTRY_NAME=Hong Kong/</td><td>0</td><td>0</td></tr><tr><td>dbfs:/FileStore/shared_uploads/zaderohish5@gmail.com/out/ORIGIN_COUNTRY_NAME=Hungary/</td><td>ORIGIN_COUNTRY_NAME=Hungary/</td><td>0</td><td>0</td></tr><tr><td>dbfs:/FileStore/shared_uploads/zaderohish5@gmail.com/out/ORIGIN_COUNTRY_NAME=Iceland/</td><td>ORIGIN_COUNTRY_NAME=Iceland/</td><td>0</td><td>0</td></tr><tr><td>dbfs:/FileStore/shared_uploads/zaderohish5@gmail.com/out/ORIGIN_COUNTRY_NAME=India/</td><td>ORIGIN_COUNTRY_NAME=India/</td><td>0</td><td>0</td></tr><tr><td>dbfs:/FileStore/shared_uploads/zaderohish5@gmail.com/out/ORIGIN_COUNTRY_NAME=Indonesia/</td><td>ORIGIN_COUNTRY_NAME=Indonesia/</td><td>0</td><td>0</td></tr><tr><td>dbfs:/FileStore/shared_uploads/zaderohish5@gmail.com/out/ORIGIN_COUNTRY_NAME=Ireland/</td><td>ORIGIN_COUNTRY_NAME=Ireland/</td><td>0</td><td>0</td></tr><tr><td>dbfs:/FileStore/shared_uploads/zaderohish5@gmail.com/out/ORIGIN_COUNTRY_NAME=Israel/</td><td>ORIGIN_COUNTRY_NAME=Israel/</td><td>0</td><td>0</td></tr><tr><td>dbfs:/FileStore/shared_uploads/zaderohish5@gmail.com/out/ORIGIN_COUNTRY_NAME=Italy/</td><td>ORIGIN_COUNTRY_NAME=Italy/</td><td>0</td><td>0</td></tr><tr><td>dbfs:/FileStore/shared_uploads/zaderohish5@gmail.com/out/ORIGIN_COUNTRY_NAME=Jamaica/</td><td>ORIGIN_COUNTRY_NAME=Jamaica/</td><td>0</td><td>0</td></tr><tr><td>dbfs:/FileStore/shared_uploads/zaderohish5@gmail.com/out/ORIGIN_COUNTRY_NAME=Japan/</td><td>ORIGIN_COUNTRY_NAME=Japan/</td><td>0</td><td>0</td></tr><tr><td>dbfs:/FileStore/shared_uploads/zaderohish5@gmail.com/out/ORIGIN_COUNTRY_NAME=Jordan/</td><td>ORIGIN_COUNTRY_NAME=Jordan/</td><td>0</td><td>0</td></tr><tr><td>dbfs:/FileStore/shared_uploads/zaderohish5@gmail.com/out/ORIGIN_COUNTRY_NAME=Kiribati/</td><td>ORIGIN_COUNTRY_NAME=Kiribati/</td><td>0</td><td>0</td></tr><tr><td>dbfs:/FileStore/shared_uploads/zaderohish5@gmail.com/out/ORIGIN_COUNTRY_NAME=Kuwait/</td><td>ORIGIN_COUNTRY_NAME=Kuwait/</td><td>0</td><td>0</td></tr><tr><td>dbfs:/FileStore/shared_uploads/zaderohish5@gmail.com/out/ORIGIN_COUNTRY_NAME=Kyrgyzstan/</td><td>ORIGIN_COUNTRY_NAME=Kyrgyzstan/</td><td>0</td><td>0</td></tr><tr><td>dbfs:/FileStore/shared_uploads/zaderohish5@gmail.com/out/ORIGIN_COUNTRY_NAME=Latvia/</td><td>ORIGIN_COUNTRY_NAME=Latvia/</td><td>0</td><td>0</td></tr><tr><td>dbfs:/FileStore/shared_uploads/zaderohish5@gmail.com/out/ORIGIN_COUNTRY_NAME=Liberia/</td><td>ORIGIN_COUNTRY_NAME=Liberia/</td><td>0</td><td>0</td></tr><tr><td>dbfs:/FileStore/shared_uploads/zaderohish5@gmail.com/out/ORIGIN_COUNTRY_NAME=Luxembourg/</td><td>ORIGIN_COUNTRY_NAME=Luxembourg/</td><td>0</td><td>0</td></tr><tr><td>dbfs:/FileStore/shared_uploads/zaderohish5@gmail.com/out/ORIGIN_COUNTRY_NAME=Malaysia/</td><td>ORIGIN_COUNTRY_NAME=Malaysia/</td><td>0</td><td>0</td></tr><tr><td>dbfs:/FileStore/shared_uploads/zaderohish5@gmail.com/out/ORIGIN_COUNTRY_NAME=Malta/</td><td>ORIGIN_COUNTRY_NAME=Malta/</td><td>0</td><td>0</td></tr><tr><td>dbfs:/FileStore/shared_uploads/zaderohish5@gmail.com/out/ORIGIN_COUNTRY_NAME=Marshall Islands/</td><td>ORIGIN_COUNTRY_NAME=Marshall Islands/</td><td>0</td><td>0</td></tr><tr><td>dbfs:/FileStore/shared_uploads/zaderohish5@gmail.com/out/ORIGIN_COUNTRY_NAME=Martinique/</td><td>ORIGIN_COUNTRY_NAME=Martinique/</td><td>0</td><td>0</td></tr><tr><td>dbfs:/FileStore/shared_uploads/zaderohish5@gmail.com/out/ORIGIN_COUNTRY_NAME=Mexico/</td><td>ORIGIN_COUNTRY_NAME=Mexico/</td><td>0</td><td>0</td></tr><tr><td>dbfs:/FileStore/shared_uploads/zaderohish5@gmail.com/out/ORIGIN_COUNTRY_NAME=Morocco/</td><td>ORIGIN_COUNTRY_NAME=Morocco/</td><td>0</td><td>0</td></tr><tr><td>dbfs:/FileStore/shared_uploads/zaderohish5@gmail.com/out/ORIGIN_COUNTRY_NAME=Netherlands/</td><td>ORIGIN_COUNTRY_NAME=Netherlands/</td><td>0</td><td>0</td></tr><tr><td>dbfs:/FileStore/shared_uploads/zaderohish5@gmail.com/out/ORIGIN_COUNTRY_NAME=Netherlands Antilles/</td><td>ORIGIN_COUNTRY_NAME=Netherlands Antilles/</td><td>0</td><td>0</td></tr><tr><td>dbfs:/FileStore/shared_uploads/zaderohish5@gmail.com/out/ORIGIN_COUNTRY_NAME=New Zealand/</td><td>ORIGIN_COUNTRY_NAME=New Zealand/</td><td>0</td><td>0</td></tr><tr><td>dbfs:/FileStore/shared_uploads/zaderohish5@gmail.com/out/ORIGIN_COUNTRY_NAME=Nicaragua/</td><td>ORIGIN_COUNTRY_NAME=Nicaragua/</td><td>0</td><td>0</td></tr><tr><td>dbfs:/FileStore/shared_uploads/zaderohish5@gmail.com/out/ORIGIN_COUNTRY_NAME=Nigeria/</td><td>ORIGIN_COUNTRY_NAME=Nigeria/</td><td>0</td><td>0</td></tr><tr><td>dbfs:/FileStore/shared_uploads/zaderohish5@gmail.com/out/ORIGIN_COUNTRY_NAME=Norway/</td><td>ORIGIN_COUNTRY_NAME=Norway/</td><td>0</td><td>0</td></tr><tr><td>dbfs:/FileStore/shared_uploads/zaderohish5@gmail.com/out/ORIGIN_COUNTRY_NAME=Pakistan/</td><td>ORIGIN_COUNTRY_NAME=Pakistan/</td><td>0</td><td>0</td></tr><tr><td>dbfs:/FileStore/shared_uploads/zaderohish5@gmail.com/out/ORIGIN_COUNTRY_NAME=Palau/</td><td>ORIGIN_COUNTRY_NAME=Palau/</td><td>0</td><td>0</td></tr><tr><td>dbfs:/FileStore/shared_uploads/zaderohish5@gmail.com/out/ORIGIN_COUNTRY_NAME=Panama/</td><td>ORIGIN_COUNTRY_NAME=Panama/</td><td>0</td><td>0</td></tr><tr><td>dbfs:/FileStore/shared_uploads/zaderohish5@gmail.com/out/ORIGIN_COUNTRY_NAME=Papua New Guinea/</td><td>ORIGIN_COUNTRY_NAME=Papua New Guinea/</td><td>0</td><td>0</td></tr><tr><td>dbfs:/FileStore/shared_uploads/zaderohish5@gmail.com/out/ORIGIN_COUNTRY_NAME=Peru/</td><td>ORIGIN_COUNTRY_NAME=Peru/</td><td>0</td><td>0</td></tr><tr><td>dbfs:/FileStore/shared_uploads/zaderohish5@gmail.com/out/ORIGIN_COUNTRY_NAME=Philippines/</td><td>ORIGIN_COUNTRY_NAME=Philippines/</td><td>0</td><td>0</td></tr><tr><td>dbfs:/FileStore/shared_uploads/zaderohish5@gmail.com/out/ORIGIN_COUNTRY_NAME=Poland/</td><td>ORIGIN_COUNTRY_NAME=Poland/</td><td>0</td><td>0</td></tr><tr><td>dbfs:/FileStore/shared_uploads/zaderohish5@gmail.com/out/ORIGIN_COUNTRY_NAME=Portugal/</td><td>ORIGIN_COUNTRY_NAME=Portugal/</td><td>0</td><td>0</td></tr><tr><td>dbfs:/FileStore/shared_uploads/zaderohish5@gmail.com/out/ORIGIN_COUNTRY_NAME=Qatar/</td><td>ORIGIN_COUNTRY_NAME=Qatar/</td><td>0</td><td>0</td></tr><tr><td>dbfs:/FileStore/shared_uploads/zaderohish5@gmail.com/out/ORIGIN_COUNTRY_NAME=Romania/</td><td>ORIGIN_COUNTRY_NAME=Romania/</td><td>0</td><td>0</td></tr><tr><td>dbfs:/FileStore/shared_uploads/zaderohish5@gmail.com/out/ORIGIN_COUNTRY_NAME=Russia/</td><td>ORIGIN_COUNTRY_NAME=Russia/</td><td>0</td><td>0</td></tr><tr><td>dbfs:/FileStore/shared_uploads/zaderohish5@gmail.com/out/ORIGIN_COUNTRY_NAME=Saint Barthelemy/</td><td>ORIGIN_COUNTRY_NAME=Saint Barthelemy/</td><td>0</td><td>0</td></tr><tr><td>dbfs:/FileStore/shared_uploads/zaderohish5@gmail.com/out/ORIGIN_COUNTRY_NAME=Saint Kitts and Nevis/</td><td>ORIGIN_COUNTRY_NAME=Saint Kitts and Nevis/</td><td>0</td><td>0</td></tr><tr><td>dbfs:/FileStore/shared_uploads/zaderohish5@gmail.com/out/ORIGIN_COUNTRY_NAME=Saint Lucia/</td><td>ORIGIN_COUNTRY_NAME=Saint Lucia/</td><td>0</td><td>0</td></tr><tr><td>dbfs:/FileStore/shared_uploads/zaderohish5@gmail.com/out/ORIGIN_COUNTRY_NAME=Saint Vincent and the Grenadines/</td><td>ORIGIN_COUNTRY_NAME=Saint Vincent and the Grenadines/</td><td>0</td><td>0</td></tr><tr><td>dbfs:/FileStore/shared_uploads/zaderohish5@gmail.com/out/ORIGIN_COUNTRY_NAME=Samoa/</td><td>ORIGIN_COUNTRY_NAME=Samoa/</td><td>0</td><td>0</td></tr><tr><td>dbfs:/FileStore/shared_uploads/zaderohish5@gmail.com/out/ORIGIN_COUNTRY_NAME=Saudi Arabia/</td><td>ORIGIN_COUNTRY_NAME=Saudi Arabia/</td><td>0</td><td>0</td></tr><tr><td>dbfs:/FileStore/shared_uploads/zaderohish5@gmail.com/out/ORIGIN_COUNTRY_NAME=Senegal/</td><td>ORIGIN_COUNTRY_NAME=Senegal/</td><td>0</td><td>0</td></tr><tr><td>dbfs:/FileStore/shared_uploads/zaderohish5@gmail.com/out/ORIGIN_COUNTRY_NAME=Serbia/</td><td>ORIGIN_COUNTRY_NAME=Serbia/</td><td>0</td><td>0</td></tr><tr><td>dbfs:/FileStore/shared_uploads/zaderohish5@gmail.com/out/ORIGIN_COUNTRY_NAME=Singapore/</td><td>ORIGIN_COUNTRY_NAME=Singapore/</td><td>0</td><td>0</td></tr><tr><td>dbfs:/FileStore/shared_uploads/zaderohish5@gmail.com/out/ORIGIN_COUNTRY_NAME=Sint Maarten/</td><td>ORIGIN_COUNTRY_NAME=Sint Maarten/</td><td>0</td><td>0</td></tr><tr><td>dbfs:/FileStore/shared_uploads/zaderohish5@gmail.com/out/ORIGIN_COUNTRY_NAME=Slovakia/</td><td>ORIGIN_COUNTRY_NAME=Slovakia/</td><td>0</td><td>0</td></tr><tr><td>dbfs:/FileStore/shared_uploads/zaderohish5@gmail.com/out/ORIGIN_COUNTRY_NAME=South Africa/</td><td>ORIGIN_COUNTRY_NAME=South Africa/</td><td>0</td><td>0</td></tr><tr><td>dbfs:/FileStore/shared_uploads/zaderohish5@gmail.com/out/ORIGIN_COUNTRY_NAME=South Korea/</td><td>ORIGIN_COUNTRY_NAME=South Korea/</td><td>0</td><td>0</td></tr><tr><td>dbfs:/FileStore/shared_uploads/zaderohish5@gmail.com/out/ORIGIN_COUNTRY_NAME=Spain/</td><td>ORIGIN_COUNTRY_NAME=Spain/</td><td>0</td><td>0</td></tr><tr><td>dbfs:/FileStore/shared_uploads/zaderohish5@gmail.com/out/ORIGIN_COUNTRY_NAME=Suriname/</td><td>ORIGIN_COUNTRY_NAME=Suriname/</td><td>0</td><td>0</td></tr><tr><td>dbfs:/FileStore/shared_uploads/zaderohish5@gmail.com/out/ORIGIN_COUNTRY_NAME=Sweden/</td><td>ORIGIN_COUNTRY_NAME=Sweden/</td><td>0</td><td>0</td></tr><tr><td>dbfs:/FileStore/shared_uploads/zaderohish5@gmail.com/out/ORIGIN_COUNTRY_NAME=Switzerland/</td><td>ORIGIN_COUNTRY_NAME=Switzerland/</td><td>0</td><td>0</td></tr><tr><td>dbfs:/FileStore/shared_uploads/zaderohish5@gmail.com/out/ORIGIN_COUNTRY_NAME=Taiwan/</td><td>ORIGIN_COUNTRY_NAME=Taiwan/</td><td>0</td><td>0</td></tr><tr><td>dbfs:/FileStore/shared_uploads/zaderohish5@gmail.com/out/ORIGIN_COUNTRY_NAME=Thailand/</td><td>ORIGIN_COUNTRY_NAME=Thailand/</td><td>0</td><td>0</td></tr><tr><td>dbfs:/FileStore/shared_uploads/zaderohish5@gmail.com/out/ORIGIN_COUNTRY_NAME=The Bahamas/</td><td>ORIGIN_COUNTRY_NAME=The Bahamas/</td><td>0</td><td>0</td></tr><tr><td>dbfs:/FileStore/shared_uploads/zaderohish5@gmail.com/out/ORIGIN_COUNTRY_NAME=Trinidad and Tobago/</td><td>ORIGIN_COUNTRY_NAME=Trinidad and Tobago/</td><td>0</td><td>0</td></tr><tr><td>dbfs:/FileStore/shared_uploads/zaderohish5@gmail.com/out/ORIGIN_COUNTRY_NAME=Turkey/</td><td>ORIGIN_COUNTRY_NAME=Turkey/</td><td>0</td><td>0</td></tr><tr><td>dbfs:/FileStore/shared_uploads/zaderohish5@gmail.com/out/ORIGIN_COUNTRY_NAME=Turks and Caicos Islands/</td><td>ORIGIN_COUNTRY_NAME=Turks and Caicos Islands/</td><td>0</td><td>0</td></tr><tr><td>dbfs:/FileStore/shared_uploads/zaderohish5@gmail.com/out/ORIGIN_COUNTRY_NAME=Uganda/</td><td>ORIGIN_COUNTRY_NAME=Uganda/</td><td>0</td><td>0</td></tr><tr><td>dbfs:/FileStore/shared_uploads/zaderohish5@gmail.com/out/ORIGIN_COUNTRY_NAME=Ukraine/</td><td>ORIGIN_COUNTRY_NAME=Ukraine/</td><td>0</td><td>0</td></tr><tr><td>dbfs:/FileStore/shared_uploads/zaderohish5@gmail.com/out/ORIGIN_COUNTRY_NAME=United Arab Emirates/</td><td>ORIGIN_COUNTRY_NAME=United Arab Emirates/</td><td>0</td><td>0</td></tr><tr><td>dbfs:/FileStore/shared_uploads/zaderohish5@gmail.com/out/ORIGIN_COUNTRY_NAME=United Kingdom/</td><td>ORIGIN_COUNTRY_NAME=United Kingdom/</td><td>0</td><td>0</td></tr><tr><td>dbfs:/FileStore/shared_uploads/zaderohish5@gmail.com/out/ORIGIN_COUNTRY_NAME=United States/</td><td>ORIGIN_COUNTRY_NAME=United States/</td><td>0</td><td>0</td></tr><tr><td>dbfs:/FileStore/shared_uploads/zaderohish5@gmail.com/out/ORIGIN_COUNTRY_NAME=Uruguay/</td><td>ORIGIN_COUNTRY_NAME=Uruguay/</td><td>0</td><td>0</td></tr><tr><td>dbfs:/FileStore/shared_uploads/zaderohish5@gmail.com/out/ORIGIN_COUNTRY_NAME=Venezuela/</td><td>ORIGIN_COUNTRY_NAME=Venezuela/</td><td>0</td><td>0</td></tr><tr><td>dbfs:/FileStore/shared_uploads/zaderohish5@gmail.com/out/ORIGIN_COUNTRY_NAME=Vietnam/</td><td>ORIGIN_COUNTRY_NAME=Vietnam/</td><td>0</td><td>0</td></tr><tr><td>dbfs:/FileStore/shared_uploads/zaderohish5@gmail.com/out/_SUCCESS</td><td>_SUCCESS</td><td>0</td><td>1733468419000</td></tr></tbody></table></div>"
      ]
     },
     "metadata": {
      "application/vnd.databricks.v1+output": {
       "addedWidgets": {},
       "aggData": [],
       "aggError": "",
       "aggOverflow": false,
       "aggSchema": [],
       "aggSeriesLimitReached": false,
       "aggType": "",
       "arguments": {},
       "columnCustomDisplayInfos": {},
       "data": [
        [
         "dbfs:/FileStore/shared_uploads/zaderohish5@gmail.com/out/ORIGIN_COUNTRY_NAME=Afghanistan/",
         "ORIGIN_COUNTRY_NAME=Afghanistan/",
         0,
         0
        ],
        [
         "dbfs:/FileStore/shared_uploads/zaderohish5@gmail.com/out/ORIGIN_COUNTRY_NAME=Algeria/",
         "ORIGIN_COUNTRY_NAME=Algeria/",
         0,
         0
        ],
        [
         "dbfs:/FileStore/shared_uploads/zaderohish5@gmail.com/out/ORIGIN_COUNTRY_NAME=Angola/",
         "ORIGIN_COUNTRY_NAME=Angola/",
         0,
         0
        ],
        [
         "dbfs:/FileStore/shared_uploads/zaderohish5@gmail.com/out/ORIGIN_COUNTRY_NAME=Anguilla/",
         "ORIGIN_COUNTRY_NAME=Anguilla/",
         0,
         0
        ],
        [
         "dbfs:/FileStore/shared_uploads/zaderohish5@gmail.com/out/ORIGIN_COUNTRY_NAME=Antigua and Barbuda/",
         "ORIGIN_COUNTRY_NAME=Antigua and Barbuda/",
         0,
         0
        ],
        [
         "dbfs:/FileStore/shared_uploads/zaderohish5@gmail.com/out/ORIGIN_COUNTRY_NAME=Argentina/",
         "ORIGIN_COUNTRY_NAME=Argentina/",
         0,
         0
        ],
        [
         "dbfs:/FileStore/shared_uploads/zaderohish5@gmail.com/out/ORIGIN_COUNTRY_NAME=Aruba/",
         "ORIGIN_COUNTRY_NAME=Aruba/",
         0,
         0
        ],
        [
         "dbfs:/FileStore/shared_uploads/zaderohish5@gmail.com/out/ORIGIN_COUNTRY_NAME=Australia/",
         "ORIGIN_COUNTRY_NAME=Australia/",
         0,
         0
        ],
        [
         "dbfs:/FileStore/shared_uploads/zaderohish5@gmail.com/out/ORIGIN_COUNTRY_NAME=Austria/",
         "ORIGIN_COUNTRY_NAME=Austria/",
         0,
         0
        ],
        [
         "dbfs:/FileStore/shared_uploads/zaderohish5@gmail.com/out/ORIGIN_COUNTRY_NAME=Azerbaijan/",
         "ORIGIN_COUNTRY_NAME=Azerbaijan/",
         0,
         0
        ],
        [
         "dbfs:/FileStore/shared_uploads/zaderohish5@gmail.com/out/ORIGIN_COUNTRY_NAME=Bahrain/",
         "ORIGIN_COUNTRY_NAME=Bahrain/",
         0,
         0
        ],
        [
         "dbfs:/FileStore/shared_uploads/zaderohish5@gmail.com/out/ORIGIN_COUNTRY_NAME=Barbados/",
         "ORIGIN_COUNTRY_NAME=Barbados/",
         0,
         0
        ],
        [
         "dbfs:/FileStore/shared_uploads/zaderohish5@gmail.com/out/ORIGIN_COUNTRY_NAME=Belgium/",
         "ORIGIN_COUNTRY_NAME=Belgium/",
         0,
         0
        ],
        [
         "dbfs:/FileStore/shared_uploads/zaderohish5@gmail.com/out/ORIGIN_COUNTRY_NAME=Belize/",
         "ORIGIN_COUNTRY_NAME=Belize/",
         0,
         0
        ],
        [
         "dbfs:/FileStore/shared_uploads/zaderohish5@gmail.com/out/ORIGIN_COUNTRY_NAME=Bermuda/",
         "ORIGIN_COUNTRY_NAME=Bermuda/",
         0,
         0
        ],
        [
         "dbfs:/FileStore/shared_uploads/zaderohish5@gmail.com/out/ORIGIN_COUNTRY_NAME=Bolivia/",
         "ORIGIN_COUNTRY_NAME=Bolivia/",
         0,
         0
        ],
        [
         "dbfs:/FileStore/shared_uploads/zaderohish5@gmail.com/out/ORIGIN_COUNTRY_NAME=Bonaire, Sint Eustatius, and Saba/",
         "ORIGIN_COUNTRY_NAME=Bonaire, Sint Eustatius, and Saba/",
         0,
         0
        ],
        [
         "dbfs:/FileStore/shared_uploads/zaderohish5@gmail.com/out/ORIGIN_COUNTRY_NAME=Bosnia and Herzegovina/",
         "ORIGIN_COUNTRY_NAME=Bosnia and Herzegovina/",
         0,
         0
        ],
        [
         "dbfs:/FileStore/shared_uploads/zaderohish5@gmail.com/out/ORIGIN_COUNTRY_NAME=Brazil/",
         "ORIGIN_COUNTRY_NAME=Brazil/",
         0,
         0
        ],
        [
         "dbfs:/FileStore/shared_uploads/zaderohish5@gmail.com/out/ORIGIN_COUNTRY_NAME=British Virgin Islands/",
         "ORIGIN_COUNTRY_NAME=British Virgin Islands/",
         0,
         0
        ],
        [
         "dbfs:/FileStore/shared_uploads/zaderohish5@gmail.com/out/ORIGIN_COUNTRY_NAME=Bulgaria/",
         "ORIGIN_COUNTRY_NAME=Bulgaria/",
         0,
         0
        ],
        [
         "dbfs:/FileStore/shared_uploads/zaderohish5@gmail.com/out/ORIGIN_COUNTRY_NAME=Burkina Faso/",
         "ORIGIN_COUNTRY_NAME=Burkina Faso/",
         0,
         0
        ],
        [
         "dbfs:/FileStore/shared_uploads/zaderohish5@gmail.com/out/ORIGIN_COUNTRY_NAME=Cameroon/",
         "ORIGIN_COUNTRY_NAME=Cameroon/",
         0,
         0
        ],
        [
         "dbfs:/FileStore/shared_uploads/zaderohish5@gmail.com/out/ORIGIN_COUNTRY_NAME=Canada/",
         "ORIGIN_COUNTRY_NAME=Canada/",
         0,
         0
        ],
        [
         "dbfs:/FileStore/shared_uploads/zaderohish5@gmail.com/out/ORIGIN_COUNTRY_NAME=Cape Verde/",
         "ORIGIN_COUNTRY_NAME=Cape Verde/",
         0,
         0
        ],
        [
         "dbfs:/FileStore/shared_uploads/zaderohish5@gmail.com/out/ORIGIN_COUNTRY_NAME=Cayman Islands/",
         "ORIGIN_COUNTRY_NAME=Cayman Islands/",
         0,
         0
        ],
        [
         "dbfs:/FileStore/shared_uploads/zaderohish5@gmail.com/out/ORIGIN_COUNTRY_NAME=Chile/",
         "ORIGIN_COUNTRY_NAME=Chile/",
         0,
         0
        ],
        [
         "dbfs:/FileStore/shared_uploads/zaderohish5@gmail.com/out/ORIGIN_COUNTRY_NAME=China/",
         "ORIGIN_COUNTRY_NAME=China/",
         0,
         0
        ],
        [
         "dbfs:/FileStore/shared_uploads/zaderohish5@gmail.com/out/ORIGIN_COUNTRY_NAME=Colombia/",
         "ORIGIN_COUNTRY_NAME=Colombia/",
         0,
         0
        ],
        [
         "dbfs:/FileStore/shared_uploads/zaderohish5@gmail.com/out/ORIGIN_COUNTRY_NAME=Cook Islands/",
         "ORIGIN_COUNTRY_NAME=Cook Islands/",
         0,
         0
        ],
        [
         "dbfs:/FileStore/shared_uploads/zaderohish5@gmail.com/out/ORIGIN_COUNTRY_NAME=Costa Rica/",
         "ORIGIN_COUNTRY_NAME=Costa Rica/",
         0,
         0
        ],
        [
         "dbfs:/FileStore/shared_uploads/zaderohish5@gmail.com/out/ORIGIN_COUNTRY_NAME=Cuba/",
         "ORIGIN_COUNTRY_NAME=Cuba/",
         0,
         0
        ],
        [
         "dbfs:/FileStore/shared_uploads/zaderohish5@gmail.com/out/ORIGIN_COUNTRY_NAME=Curacao/",
         "ORIGIN_COUNTRY_NAME=Curacao/",
         0,
         0
        ],
        [
         "dbfs:/FileStore/shared_uploads/zaderohish5@gmail.com/out/ORIGIN_COUNTRY_NAME=Cyprus/",
         "ORIGIN_COUNTRY_NAME=Cyprus/",
         0,
         0
        ],
        [
         "dbfs:/FileStore/shared_uploads/zaderohish5@gmail.com/out/ORIGIN_COUNTRY_NAME=Czech Republic/",
         "ORIGIN_COUNTRY_NAME=Czech Republic/",
         0,
         0
        ],
        [
         "dbfs:/FileStore/shared_uploads/zaderohish5@gmail.com/out/ORIGIN_COUNTRY_NAME=Denmark/",
         "ORIGIN_COUNTRY_NAME=Denmark/",
         0,
         0
        ],
        [
         "dbfs:/FileStore/shared_uploads/zaderohish5@gmail.com/out/ORIGIN_COUNTRY_NAME=Dominica/",
         "ORIGIN_COUNTRY_NAME=Dominica/",
         0,
         0
        ],
        [
         "dbfs:/FileStore/shared_uploads/zaderohish5@gmail.com/out/ORIGIN_COUNTRY_NAME=Dominican Republic/",
         "ORIGIN_COUNTRY_NAME=Dominican Republic/",
         0,
         0
        ],
        [
         "dbfs:/FileStore/shared_uploads/zaderohish5@gmail.com/out/ORIGIN_COUNTRY_NAME=Ecuador/",
         "ORIGIN_COUNTRY_NAME=Ecuador/",
         0,
         0
        ],
        [
         "dbfs:/FileStore/shared_uploads/zaderohish5@gmail.com/out/ORIGIN_COUNTRY_NAME=Egypt/",
         "ORIGIN_COUNTRY_NAME=Egypt/",
         0,
         0
        ],
        [
         "dbfs:/FileStore/shared_uploads/zaderohish5@gmail.com/out/ORIGIN_COUNTRY_NAME=El Salvador/",
         "ORIGIN_COUNTRY_NAME=El Salvador/",
         0,
         0
        ],
        [
         "dbfs:/FileStore/shared_uploads/zaderohish5@gmail.com/out/ORIGIN_COUNTRY_NAME=Estonia/",
         "ORIGIN_COUNTRY_NAME=Estonia/",
         0,
         0
        ],
        [
         "dbfs:/FileStore/shared_uploads/zaderohish5@gmail.com/out/ORIGIN_COUNTRY_NAME=Ethiopia/",
         "ORIGIN_COUNTRY_NAME=Ethiopia/",
         0,
         0
        ],
        [
         "dbfs:/FileStore/shared_uploads/zaderohish5@gmail.com/out/ORIGIN_COUNTRY_NAME=Federated States of Micronesia/",
         "ORIGIN_COUNTRY_NAME=Federated States of Micronesia/",
         0,
         0
        ],
        [
         "dbfs:/FileStore/shared_uploads/zaderohish5@gmail.com/out/ORIGIN_COUNTRY_NAME=Fiji/",
         "ORIGIN_COUNTRY_NAME=Fiji/",
         0,
         0
        ],
        [
         "dbfs:/FileStore/shared_uploads/zaderohish5@gmail.com/out/ORIGIN_COUNTRY_NAME=Finland/",
         "ORIGIN_COUNTRY_NAME=Finland/",
         0,
         0
        ],
        [
         "dbfs:/FileStore/shared_uploads/zaderohish5@gmail.com/out/ORIGIN_COUNTRY_NAME=France/",
         "ORIGIN_COUNTRY_NAME=France/",
         0,
         0
        ],
        [
         "dbfs:/FileStore/shared_uploads/zaderohish5@gmail.com/out/ORIGIN_COUNTRY_NAME=French Guiana/",
         "ORIGIN_COUNTRY_NAME=French Guiana/",
         0,
         0
        ],
        [
         "dbfs:/FileStore/shared_uploads/zaderohish5@gmail.com/out/ORIGIN_COUNTRY_NAME=French Polynesia/",
         "ORIGIN_COUNTRY_NAME=French Polynesia/",
         0,
         0
        ],
        [
         "dbfs:/FileStore/shared_uploads/zaderohish5@gmail.com/out/ORIGIN_COUNTRY_NAME=Gabon/",
         "ORIGIN_COUNTRY_NAME=Gabon/",
         0,
         0
        ],
        [
         "dbfs:/FileStore/shared_uploads/zaderohish5@gmail.com/out/ORIGIN_COUNTRY_NAME=Germany/",
         "ORIGIN_COUNTRY_NAME=Germany/",
         0,
         0
        ],
        [
         "dbfs:/FileStore/shared_uploads/zaderohish5@gmail.com/out/ORIGIN_COUNTRY_NAME=Ghana/",
         "ORIGIN_COUNTRY_NAME=Ghana/",
         0,
         0
        ],
        [
         "dbfs:/FileStore/shared_uploads/zaderohish5@gmail.com/out/ORIGIN_COUNTRY_NAME=Greece/",
         "ORIGIN_COUNTRY_NAME=Greece/",
         0,
         0
        ],
        [
         "dbfs:/FileStore/shared_uploads/zaderohish5@gmail.com/out/ORIGIN_COUNTRY_NAME=Greenland/",
         "ORIGIN_COUNTRY_NAME=Greenland/",
         0,
         0
        ],
        [
         "dbfs:/FileStore/shared_uploads/zaderohish5@gmail.com/out/ORIGIN_COUNTRY_NAME=Grenada/",
         "ORIGIN_COUNTRY_NAME=Grenada/",
         0,
         0
        ],
        [
         "dbfs:/FileStore/shared_uploads/zaderohish5@gmail.com/out/ORIGIN_COUNTRY_NAME=Guadeloupe/",
         "ORIGIN_COUNTRY_NAME=Guadeloupe/",
         0,
         0
        ],
        [
         "dbfs:/FileStore/shared_uploads/zaderohish5@gmail.com/out/ORIGIN_COUNTRY_NAME=Guatemala/",
         "ORIGIN_COUNTRY_NAME=Guatemala/",
         0,
         0
        ],
        [
         "dbfs:/FileStore/shared_uploads/zaderohish5@gmail.com/out/ORIGIN_COUNTRY_NAME=Guyana/",
         "ORIGIN_COUNTRY_NAME=Guyana/",
         0,
         0
        ],
        [
         "dbfs:/FileStore/shared_uploads/zaderohish5@gmail.com/out/ORIGIN_COUNTRY_NAME=Haiti/",
         "ORIGIN_COUNTRY_NAME=Haiti/",
         0,
         0
        ],
        [
         "dbfs:/FileStore/shared_uploads/zaderohish5@gmail.com/out/ORIGIN_COUNTRY_NAME=Honduras/",
         "ORIGIN_COUNTRY_NAME=Honduras/",
         0,
         0
        ],
        [
         "dbfs:/FileStore/shared_uploads/zaderohish5@gmail.com/out/ORIGIN_COUNTRY_NAME=Hong Kong/",
         "ORIGIN_COUNTRY_NAME=Hong Kong/",
         0,
         0
        ],
        [
         "dbfs:/FileStore/shared_uploads/zaderohish5@gmail.com/out/ORIGIN_COUNTRY_NAME=Hungary/",
         "ORIGIN_COUNTRY_NAME=Hungary/",
         0,
         0
        ],
        [
         "dbfs:/FileStore/shared_uploads/zaderohish5@gmail.com/out/ORIGIN_COUNTRY_NAME=Iceland/",
         "ORIGIN_COUNTRY_NAME=Iceland/",
         0,
         0
        ],
        [
         "dbfs:/FileStore/shared_uploads/zaderohish5@gmail.com/out/ORIGIN_COUNTRY_NAME=India/",
         "ORIGIN_COUNTRY_NAME=India/",
         0,
         0
        ],
        [
         "dbfs:/FileStore/shared_uploads/zaderohish5@gmail.com/out/ORIGIN_COUNTRY_NAME=Indonesia/",
         "ORIGIN_COUNTRY_NAME=Indonesia/",
         0,
         0
        ],
        [
         "dbfs:/FileStore/shared_uploads/zaderohish5@gmail.com/out/ORIGIN_COUNTRY_NAME=Ireland/",
         "ORIGIN_COUNTRY_NAME=Ireland/",
         0,
         0
        ],
        [
         "dbfs:/FileStore/shared_uploads/zaderohish5@gmail.com/out/ORIGIN_COUNTRY_NAME=Israel/",
         "ORIGIN_COUNTRY_NAME=Israel/",
         0,
         0
        ],
        [
         "dbfs:/FileStore/shared_uploads/zaderohish5@gmail.com/out/ORIGIN_COUNTRY_NAME=Italy/",
         "ORIGIN_COUNTRY_NAME=Italy/",
         0,
         0
        ],
        [
         "dbfs:/FileStore/shared_uploads/zaderohish5@gmail.com/out/ORIGIN_COUNTRY_NAME=Jamaica/",
         "ORIGIN_COUNTRY_NAME=Jamaica/",
         0,
         0
        ],
        [
         "dbfs:/FileStore/shared_uploads/zaderohish5@gmail.com/out/ORIGIN_COUNTRY_NAME=Japan/",
         "ORIGIN_COUNTRY_NAME=Japan/",
         0,
         0
        ],
        [
         "dbfs:/FileStore/shared_uploads/zaderohish5@gmail.com/out/ORIGIN_COUNTRY_NAME=Jordan/",
         "ORIGIN_COUNTRY_NAME=Jordan/",
         0,
         0
        ],
        [
         "dbfs:/FileStore/shared_uploads/zaderohish5@gmail.com/out/ORIGIN_COUNTRY_NAME=Kiribati/",
         "ORIGIN_COUNTRY_NAME=Kiribati/",
         0,
         0
        ],
        [
         "dbfs:/FileStore/shared_uploads/zaderohish5@gmail.com/out/ORIGIN_COUNTRY_NAME=Kuwait/",
         "ORIGIN_COUNTRY_NAME=Kuwait/",
         0,
         0
        ],
        [
         "dbfs:/FileStore/shared_uploads/zaderohish5@gmail.com/out/ORIGIN_COUNTRY_NAME=Kyrgyzstan/",
         "ORIGIN_COUNTRY_NAME=Kyrgyzstan/",
         0,
         0
        ],
        [
         "dbfs:/FileStore/shared_uploads/zaderohish5@gmail.com/out/ORIGIN_COUNTRY_NAME=Latvia/",
         "ORIGIN_COUNTRY_NAME=Latvia/",
         0,
         0
        ],
        [
         "dbfs:/FileStore/shared_uploads/zaderohish5@gmail.com/out/ORIGIN_COUNTRY_NAME=Liberia/",
         "ORIGIN_COUNTRY_NAME=Liberia/",
         0,
         0
        ],
        [
         "dbfs:/FileStore/shared_uploads/zaderohish5@gmail.com/out/ORIGIN_COUNTRY_NAME=Luxembourg/",
         "ORIGIN_COUNTRY_NAME=Luxembourg/",
         0,
         0
        ],
        [
         "dbfs:/FileStore/shared_uploads/zaderohish5@gmail.com/out/ORIGIN_COUNTRY_NAME=Malaysia/",
         "ORIGIN_COUNTRY_NAME=Malaysia/",
         0,
         0
        ],
        [
         "dbfs:/FileStore/shared_uploads/zaderohish5@gmail.com/out/ORIGIN_COUNTRY_NAME=Malta/",
         "ORIGIN_COUNTRY_NAME=Malta/",
         0,
         0
        ],
        [
         "dbfs:/FileStore/shared_uploads/zaderohish5@gmail.com/out/ORIGIN_COUNTRY_NAME=Marshall Islands/",
         "ORIGIN_COUNTRY_NAME=Marshall Islands/",
         0,
         0
        ],
        [
         "dbfs:/FileStore/shared_uploads/zaderohish5@gmail.com/out/ORIGIN_COUNTRY_NAME=Martinique/",
         "ORIGIN_COUNTRY_NAME=Martinique/",
         0,
         0
        ],
        [
         "dbfs:/FileStore/shared_uploads/zaderohish5@gmail.com/out/ORIGIN_COUNTRY_NAME=Mexico/",
         "ORIGIN_COUNTRY_NAME=Mexico/",
         0,
         0
        ],
        [
         "dbfs:/FileStore/shared_uploads/zaderohish5@gmail.com/out/ORIGIN_COUNTRY_NAME=Morocco/",
         "ORIGIN_COUNTRY_NAME=Morocco/",
         0,
         0
        ],
        [
         "dbfs:/FileStore/shared_uploads/zaderohish5@gmail.com/out/ORIGIN_COUNTRY_NAME=Netherlands/",
         "ORIGIN_COUNTRY_NAME=Netherlands/",
         0,
         0
        ],
        [
         "dbfs:/FileStore/shared_uploads/zaderohish5@gmail.com/out/ORIGIN_COUNTRY_NAME=Netherlands Antilles/",
         "ORIGIN_COUNTRY_NAME=Netherlands Antilles/",
         0,
         0
        ],
        [
         "dbfs:/FileStore/shared_uploads/zaderohish5@gmail.com/out/ORIGIN_COUNTRY_NAME=New Zealand/",
         "ORIGIN_COUNTRY_NAME=New Zealand/",
         0,
         0
        ],
        [
         "dbfs:/FileStore/shared_uploads/zaderohish5@gmail.com/out/ORIGIN_COUNTRY_NAME=Nicaragua/",
         "ORIGIN_COUNTRY_NAME=Nicaragua/",
         0,
         0
        ],
        [
         "dbfs:/FileStore/shared_uploads/zaderohish5@gmail.com/out/ORIGIN_COUNTRY_NAME=Nigeria/",
         "ORIGIN_COUNTRY_NAME=Nigeria/",
         0,
         0
        ],
        [
         "dbfs:/FileStore/shared_uploads/zaderohish5@gmail.com/out/ORIGIN_COUNTRY_NAME=Norway/",
         "ORIGIN_COUNTRY_NAME=Norway/",
         0,
         0
        ],
        [
         "dbfs:/FileStore/shared_uploads/zaderohish5@gmail.com/out/ORIGIN_COUNTRY_NAME=Pakistan/",
         "ORIGIN_COUNTRY_NAME=Pakistan/",
         0,
         0
        ],
        [
         "dbfs:/FileStore/shared_uploads/zaderohish5@gmail.com/out/ORIGIN_COUNTRY_NAME=Palau/",
         "ORIGIN_COUNTRY_NAME=Palau/",
         0,
         0
        ],
        [
         "dbfs:/FileStore/shared_uploads/zaderohish5@gmail.com/out/ORIGIN_COUNTRY_NAME=Panama/",
         "ORIGIN_COUNTRY_NAME=Panama/",
         0,
         0
        ],
        [
         "dbfs:/FileStore/shared_uploads/zaderohish5@gmail.com/out/ORIGIN_COUNTRY_NAME=Papua New Guinea/",
         "ORIGIN_COUNTRY_NAME=Papua New Guinea/",
         0,
         0
        ],
        [
         "dbfs:/FileStore/shared_uploads/zaderohish5@gmail.com/out/ORIGIN_COUNTRY_NAME=Peru/",
         "ORIGIN_COUNTRY_NAME=Peru/",
         0,
         0
        ],
        [
         "dbfs:/FileStore/shared_uploads/zaderohish5@gmail.com/out/ORIGIN_COUNTRY_NAME=Philippines/",
         "ORIGIN_COUNTRY_NAME=Philippines/",
         0,
         0
        ],
        [
         "dbfs:/FileStore/shared_uploads/zaderohish5@gmail.com/out/ORIGIN_COUNTRY_NAME=Poland/",
         "ORIGIN_COUNTRY_NAME=Poland/",
         0,
         0
        ],
        [
         "dbfs:/FileStore/shared_uploads/zaderohish5@gmail.com/out/ORIGIN_COUNTRY_NAME=Portugal/",
         "ORIGIN_COUNTRY_NAME=Portugal/",
         0,
         0
        ],
        [
         "dbfs:/FileStore/shared_uploads/zaderohish5@gmail.com/out/ORIGIN_COUNTRY_NAME=Qatar/",
         "ORIGIN_COUNTRY_NAME=Qatar/",
         0,
         0
        ],
        [
         "dbfs:/FileStore/shared_uploads/zaderohish5@gmail.com/out/ORIGIN_COUNTRY_NAME=Romania/",
         "ORIGIN_COUNTRY_NAME=Romania/",
         0,
         0
        ],
        [
         "dbfs:/FileStore/shared_uploads/zaderohish5@gmail.com/out/ORIGIN_COUNTRY_NAME=Russia/",
         "ORIGIN_COUNTRY_NAME=Russia/",
         0,
         0
        ],
        [
         "dbfs:/FileStore/shared_uploads/zaderohish5@gmail.com/out/ORIGIN_COUNTRY_NAME=Saint Barthelemy/",
         "ORIGIN_COUNTRY_NAME=Saint Barthelemy/",
         0,
         0
        ],
        [
         "dbfs:/FileStore/shared_uploads/zaderohish5@gmail.com/out/ORIGIN_COUNTRY_NAME=Saint Kitts and Nevis/",
         "ORIGIN_COUNTRY_NAME=Saint Kitts and Nevis/",
         0,
         0
        ],
        [
         "dbfs:/FileStore/shared_uploads/zaderohish5@gmail.com/out/ORIGIN_COUNTRY_NAME=Saint Lucia/",
         "ORIGIN_COUNTRY_NAME=Saint Lucia/",
         0,
         0
        ],
        [
         "dbfs:/FileStore/shared_uploads/zaderohish5@gmail.com/out/ORIGIN_COUNTRY_NAME=Saint Vincent and the Grenadines/",
         "ORIGIN_COUNTRY_NAME=Saint Vincent and the Grenadines/",
         0,
         0
        ],
        [
         "dbfs:/FileStore/shared_uploads/zaderohish5@gmail.com/out/ORIGIN_COUNTRY_NAME=Samoa/",
         "ORIGIN_COUNTRY_NAME=Samoa/",
         0,
         0
        ],
        [
         "dbfs:/FileStore/shared_uploads/zaderohish5@gmail.com/out/ORIGIN_COUNTRY_NAME=Saudi Arabia/",
         "ORIGIN_COUNTRY_NAME=Saudi Arabia/",
         0,
         0
        ],
        [
         "dbfs:/FileStore/shared_uploads/zaderohish5@gmail.com/out/ORIGIN_COUNTRY_NAME=Senegal/",
         "ORIGIN_COUNTRY_NAME=Senegal/",
         0,
         0
        ],
        [
         "dbfs:/FileStore/shared_uploads/zaderohish5@gmail.com/out/ORIGIN_COUNTRY_NAME=Serbia/",
         "ORIGIN_COUNTRY_NAME=Serbia/",
         0,
         0
        ],
        [
         "dbfs:/FileStore/shared_uploads/zaderohish5@gmail.com/out/ORIGIN_COUNTRY_NAME=Singapore/",
         "ORIGIN_COUNTRY_NAME=Singapore/",
         0,
         0
        ],
        [
         "dbfs:/FileStore/shared_uploads/zaderohish5@gmail.com/out/ORIGIN_COUNTRY_NAME=Sint Maarten/",
         "ORIGIN_COUNTRY_NAME=Sint Maarten/",
         0,
         0
        ],
        [
         "dbfs:/FileStore/shared_uploads/zaderohish5@gmail.com/out/ORIGIN_COUNTRY_NAME=Slovakia/",
         "ORIGIN_COUNTRY_NAME=Slovakia/",
         0,
         0
        ],
        [
         "dbfs:/FileStore/shared_uploads/zaderohish5@gmail.com/out/ORIGIN_COUNTRY_NAME=South Africa/",
         "ORIGIN_COUNTRY_NAME=South Africa/",
         0,
         0
        ],
        [
         "dbfs:/FileStore/shared_uploads/zaderohish5@gmail.com/out/ORIGIN_COUNTRY_NAME=South Korea/",
         "ORIGIN_COUNTRY_NAME=South Korea/",
         0,
         0
        ],
        [
         "dbfs:/FileStore/shared_uploads/zaderohish5@gmail.com/out/ORIGIN_COUNTRY_NAME=Spain/",
         "ORIGIN_COUNTRY_NAME=Spain/",
         0,
         0
        ],
        [
         "dbfs:/FileStore/shared_uploads/zaderohish5@gmail.com/out/ORIGIN_COUNTRY_NAME=Suriname/",
         "ORIGIN_COUNTRY_NAME=Suriname/",
         0,
         0
        ],
        [
         "dbfs:/FileStore/shared_uploads/zaderohish5@gmail.com/out/ORIGIN_COUNTRY_NAME=Sweden/",
         "ORIGIN_COUNTRY_NAME=Sweden/",
         0,
         0
        ],
        [
         "dbfs:/FileStore/shared_uploads/zaderohish5@gmail.com/out/ORIGIN_COUNTRY_NAME=Switzerland/",
         "ORIGIN_COUNTRY_NAME=Switzerland/",
         0,
         0
        ],
        [
         "dbfs:/FileStore/shared_uploads/zaderohish5@gmail.com/out/ORIGIN_COUNTRY_NAME=Taiwan/",
         "ORIGIN_COUNTRY_NAME=Taiwan/",
         0,
         0
        ],
        [
         "dbfs:/FileStore/shared_uploads/zaderohish5@gmail.com/out/ORIGIN_COUNTRY_NAME=Thailand/",
         "ORIGIN_COUNTRY_NAME=Thailand/",
         0,
         0
        ],
        [
         "dbfs:/FileStore/shared_uploads/zaderohish5@gmail.com/out/ORIGIN_COUNTRY_NAME=The Bahamas/",
         "ORIGIN_COUNTRY_NAME=The Bahamas/",
         0,
         0
        ],
        [
         "dbfs:/FileStore/shared_uploads/zaderohish5@gmail.com/out/ORIGIN_COUNTRY_NAME=Trinidad and Tobago/",
         "ORIGIN_COUNTRY_NAME=Trinidad and Tobago/",
         0,
         0
        ],
        [
         "dbfs:/FileStore/shared_uploads/zaderohish5@gmail.com/out/ORIGIN_COUNTRY_NAME=Turkey/",
         "ORIGIN_COUNTRY_NAME=Turkey/",
         0,
         0
        ],
        [
         "dbfs:/FileStore/shared_uploads/zaderohish5@gmail.com/out/ORIGIN_COUNTRY_NAME=Turks and Caicos Islands/",
         "ORIGIN_COUNTRY_NAME=Turks and Caicos Islands/",
         0,
         0
        ],
        [
         "dbfs:/FileStore/shared_uploads/zaderohish5@gmail.com/out/ORIGIN_COUNTRY_NAME=Uganda/",
         "ORIGIN_COUNTRY_NAME=Uganda/",
         0,
         0
        ],
        [
         "dbfs:/FileStore/shared_uploads/zaderohish5@gmail.com/out/ORIGIN_COUNTRY_NAME=Ukraine/",
         "ORIGIN_COUNTRY_NAME=Ukraine/",
         0,
         0
        ],
        [
         "dbfs:/FileStore/shared_uploads/zaderohish5@gmail.com/out/ORIGIN_COUNTRY_NAME=United Arab Emirates/",
         "ORIGIN_COUNTRY_NAME=United Arab Emirates/",
         0,
         0
        ],
        [
         "dbfs:/FileStore/shared_uploads/zaderohish5@gmail.com/out/ORIGIN_COUNTRY_NAME=United Kingdom/",
         "ORIGIN_COUNTRY_NAME=United Kingdom/",
         0,
         0
        ],
        [
         "dbfs:/FileStore/shared_uploads/zaderohish5@gmail.com/out/ORIGIN_COUNTRY_NAME=United States/",
         "ORIGIN_COUNTRY_NAME=United States/",
         0,
         0
        ],
        [
         "dbfs:/FileStore/shared_uploads/zaderohish5@gmail.com/out/ORIGIN_COUNTRY_NAME=Uruguay/",
         "ORIGIN_COUNTRY_NAME=Uruguay/",
         0,
         0
        ],
        [
         "dbfs:/FileStore/shared_uploads/zaderohish5@gmail.com/out/ORIGIN_COUNTRY_NAME=Venezuela/",
         "ORIGIN_COUNTRY_NAME=Venezuela/",
         0,
         0
        ],
        [
         "dbfs:/FileStore/shared_uploads/zaderohish5@gmail.com/out/ORIGIN_COUNTRY_NAME=Vietnam/",
         "ORIGIN_COUNTRY_NAME=Vietnam/",
         0,
         0
        ],
        [
         "dbfs:/FileStore/shared_uploads/zaderohish5@gmail.com/out/_SUCCESS",
         "_SUCCESS",
         0,
         1733468419000
        ]
       ],
       "datasetInfos": [],
       "dbfsResultPath": null,
       "isJsonSchema": true,
       "metadata": {},
       "overflow": false,
       "plotOptions": {
        "customPlotOptions": {},
        "displayType": "table",
        "pivotAggregation": null,
        "pivotColumns": null,
        "xColumns": null,
        "yColumns": null
       },
       "removedWidgets": [],
       "schema": [
        {
         "metadata": "{}",
         "name": "path",
         "type": "\"string\""
        },
        {
         "metadata": "{}",
         "name": "name",
         "type": "\"string\""
        },
        {
         "metadata": "{}",
         "name": "size",
         "type": "\"long\""
        },
        {
         "metadata": "{}",
         "name": "modificationTime",
         "type": "\"long\""
        }
       ],
       "type": "table"
      }
     },
     "output_type": "display_data"
    }
   ],
   "source": [
    "%fs\n",
    "ls dbfs:/FileStore/shared_uploads/zaderohish5@gmail.com/out/"
   ]
  },
  {
   "cell_type": "code",
   "execution_count": 0,
   "metadata": {
    "application/vnd.databricks.v1+cell": {
     "cellMetadata": {
      "byteLimit": 2048000,
      "rowLimit": 10000
     },
     "inputWidgets": {},
     "nuid": "1834ff4c-26a9-4b48-9a64-2e79b99cb2bb",
     "showTitle": false,
     "tableResultSettingsMap": {},
     "title": ""
    }
   },
   "outputs": [
    {
     "output_type": "display_data",
     "data": {
      "text/html": [
       "<style scoped>\n",
       "  .table-result-container {\n",
       "    max-height: 300px;\n",
       "    overflow: auto;\n",
       "  }\n",
       "  table, th, td {\n",
       "    border: 1px solid black;\n",
       "    border-collapse: collapse;\n",
       "  }\n",
       "  th, td {\n",
       "    padding: 5px;\n",
       "  }\n",
       "  th {\n",
       "    text-align: left;\n",
       "  }\n",
       "</style><div class='table-result-container'><table class='table-result'><thead style='background-color: white'><tr><th>path</th><th>name</th><th>size</th><th>modificationTime</th></tr></thead><tbody><tr><td>dbfs:/FileStore/shared_uploads/zaderohish5@gmail.com/out/ORIGIN_COUNTRY_NAME=India/_SUCCESS</td><td>_SUCCESS</td><td>0</td><td>1733468417000</td></tr><tr><td>dbfs:/FileStore/shared_uploads/zaderohish5@gmail.com/out/ORIGIN_COUNTRY_NAME=India/_committed_8171927095212985685</td><td>_committed_8171927095212985685</td><td>115</td><td>1733468414000</td></tr><tr><td>dbfs:/FileStore/shared_uploads/zaderohish5@gmail.com/out/ORIGIN_COUNTRY_NAME=India/_started_8171927095212985685</td><td>_started_8171927095212985685</td><td>0</td><td>1733468406000</td></tr><tr><td>dbfs:/FileStore/shared_uploads/zaderohish5@gmail.com/out/ORIGIN_COUNTRY_NAME=India/part-00000-tid-8171927095212985685-7004e94a-5416-4c0f-9c18-f427923198c3-9-64.c000.csv.gz</td><td>part-00000-tid-8171927095212985685-7004e94a-5416-4c0f-9c18-f427923198c3-9-64.c000.csv.gz</td><td>61</td><td>1733468406000</td></tr></tbody></table></div>"
      ]
     },
     "metadata": {
      "application/vnd.databricks.v1+output": {
       "addedWidgets": {},
       "aggData": [],
       "aggError": "",
       "aggOverflow": false,
       "aggSchema": [],
       "aggSeriesLimitReached": false,
       "aggType": "",
       "arguments": {},
       "columnCustomDisplayInfos": {},
       "data": [
        [
         "dbfs:/FileStore/shared_uploads/zaderohish5@gmail.com/out/ORIGIN_COUNTRY_NAME=India/_SUCCESS",
         "_SUCCESS",
         0,
         1733468417000
        ],
        [
         "dbfs:/FileStore/shared_uploads/zaderohish5@gmail.com/out/ORIGIN_COUNTRY_NAME=India/_committed_8171927095212985685",
         "_committed_8171927095212985685",
         115,
         1733468414000
        ],
        [
         "dbfs:/FileStore/shared_uploads/zaderohish5@gmail.com/out/ORIGIN_COUNTRY_NAME=India/_started_8171927095212985685",
         "_started_8171927095212985685",
         0,
         1733468406000
        ],
        [
         "dbfs:/FileStore/shared_uploads/zaderohish5@gmail.com/out/ORIGIN_COUNTRY_NAME=India/part-00000-tid-8171927095212985685-7004e94a-5416-4c0f-9c18-f427923198c3-9-64.c000.csv.gz",
         "part-00000-tid-8171927095212985685-7004e94a-5416-4c0f-9c18-f427923198c3-9-64.c000.csv.gz",
         61,
         1733468406000
        ]
       ],
       "datasetInfos": [],
       "dbfsResultPath": null,
       "isJsonSchema": true,
       "metadata": {
        "isDbfsCommandResult": false
       },
       "overflow": false,
       "plotOptions": {
        "customPlotOptions": {},
        "displayType": "table",
        "pivotAggregation": null,
        "pivotColumns": null,
        "xColumns": null,
        "yColumns": null
       },
       "removedWidgets": [],
       "schema": [
        {
         "metadata": "{}",
         "name": "path",
         "type": "\"string\""
        },
        {
         "metadata": "{}",
         "name": "name",
         "type": "\"string\""
        },
        {
         "metadata": "{}",
         "name": "size",
         "type": "\"long\""
        },
        {
         "metadata": "{}",
         "name": "modificationTime",
         "type": "\"long\""
        }
       ],
       "type": "table"
      }
     },
     "output_type": "display_data"
    }
   ],
   "source": [
    "%fs\n",
    "ls dbfs:/FileStore/shared_uploads/zaderohish5@gmail.com/out/ORIGIN_COUNTRY_NAME=India/"
   ]
  },
  {
   "cell_type": "code",
   "execution_count": 0,
   "metadata": {
    "application/vnd.databricks.v1+cell": {
     "cellMetadata": {
      "byteLimit": 2048000,
      "implicitDf": true,
      "rowLimit": 10000
     },
     "inputWidgets": {},
     "nuid": "4da1049a-e01a-4e5c-9f4d-d00b0323cfdc",
     "showTitle": false,
     "tableResultSettingsMap": {},
     "title": ""
    }
   },
   "outputs": [
    {
     "output_type": "display_data",
     "data": {
      "text/html": [
       "<style scoped>\n",
       "  .table-result-container {\n",
       "    max-height: 300px;\n",
       "    overflow: auto;\n",
       "  }\n",
       "  table, th, td {\n",
       "    border: 1px solid black;\n",
       "    border-collapse: collapse;\n",
       "  }\n",
       "  th, td {\n",
       "    padding: 5px;\n",
       "  }\n",
       "  th {\n",
       "    text-align: left;\n",
       "  }\n",
       "</style><div class='table-result-container'><table class='table-result'><thead style='background-color: white'><tr><th>_c0</th><th>ORIGIN_COUNTRY_NAME</th></tr></thead><tbody><tr><td>DEST_COUNTRY_NAME|count</td><td>United States</td></tr><tr><td>Egypt|24</td><td>United States</td></tr><tr><td>Equatorial Guinea|1</td><td>United States</td></tr><tr><td>Costa Rica|477</td><td>United States</td></tr><tr><td>Senegal|29</td><td>United States</td></tr><tr><td>Guyana|17</td><td>United States</td></tr><tr><td>Malta|1</td><td>United States</td></tr><tr><td>Bolivia|46</td><td>United States</td></tr><tr><td>Anguilla|21</td><td>United States</td></tr><tr><td>Turks and Caicos Islands|136</td><td>United States</td></tr><tr><td>Saint Vincent and the Grenadines|1</td><td>United States</td></tr><tr><td>Italy|390</td><td>United States</td></tr><tr><td>Pakistan|9</td><td>United States</td></tr><tr><td>Iceland|118</td><td>United States</td></tr><tr><td>Marshall Islands|77</td><td>United States</td></tr><tr><td>Luxembourg|91</td><td>United States</td></tr><tr><td>Honduras|391</td><td>United States</td></tr><tr><td>The Bahamas|903</td><td>United States</td></tr><tr><td>El Salvador|519</td><td>United States</td></tr><tr><td>Samoa|28</td><td>United States</td></tr><tr><td>Kazakhstan|3</td><td>United States</td></tr><tr><td>Switzerland|315</td><td>United States</td></tr><tr><td>Sint Maarten|61</td><td>United States</td></tr><tr><td>Hong Kong|252</td><td>United States</td></tr><tr><td>Trinidad and Tobago|187</td><td>United States</td></tr><tr><td>Latvia|12</td><td>United States</td></tr><tr><td>Slovakia|1</td><td>United States</td></tr><tr><td>Suriname|12</td><td>United States</td></tr><tr><td>Mexico|6200</td><td>United States</td></tr><tr><td>Ecuador|272</td><td>United States</td></tr><tr><td>Colombia|785</td><td>United States</td></tr><tr><td>Norway|29</td><td>United States</td></tr><tr><td>Thailand|16</td><td>United States</td></tr><tr><td>Venezuela|377</td><td>United States</td></tr><tr><td>Panama|355</td><td>United States</td></tr><tr><td>Morocco|16</td><td>United States</td></tr><tr><td>Antigua and Barbuda|123</td><td>United States</td></tr><tr><td>Azerbaijan|1</td><td>United States</td></tr><tr><td>New Zealand|86</td><td>United States</td></tr><tr><td>Liberia|1</td><td>United States</td></tr><tr><td>Hungary|14</td><td>United States</td></tr><tr><td>Sweden|65</td><td>United States</td></tr><tr><td>Israel|117</td><td>United States</td></tr><tr><td>United States|348113</td><td>United States</td></tr><tr><td>Ethiopia|12</td><td>United States</td></tr><tr><td>Martinique|23</td><td>United States</td></tr><tr><td>Saint Barthelemy|28</td><td>United States</td></tr><tr><td>Barbados|130</td><td>United States</td></tr><tr><td>Germany|1392</td><td>United States</td></tr><tr><td>Kyrgyzstan|2</td><td>United States</td></tr><tr><td>Ireland|231</td><td>United States</td></tr><tr><td>Malaysia|1</td><td>United States</td></tr><tr><td>Cyprus|2</td><td>United States</td></tr><tr><td>Qatar|41</td><td>United States</td></tr><tr><td>Fiji|53</td><td>United States</td></tr><tr><td>Saint Kitts and Nevis|113</td><td>United States</td></tr><tr><td>Taiwan|275</td><td>United States</td></tr><tr><td>Haiti|238</td><td>United States</td></tr><tr><td>Kuwait|26</td><td>United States</td></tr><tr><td>Canada|8271</td><td>United States</td></tr><tr><td>Federated States of Micronesia|46</td><td>United States</td></tr><tr><td>Jamaica|733</td><td>United States</td></tr><tr><td>Dominican Republic|1109</td><td>United States</td></tr><tr><td>Japan|1383</td><td>United States</td></tr><tr><td>Finland|24</td><td>United States</td></tr><tr><td>Aruba|359</td><td>United States</td></tr><tr><td>French Guiana|4</td><td>United States</td></tr><tr><td>India|66</td><td>United States</td></tr><tr><td>British Virgin Islands|49</td><td>United States</td></tr><tr><td>Brazil|995</td><td>United States</td></tr><tr><td>French Polynesia|38</td><td>United States</td></tr><tr><td>United Arab Emirates|165</td><td>United States</td></tr><tr><td>Singapore|25</td><td>United States</td></tr><tr><td>Netherlands|586</td><td>United States</td></tr><tr><td>China|448</td><td>United States</td></tr><tr><td>Denmark|98</td><td>United States</td></tr><tr><td>Peru|212</td><td>United States</td></tr><tr><td>Argentina|184</td><td>United States</td></tr><tr><td>Cayman Islands|247</td><td>United States</td></tr><tr><td>South Africa|25</td><td>United States</td></tr><tr><td>Spain|422</td><td>United States</td></tr><tr><td>Netherlands Antilles|286</td><td>United States</td></tr><tr><td>Bermuda|183</td><td>United States</td></tr><tr><td>Kiribati|17</td><td>United States</td></tr><tr><td>Saudi Arabia|42</td><td>United States</td></tr><tr><td>Czech Republic|21</td><td>United States</td></tr><tr><td>Belgium|408</td><td>United States</td></tr><tr><td>Afghanistan|11</td><td>United States</td></tr><tr><td>Curacao|20</td><td>United States</td></tr><tr><td>Georgia|2</td><td>United States</td></tr><tr><td>Philippines|132</td><td>United States</td></tr><tr><td>Grenada|65</td><td>United States</td></tr><tr><td>Cape Verde|18</td><td>United States</td></tr><tr><td>Ukraine|19</td><td>United States</td></tr><tr><td>Russia|152</td><td>United States</td></tr><tr><td>Guatemala|386</td><td>United States</td></tr><tr><td>Saint Lucia|116</td><td>United States</td></tr><tr><td>Paraguay|90</td><td>United States</td></tr><tr><td>Turkey|75</td><td>United States</td></tr><tr><td>United Kingdom|1629</td><td>United States</td></tr><tr><td>Cuba|243</td><td>United States</td></tr><tr><td>Dominica|28</td><td>United States</td></tr><tr><td>Portugal|102</td><td>United States</td></tr><tr><td>Bahrain|30</td><td>United States</td></tr><tr><td>Vietnam|1</td><td>United States</td></tr><tr><td>Belize|121</td><td>United States</td></tr><tr><td>Nicaragua|178</td><td>United States</td></tr><tr><td>Austria|36</td><td>United States</td></tr><tr><td>Jordan|50</td><td>United States</td></tr><tr><td>Palau|31</td><td>United States</td></tr><tr><td>Uganda|2</td><td>United States</td></tr><tr><td>South Korea|683</td><td>United States</td></tr><tr><td>Angola|14</td><td>United States</td></tr><tr><td>Ghana|27</td><td>United States</td></tr><tr><td>Guadeloupe|40</td><td>United States</td></tr><tr><td>France|774</td><td>United States</td></tr><tr><td>Poland|62</td><td>United States</td></tr><tr><td>Nigeria|16</td><td>United States</td></tr><tr><td>Greenland|2</td><td>United States</td></tr><tr><td>Chile|166</td><td>United States</td></tr><tr><td>Australia|290</td><td>United States</td></tr><tr><td>Uruguay|54</td><td>United States</td></tr><tr><td>Cook Islands|13</td><td>United States</td></tr><tr><td>Bulgaria|1</td><td>United States</td></tr><tr><td>Bonaire</td><td>United States</td></tr><tr><td>Greece|50</td><td>United States</td></tr><tr><td>DEST_COUNTRY_NAME|count</td><td>Germany</td></tr><tr><td>United States|1406</td><td>Germany</td></tr><tr><td>DEST_COUNTRY_NAME|count</td><td>Dominican Republic</td></tr><tr><td>United States|1150</td><td>Dominican Republic</td></tr><tr><td>DEST_COUNTRY_NAME|count</td><td>Mexico</td></tr><tr><td>United States|6220</td><td>Mexico</td></tr><tr><td>DEST_COUNTRY_NAME|count</td><td>Japan</td></tr><tr><td>United States|1307</td><td>Japan</td></tr><tr><td>DEST_COUNTRY_NAME|count</td><td>Canada</td></tr><tr><td>United States|8305</td><td>Canada</td></tr><tr><td>DEST_COUNTRY_NAME|count</td><td>United Kingdom</td></tr><tr><td>United States|1503</td><td>United Kingdom</td></tr><tr><td>DEST_COUNTRY_NAME|count</td><td>Netherlands</td></tr><tr><td>United States|570</td><td>Netherlands</td></tr><tr><td>DEST_COUNTRY_NAME|count</td><td>Saint Lucia</td></tr><tr><td>United States|121</td><td>Saint Lucia</td></tr><tr><td>DEST_COUNTRY_NAME|count</td><td>Australia</td></tr><tr><td>United States|216</td><td>Australia</td></tr><tr><td>DEST_COUNTRY_NAME|count</td><td>Peru</td></tr><tr><td>United States|284</td><td>Peru</td></tr><tr><td>DEST_COUNTRY_NAME|count</td><td>Italy</td></tr><tr><td>United States|433</td><td>Italy</td></tr><tr><td>DEST_COUNTRY_NAME|count</td><td>Guatemala</td></tr><tr><td>United States|333</td><td>Guatemala</td></tr><tr><td>DEST_COUNTRY_NAME|count</td><td>Ireland</td></tr><tr><td>United States|264</td><td>Ireland</td></tr><tr><td>DEST_COUNTRY_NAME|count</td><td>Israel</td></tr><tr><td>United States|122</td><td>Israel</td></tr><tr><td>DEST_COUNTRY_NAME|count</td><td>Honduras</td></tr><tr><td>United States|393</td><td>Honduras</td></tr><tr><td>DEST_COUNTRY_NAME|count</td><td>Brazil</td></tr><tr><td>United States|578</td><td>Brazil</td></tr><tr><td>DEST_COUNTRY_NAME|count</td><td>Haiti</td></tr><tr><td>United States|226</td><td>Haiti</td></tr><tr><td>DEST_COUNTRY_NAME|count</td><td>Belgium</td></tr><tr><td>United States|355</td><td>Belgium</td></tr><tr><td>DEST_COUNTRY_NAME|count</td><td>Russia</td></tr><tr><td>United States|156</td><td>Russia</td></tr><tr><td>DEST_COUNTRY_NAME|count</td><td>Aruba</td></tr><tr><td>United States|349</td><td>Aruba</td></tr><tr><td>DEST_COUNTRY_NAME|count</td><td>Portugal</td></tr><tr><td>United States|104</td><td>Portugal</td></tr><tr><td>DEST_COUNTRY_NAME|count</td><td>Argentina</td></tr><tr><td>United States|159</td><td>Argentina</td></tr><tr><td>DEST_COUNTRY_NAME|count</td><td>Colombia</td></tr><tr><td>United States|832</td><td>Colombia</td></tr><tr><td>DEST_COUNTRY_NAME|count</td><td>Chile</td></tr><tr><td>United States|176</td><td>Chile</td></tr><tr><td>DEST_COUNTRY_NAME|count</td><td>Nicaragua</td></tr><tr><td>United States|181</td><td>Nicaragua</td></tr><tr><td>DEST_COUNTRY_NAME|count</td><td>Venezuela</td></tr><tr><td>United States|341</td><td>Venezuela</td></tr><tr><td>DEST_COUNTRY_NAME|count</td><td>Saint Kitts and Nevis</td></tr><tr><td>United States|127</td><td>Saint Kitts and Nevis</td></tr><tr><td>DEST_COUNTRY_NAME|count</td><td>Hong Kong</td></tr><tr><td>United States|293</td><td>Hong Kong</td></tr><tr><td>DEST_COUNTRY_NAME|count</td><td>Taiwan</td></tr><tr><td>United States|252</td><td>Taiwan</td></tr><tr><td>DEST_COUNTRY_NAME|count</td><td>Cuba</td></tr><tr><td>United States|235</td><td>Cuba</td></tr><tr><td>DEST_COUNTRY_NAME|count</td><td>Denmark</td></tr><tr><td>United States|107</td><td>Denmark</td></tr><tr><td>DEST_COUNTRY_NAME|count</td><td>Barbados</td></tr><tr><td>United States|119</td><td>Barbados</td></tr><tr><td>DEST_COUNTRY_NAME|count</td><td>Trinidad and Tobago</td></tr><tr><td>United States|200</td><td>Trinidad and Tobago</td></tr><tr><td>DEST_COUNTRY_NAME|count</td><td>Switzerland</td></tr><tr><td>United States|334</td><td>Switzerland</td></tr><tr><td>DEST_COUNTRY_NAME|count</td><td>Spain</td></tr><tr><td>United States|442</td><td>Spain</td></tr><tr><td>DEST_COUNTRY_NAME|count</td><td>Philippines</td></tr><tr><td>United States|116</td><td>Philippines</td></tr><tr><td>DEST_COUNTRY_NAME|count</td><td>France</td></tr><tr><td>United States|776</td><td>France</td></tr><tr><td>DEST_COUNTRY_NAME|count</td><td>South Korea</td></tr><tr><td>United States|621</td><td>South Korea</td></tr><tr><td>DEST_COUNTRY_NAME|count</td><td>Iceland</td></tr><tr><td>United States|129</td><td>Iceland</td></tr><tr><td>DEST_COUNTRY_NAME|count</td><td>Costa Rica</td></tr><tr><td>United States|501</td><td>Costa Rica</td></tr><tr><td>DEST_COUNTRY_NAME|count</td><td>The Bahamas</td></tr><tr><td>United States|959</td><td>The Bahamas</td></tr><tr><td>DEST_COUNTRY_NAME|count</td><td>Ecuador</td></tr><tr><td>United States|345</td><td>Ecuador</td></tr><tr><td>DEST_COUNTRY_NAME|count</td><td>Antigua and Barbuda</td></tr><tr><td>United States|121</td><td>Antigua and Barbuda</td></tr><tr><td>DEST_COUNTRY_NAME|count</td><td>China</td></tr><tr><td>United States|505</td><td>China</td></tr><tr><td>DEST_COUNTRY_NAME|count</td><td>El Salvador</td></tr><tr><td>United States|464</td><td>El Salvador</td></tr><tr><td>DEST_COUNTRY_NAME|count</td><td>Jamaica</td></tr><tr><td>United States|757</td><td>Jamaica</td></tr><tr><td>DEST_COUNTRY_NAME|count</td><td>Bermuda</td></tr><tr><td>United States|180</td><td>Bermuda</td></tr><tr><td>DEST_COUNTRY_NAME|count</td><td>Panama</td></tr><tr><td>United States|363</td><td>Panama</td></tr><tr><td>DEST_COUNTRY_NAME|count</td><td>Belize</td></tr><tr><td>United States|118</td><td>Belize</td></tr><tr><td>DEST_COUNTRY_NAME|count</td><td>United Arab Emirates</td></tr><tr><td>United States|156</td><td>United Arab Emirates</td></tr><tr><td>DEST_COUNTRY_NAME|count</td><td>Turks and Caicos Islands</td></tr><tr><td>United States|147</td><td>Turks and Caicos Islands</td></tr><tr><td>DEST_COUNTRY_NAME|count</td><td>Cayman Islands</td></tr><tr><td>United States|251</td><td>Cayman Islands</td></tr><tr><td>DEST_COUNTRY_NAME|count</td><td>Netherlands Antilles</td></tr><tr><td>United States|289</td><td>Netherlands Antilles</td></tr><tr><td>DEST_COUNTRY_NAME|count</td><td>Federated States of Micronesia</td></tr><tr><td>United States|48</td><td>Federated States of Micronesia</td></tr><tr><td>DEST_COUNTRY_NAME|count</td><td>Kyrgyzstan</td></tr><tr><td>United States|12</td><td>Kyrgyzstan</td></tr><tr><td>DEST_COUNTRY_NAME|count</td><td>Grenada</td></tr><tr><td>United States|54</td><td>Grenada</td></tr><tr><td>DEST_COUNTRY_NAME|count</td><td>Egypt</td></tr><tr><td>United States|25</td><td>Egypt</td></tr><tr><td>DEST_COUNTRY_NAME|count</td><td>Saint Barthelemy</td></tr><tr><td>United States|29</td><td>Saint Barthelemy</td></tr><tr><td>DEST_COUNTRY_NAME|count</td><td>British Virgin Islands</td></tr><tr><td>United States|47</td><td>British Virgin Islands</td></tr><tr><td>DEST_COUNTRY_NAME|count</td><td>Sint Maarten</td></tr><tr><td>United States|53</td><td>Sint Maarten</td></tr><tr><td>DEST_COUNTRY_NAME|count</td><td>Sweden</td></tr><tr><td>United States|73</td><td>Sweden</td></tr><tr><td>DEST_COUNTRY_NAME|count</td><td>Dominica</td></tr><tr><td>United States|32</td><td>Dominica</td></tr><tr><td>DEST_COUNTRY_NAME|count</td><td>Bolivia</td></tr><tr><td>United States|39</td><td>Bolivia</td></tr><tr><td>DEST_COUNTRY_NAME|count</td><td>Latvia</td></tr><tr><td>United States|13</td><td>Latvia</td></tr><tr><td>DEST_COUNTRY_NAME|count</td><td>Marshall Islands</td></tr><tr><td>United States|44</td><td>Marshall Islands</td></tr><tr><td>DEST_COUNTRY_NAME|count</td><td>Finland</td></tr><tr><td>United States|20</td><td>Finland</td></tr><tr><td>DEST_COUNTRY_NAME|count</td><td>Luxembourg</td></tr><tr><td>United States|90</td><td>Luxembourg</td></tr><tr><td>DEST_COUNTRY_NAME|count</td><td>Kuwait</td></tr><tr><td>United States|25</td><td>Kuwait</td></tr><tr><td>DEST_COUNTRY_NAME|count</td><td>Senegal</td></tr><tr><td>United States|46</td><td>Senegal</td></tr><tr><td>DEST_COUNTRY_NAME|count</td><td>Ghana</td></tr><tr><td>United States|28</td><td>Ghana</td></tr><tr><td>DEST_COUNTRY_NAME|count</td><td>Anguilla</td></tr><tr><td>United States|20</td><td>Anguilla</td></tr><tr><td>DEST_COUNTRY_NAME|count</td><td>French Polynesia</td></tr><tr><td>United States|38</td><td>French Polynesia</td></tr><tr><td>DEST_COUNTRY_NAME|count</td><td>Pakistan</td></tr><tr><td>United States|15</td><td>Pakistan</td></tr><tr><td>DEST_COUNTRY_NAME|count</td><td>Hungary</td></tr><tr><td>United States|15</td><td>Hungary</td></tr><tr><td>DEST_COUNTRY_NAME|count</td><td>Guyana</td></tr><tr><td>United States|20</td><td>Guyana</td></tr><tr><td>DEST_COUNTRY_NAME|count</td><td>New Zealand</td></tr><tr><td>United States|71</td><td>New Zealand</td></tr><tr><td>DEST_COUNTRY_NAME|count</td><td>Singapore</td></tr><tr><td>United States|25</td><td>Singapore</td></tr><tr><td>DEST_COUNTRY_NAME|count</td><td>Ethiopia</td></tr><tr><td>United States|12</td><td>Ethiopia</td></tr><tr><td>DEST_COUNTRY_NAME|count</td><td>Bonaire, Sint Eustatius, and Saba</td></tr><tr><td>United States|16</td><td>Bonaire, Sint Eustatius, and Saba</td></tr><tr><td>DEST_COUNTRY_NAME|count</td><td>Angola</td></tr><tr><td>United States|18</td><td>Angola</td></tr><tr><td>DEST_COUNTRY_NAME|count</td><td>Greece</td></tr><tr><td>United States|61</td><td>Greece</td></tr><tr><td>DEST_COUNTRY_NAME|count</td><td>Suriname</td></tr><tr><td>United States|13</td><td>Suriname</td></tr><tr><td>DEST_COUNTRY_NAME|count</td><td>Palau</td></tr><tr><td>United States|30</td><td>Palau</td></tr><tr><td>DEST_COUNTRY_NAME|count</td><td>Saudi Arabia</td></tr><tr><td>United States|54</td><td>Saudi Arabia</td></tr><tr><td>DEST_COUNTRY_NAME|count</td><td>Uruguay</td></tr><tr><td>United States|24</td><td>Uruguay</td></tr><tr><td>DEST_COUNTRY_NAME|count</td><td>Curacao</td></tr><tr><td>United States|14</td><td>Curacao</td></tr><tr><td>DEST_COUNTRY_NAME|count</td><td>Thailand</td></tr><tr><td>United States|13</td><td>Thailand</td></tr><tr><td>DEST_COUNTRY_NAME|count</td><td>Guadeloupe</td></tr><tr><td>United States|33</td><td>Guadeloupe</td></tr><tr><td>DEST_COUNTRY_NAME|count</td><td>Fiji</td></tr><tr><td>United States|51</td><td>Fiji</td></tr><tr><td>DEST_COUNTRY_NAME|count</td><td>Samoa</td></tr><tr><td>United States|28</td><td>Samoa</td></tr><tr><td>DEST_COUNTRY_NAME|count</td><td>Ukraine</td></tr><tr><td>United States|17</td><td>Ukraine</td></tr><tr><td>DEST_COUNTRY_NAME|count</td><td>Martinique</td></tr><tr><td>United States|20</td><td>Martinique</td></tr><tr><td>DEST_COUNTRY_NAME|count</td><td>Turkey</td></tr><tr><td>United States|87</td><td>Turkey</td></tr><tr><td>DEST_COUNTRY_NAME|count</td><td>Austria</td></tr><tr><td>United States|34</td><td>Austria</td></tr><tr><td>DEST_COUNTRY_NAME|count</td><td>Cape Verde</td></tr><tr><td>United States|18</td><td>Cape Verde</td></tr><tr><td>DEST_COUNTRY_NAME|count</td><td>Qatar</td></tr><tr><td>United States|40</td><td>Qatar</td></tr><tr><td>DEST_COUNTRY_NAME|count</td><td>India</td></tr><tr><td>United States|69</td><td>India</td></tr><tr><td>DEST_COUNTRY_NAME|count</td><td>South Africa</td></tr><tr><td>United States|15</td><td>South Africa</td></tr><tr><td>DEST_COUNTRY_NAME|count</td><td>Morocco</td></tr><tr><td>United States|16</td><td>Morocco</td></tr><tr><td>DEST_COUNTRY_NAME|count</td><td>Saint Vincent and the Grenadines</td></tr><tr><td>United States|16</td><td>Saint Vincent and the Grenadines</td></tr><tr><td>DEST_COUNTRY_NAME|count</td><td>Nigeria</td></tr><tr><td>United States|18</td><td>Nigeria</td></tr><tr><td>DEST_COUNTRY_NAME|count</td><td>Czech Republic</td></tr><tr><td>United States|22</td><td>Czech Republic</td></tr><tr><td>DEST_COUNTRY_NAME|count</td><td>Poland</td></tr><tr><td>United States|61</td><td>Poland</td></tr><tr><td>DEST_COUNTRY_NAME|count</td><td>Jordan</td></tr><tr><td>United States|51</td><td>Jordan</td></tr><tr><td>DEST_COUNTRY_NAME|count</td><td>Kiribati</td></tr><tr><td>United States|18</td><td>Kiribati</td></tr><tr><td>DEST_COUNTRY_NAME|count</td><td>Cook Islands</td></tr><tr><td>United States|12</td><td>Cook Islands</td></tr><tr><td>DEST_COUNTRY_NAME|count</td><td>Norway</td></tr><tr><td>United States|36</td><td>Norway</td></tr><tr><td>DEST_COUNTRY_NAME|count</td><td>Azerbaijan</td></tr><tr><td>United States|1</td><td>Azerbaijan</td></tr><tr><td>DEST_COUNTRY_NAME|count</td><td>Papua New Guinea</td></tr><tr><td>United States|1</td><td>Papua New Guinea</td></tr><tr><td>DEST_COUNTRY_NAME|count</td><td>Bulgaria</td></tr><tr><td>United States|2</td><td>Bulgaria</td></tr><tr><td>DEST_COUNTRY_NAME|count</td><td>Malaysia</td></tr><tr><td>United States|3</td><td>Malaysia</td></tr><tr><td>DEST_COUNTRY_NAME|count</td><td>Burkina Faso</td></tr><tr><td>United States|1</td><td>Burkina Faso</td></tr><tr><td>DEST_COUNTRY_NAME|count</td><td>Slovakia</td></tr><tr><td>United States|1</td><td>Slovakia</td></tr><tr><td>DEST_COUNTRY_NAME|count</td><td>Bahrain</td></tr><tr><td>United States|1</td><td>Bahrain</td></tr><tr><td>DEST_COUNTRY_NAME|count</td><td>Uganda</td></tr><tr><td>United States|1</td><td>Uganda</td></tr><tr><td>DEST_COUNTRY_NAME|count</td><td>Indonesia</td></tr><tr><td>United States|1</td><td>Indonesia</td></tr><tr><td>DEST_COUNTRY_NAME|count</td><td>Serbia</td></tr><tr><td>United States|1</td><td>Serbia</td></tr><tr><td>DEST_COUNTRY_NAME|count</td><td>Gabon</td></tr><tr><td>United States|1</td><td>Gabon</td></tr><tr><td>DEST_COUNTRY_NAME|count</td><td>Bosnia and Herzegovina</td></tr><tr><td>United States|1</td><td>Bosnia and Herzegovina</td></tr><tr><td>DEST_COUNTRY_NAME|count</td><td>Cameroon</td></tr><tr><td>United States|1</td><td>Cameroon</td></tr><tr><td>DEST_COUNTRY_NAME|count</td><td>French Guiana</td></tr><tr><td>United States|1</td><td>French Guiana</td></tr><tr><td>DEST_COUNTRY_NAME|count</td><td>Cyprus</td></tr><tr><td>United States|1</td><td>Cyprus</td></tr><tr><td>DEST_COUNTRY_NAME|count</td><td>Algeria</td></tr><tr><td>United States|1</td><td>Algeria</td></tr><tr><td>DEST_COUNTRY_NAME|count</td><td>Afghanistan</td></tr><tr><td>United States|2</td><td>Afghanistan</td></tr><tr><td>DEST_COUNTRY_NAME|count</td><td>Estonia</td></tr><tr><td>United States|1</td><td>Estonia</td></tr><tr><td>DEST_COUNTRY_NAME|count</td><td>Greenland</td></tr><tr><td>United States|2</td><td>Greenland</td></tr><tr><td>DEST_COUNTRY_NAME|count</td><td>Malta</td></tr><tr><td>United States|2</td><td>Malta</td></tr><tr><td>DEST_COUNTRY_NAME|count</td><td>Liberia</td></tr><tr><td>United States|1</td><td>Liberia</td></tr><tr><td>DEST_COUNTRY_NAME|count</td><td>Vietnam</td></tr><tr><td>United States|1</td><td>Vietnam</td></tr><tr><td>DEST_COUNTRY_NAME|count</td><td>Romania</td></tr><tr><td>United States|1</td><td>Romania</td></tr></tbody></table></div>"
      ]
     },
     "metadata": {
      "application/vnd.databricks.v1+output": {
       "addedWidgets": {},
       "aggData": [],
       "aggError": "",
       "aggOverflow": false,
       "aggSchema": [],
       "aggSeriesLimitReached": false,
       "aggType": "",
       "arguments": {},
       "columnCustomDisplayInfos": {},
       "data": [
        [
         "DEST_COUNTRY_NAME|count",
         "United States"
        ],
        [
         "Egypt|24",
         "United States"
        ],
        [
         "Equatorial Guinea|1",
         "United States"
        ],
        [
         "Costa Rica|477",
         "United States"
        ],
        [
         "Senegal|29",
         "United States"
        ],
        [
         "Guyana|17",
         "United States"
        ],
        [
         "Malta|1",
         "United States"
        ],
        [
         "Bolivia|46",
         "United States"
        ],
        [
         "Anguilla|21",
         "United States"
        ],
        [
         "Turks and Caicos Islands|136",
         "United States"
        ],
        [
         "Saint Vincent and the Grenadines|1",
         "United States"
        ],
        [
         "Italy|390",
         "United States"
        ],
        [
         "Pakistan|9",
         "United States"
        ],
        [
         "Iceland|118",
         "United States"
        ],
        [
         "Marshall Islands|77",
         "United States"
        ],
        [
         "Luxembourg|91",
         "United States"
        ],
        [
         "Honduras|391",
         "United States"
        ],
        [
         "The Bahamas|903",
         "United States"
        ],
        [
         "El Salvador|519",
         "United States"
        ],
        [
         "Samoa|28",
         "United States"
        ],
        [
         "Kazakhstan|3",
         "United States"
        ],
        [
         "Switzerland|315",
         "United States"
        ],
        [
         "Sint Maarten|61",
         "United States"
        ],
        [
         "Hong Kong|252",
         "United States"
        ],
        [
         "Trinidad and Tobago|187",
         "United States"
        ],
        [
         "Latvia|12",
         "United States"
        ],
        [
         "Slovakia|1",
         "United States"
        ],
        [
         "Suriname|12",
         "United States"
        ],
        [
         "Mexico|6200",
         "United States"
        ],
        [
         "Ecuador|272",
         "United States"
        ],
        [
         "Colombia|785",
         "United States"
        ],
        [
         "Norway|29",
         "United States"
        ],
        [
         "Thailand|16",
         "United States"
        ],
        [
         "Venezuela|377",
         "United States"
        ],
        [
         "Panama|355",
         "United States"
        ],
        [
         "Morocco|16",
         "United States"
        ],
        [
         "Antigua and Barbuda|123",
         "United States"
        ],
        [
         "Azerbaijan|1",
         "United States"
        ],
        [
         "New Zealand|86",
         "United States"
        ],
        [
         "Liberia|1",
         "United States"
        ],
        [
         "Hungary|14",
         "United States"
        ],
        [
         "Sweden|65",
         "United States"
        ],
        [
         "Israel|117",
         "United States"
        ],
        [
         "United States|348113",
         "United States"
        ],
        [
         "Ethiopia|12",
         "United States"
        ],
        [
         "Martinique|23",
         "United States"
        ],
        [
         "Saint Barthelemy|28",
         "United States"
        ],
        [
         "Barbados|130",
         "United States"
        ],
        [
         "Germany|1392",
         "United States"
        ],
        [
         "Kyrgyzstan|2",
         "United States"
        ],
        [
         "Ireland|231",
         "United States"
        ],
        [
         "Malaysia|1",
         "United States"
        ],
        [
         "Cyprus|2",
         "United States"
        ],
        [
         "Qatar|41",
         "United States"
        ],
        [
         "Fiji|53",
         "United States"
        ],
        [
         "Saint Kitts and Nevis|113",
         "United States"
        ],
        [
         "Taiwan|275",
         "United States"
        ],
        [
         "Haiti|238",
         "United States"
        ],
        [
         "Kuwait|26",
         "United States"
        ],
        [
         "Canada|8271",
         "United States"
        ],
        [
         "Federated States of Micronesia|46",
         "United States"
        ],
        [
         "Jamaica|733",
         "United States"
        ],
        [
         "Dominican Republic|1109",
         "United States"
        ],
        [
         "Japan|1383",
         "United States"
        ],
        [
         "Finland|24",
         "United States"
        ],
        [
         "Aruba|359",
         "United States"
        ],
        [
         "French Guiana|4",
         "United States"
        ],
        [
         "India|66",
         "United States"
        ],
        [
         "British Virgin Islands|49",
         "United States"
        ],
        [
         "Brazil|995",
         "United States"
        ],
        [
         "French Polynesia|38",
         "United States"
        ],
        [
         "United Arab Emirates|165",
         "United States"
        ],
        [
         "Singapore|25",
         "United States"
        ],
        [
         "Netherlands|586",
         "United States"
        ],
        [
         "China|448",
         "United States"
        ],
        [
         "Denmark|98",
         "United States"
        ],
        [
         "Peru|212",
         "United States"
        ],
        [
         "Argentina|184",
         "United States"
        ],
        [
         "Cayman Islands|247",
         "United States"
        ],
        [
         "South Africa|25",
         "United States"
        ],
        [
         "Spain|422",
         "United States"
        ],
        [
         "Netherlands Antilles|286",
         "United States"
        ],
        [
         "Bermuda|183",
         "United States"
        ],
        [
         "Kiribati|17",
         "United States"
        ],
        [
         "Saudi Arabia|42",
         "United States"
        ],
        [
         "Czech Republic|21",
         "United States"
        ],
        [
         "Belgium|408",
         "United States"
        ],
        [
         "Afghanistan|11",
         "United States"
        ],
        [
         "Curacao|20",
         "United States"
        ],
        [
         "Georgia|2",
         "United States"
        ],
        [
         "Philippines|132",
         "United States"
        ],
        [
         "Grenada|65",
         "United States"
        ],
        [
         "Cape Verde|18",
         "United States"
        ],
        [
         "Ukraine|19",
         "United States"
        ],
        [
         "Russia|152",
         "United States"
        ],
        [
         "Guatemala|386",
         "United States"
        ],
        [
         "Saint Lucia|116",
         "United States"
        ],
        [
         "Paraguay|90",
         "United States"
        ],
        [
         "Turkey|75",
         "United States"
        ],
        [
         "United Kingdom|1629",
         "United States"
        ],
        [
         "Cuba|243",
         "United States"
        ],
        [
         "Dominica|28",
         "United States"
        ],
        [
         "Portugal|102",
         "United States"
        ],
        [
         "Bahrain|30",
         "United States"
        ],
        [
         "Vietnam|1",
         "United States"
        ],
        [
         "Belize|121",
         "United States"
        ],
        [
         "Nicaragua|178",
         "United States"
        ],
        [
         "Austria|36",
         "United States"
        ],
        [
         "Jordan|50",
         "United States"
        ],
        [
         "Palau|31",
         "United States"
        ],
        [
         "Uganda|2",
         "United States"
        ],
        [
         "South Korea|683",
         "United States"
        ],
        [
         "Angola|14",
         "United States"
        ],
        [
         "Ghana|27",
         "United States"
        ],
        [
         "Guadeloupe|40",
         "United States"
        ],
        [
         "France|774",
         "United States"
        ],
        [
         "Poland|62",
         "United States"
        ],
        [
         "Nigeria|16",
         "United States"
        ],
        [
         "Greenland|2",
         "United States"
        ],
        [
         "Chile|166",
         "United States"
        ],
        [
         "Australia|290",
         "United States"
        ],
        [
         "Uruguay|54",
         "United States"
        ],
        [
         "Cook Islands|13",
         "United States"
        ],
        [
         "Bulgaria|1",
         "United States"
        ],
        [
         "Bonaire",
         "United States"
        ],
        [
         "Greece|50",
         "United States"
        ],
        [
         "DEST_COUNTRY_NAME|count",
         "Germany"
        ],
        [
         "United States|1406",
         "Germany"
        ],
        [
         "DEST_COUNTRY_NAME|count",
         "Dominican Republic"
        ],
        [
         "United States|1150",
         "Dominican Republic"
        ],
        [
         "DEST_COUNTRY_NAME|count",
         "Mexico"
        ],
        [
         "United States|6220",
         "Mexico"
        ],
        [
         "DEST_COUNTRY_NAME|count",
         "Japan"
        ],
        [
         "United States|1307",
         "Japan"
        ],
        [
         "DEST_COUNTRY_NAME|count",
         "Canada"
        ],
        [
         "United States|8305",
         "Canada"
        ],
        [
         "DEST_COUNTRY_NAME|count",
         "United Kingdom"
        ],
        [
         "United States|1503",
         "United Kingdom"
        ],
        [
         "DEST_COUNTRY_NAME|count",
         "Netherlands"
        ],
        [
         "United States|570",
         "Netherlands"
        ],
        [
         "DEST_COUNTRY_NAME|count",
         "Saint Lucia"
        ],
        [
         "United States|121",
         "Saint Lucia"
        ],
        [
         "DEST_COUNTRY_NAME|count",
         "Australia"
        ],
        [
         "United States|216",
         "Australia"
        ],
        [
         "DEST_COUNTRY_NAME|count",
         "Peru"
        ],
        [
         "United States|284",
         "Peru"
        ],
        [
         "DEST_COUNTRY_NAME|count",
         "Italy"
        ],
        [
         "United States|433",
         "Italy"
        ],
        [
         "DEST_COUNTRY_NAME|count",
         "Guatemala"
        ],
        [
         "United States|333",
         "Guatemala"
        ],
        [
         "DEST_COUNTRY_NAME|count",
         "Ireland"
        ],
        [
         "United States|264",
         "Ireland"
        ],
        [
         "DEST_COUNTRY_NAME|count",
         "Israel"
        ],
        [
         "United States|122",
         "Israel"
        ],
        [
         "DEST_COUNTRY_NAME|count",
         "Honduras"
        ],
        [
         "United States|393",
         "Honduras"
        ],
        [
         "DEST_COUNTRY_NAME|count",
         "Brazil"
        ],
        [
         "United States|578",
         "Brazil"
        ],
        [
         "DEST_COUNTRY_NAME|count",
         "Haiti"
        ],
        [
         "United States|226",
         "Haiti"
        ],
        [
         "DEST_COUNTRY_NAME|count",
         "Belgium"
        ],
        [
         "United States|355",
         "Belgium"
        ],
        [
         "DEST_COUNTRY_NAME|count",
         "Russia"
        ],
        [
         "United States|156",
         "Russia"
        ],
        [
         "DEST_COUNTRY_NAME|count",
         "Aruba"
        ],
        [
         "United States|349",
         "Aruba"
        ],
        [
         "DEST_COUNTRY_NAME|count",
         "Portugal"
        ],
        [
         "United States|104",
         "Portugal"
        ],
        [
         "DEST_COUNTRY_NAME|count",
         "Argentina"
        ],
        [
         "United States|159",
         "Argentina"
        ],
        [
         "DEST_COUNTRY_NAME|count",
         "Colombia"
        ],
        [
         "United States|832",
         "Colombia"
        ],
        [
         "DEST_COUNTRY_NAME|count",
         "Chile"
        ],
        [
         "United States|176",
         "Chile"
        ],
        [
         "DEST_COUNTRY_NAME|count",
         "Nicaragua"
        ],
        [
         "United States|181",
         "Nicaragua"
        ],
        [
         "DEST_COUNTRY_NAME|count",
         "Venezuela"
        ],
        [
         "United States|341",
         "Venezuela"
        ],
        [
         "DEST_COUNTRY_NAME|count",
         "Saint Kitts and Nevis"
        ],
        [
         "United States|127",
         "Saint Kitts and Nevis"
        ],
        [
         "DEST_COUNTRY_NAME|count",
         "Hong Kong"
        ],
        [
         "United States|293",
         "Hong Kong"
        ],
        [
         "DEST_COUNTRY_NAME|count",
         "Taiwan"
        ],
        [
         "United States|252",
         "Taiwan"
        ],
        [
         "DEST_COUNTRY_NAME|count",
         "Cuba"
        ],
        [
         "United States|235",
         "Cuba"
        ],
        [
         "DEST_COUNTRY_NAME|count",
         "Denmark"
        ],
        [
         "United States|107",
         "Denmark"
        ],
        [
         "DEST_COUNTRY_NAME|count",
         "Barbados"
        ],
        [
         "United States|119",
         "Barbados"
        ],
        [
         "DEST_COUNTRY_NAME|count",
         "Trinidad and Tobago"
        ],
        [
         "United States|200",
         "Trinidad and Tobago"
        ],
        [
         "DEST_COUNTRY_NAME|count",
         "Switzerland"
        ],
        [
         "United States|334",
         "Switzerland"
        ],
        [
         "DEST_COUNTRY_NAME|count",
         "Spain"
        ],
        [
         "United States|442",
         "Spain"
        ],
        [
         "DEST_COUNTRY_NAME|count",
         "Philippines"
        ],
        [
         "United States|116",
         "Philippines"
        ],
        [
         "DEST_COUNTRY_NAME|count",
         "France"
        ],
        [
         "United States|776",
         "France"
        ],
        [
         "DEST_COUNTRY_NAME|count",
         "South Korea"
        ],
        [
         "United States|621",
         "South Korea"
        ],
        [
         "DEST_COUNTRY_NAME|count",
         "Iceland"
        ],
        [
         "United States|129",
         "Iceland"
        ],
        [
         "DEST_COUNTRY_NAME|count",
         "Costa Rica"
        ],
        [
         "United States|501",
         "Costa Rica"
        ],
        [
         "DEST_COUNTRY_NAME|count",
         "The Bahamas"
        ],
        [
         "United States|959",
         "The Bahamas"
        ],
        [
         "DEST_COUNTRY_NAME|count",
         "Ecuador"
        ],
        [
         "United States|345",
         "Ecuador"
        ],
        [
         "DEST_COUNTRY_NAME|count",
         "Antigua and Barbuda"
        ],
        [
         "United States|121",
         "Antigua and Barbuda"
        ],
        [
         "DEST_COUNTRY_NAME|count",
         "China"
        ],
        [
         "United States|505",
         "China"
        ],
        [
         "DEST_COUNTRY_NAME|count",
         "El Salvador"
        ],
        [
         "United States|464",
         "El Salvador"
        ],
        [
         "DEST_COUNTRY_NAME|count",
         "Jamaica"
        ],
        [
         "United States|757",
         "Jamaica"
        ],
        [
         "DEST_COUNTRY_NAME|count",
         "Bermuda"
        ],
        [
         "United States|180",
         "Bermuda"
        ],
        [
         "DEST_COUNTRY_NAME|count",
         "Panama"
        ],
        [
         "United States|363",
         "Panama"
        ],
        [
         "DEST_COUNTRY_NAME|count",
         "Belize"
        ],
        [
         "United States|118",
         "Belize"
        ],
        [
         "DEST_COUNTRY_NAME|count",
         "United Arab Emirates"
        ],
        [
         "United States|156",
         "United Arab Emirates"
        ],
        [
         "DEST_COUNTRY_NAME|count",
         "Turks and Caicos Islands"
        ],
        [
         "United States|147",
         "Turks and Caicos Islands"
        ],
        [
         "DEST_COUNTRY_NAME|count",
         "Cayman Islands"
        ],
        [
         "United States|251",
         "Cayman Islands"
        ],
        [
         "DEST_COUNTRY_NAME|count",
         "Netherlands Antilles"
        ],
        [
         "United States|289",
         "Netherlands Antilles"
        ],
        [
         "DEST_COUNTRY_NAME|count",
         "Federated States of Micronesia"
        ],
        [
         "United States|48",
         "Federated States of Micronesia"
        ],
        [
         "DEST_COUNTRY_NAME|count",
         "Kyrgyzstan"
        ],
        [
         "United States|12",
         "Kyrgyzstan"
        ],
        [
         "DEST_COUNTRY_NAME|count",
         "Grenada"
        ],
        [
         "United States|54",
         "Grenada"
        ],
        [
         "DEST_COUNTRY_NAME|count",
         "Egypt"
        ],
        [
         "United States|25",
         "Egypt"
        ],
        [
         "DEST_COUNTRY_NAME|count",
         "Saint Barthelemy"
        ],
        [
         "United States|29",
         "Saint Barthelemy"
        ],
        [
         "DEST_COUNTRY_NAME|count",
         "British Virgin Islands"
        ],
        [
         "United States|47",
         "British Virgin Islands"
        ],
        [
         "DEST_COUNTRY_NAME|count",
         "Sint Maarten"
        ],
        [
         "United States|53",
         "Sint Maarten"
        ],
        [
         "DEST_COUNTRY_NAME|count",
         "Sweden"
        ],
        [
         "United States|73",
         "Sweden"
        ],
        [
         "DEST_COUNTRY_NAME|count",
         "Dominica"
        ],
        [
         "United States|32",
         "Dominica"
        ],
        [
         "DEST_COUNTRY_NAME|count",
         "Bolivia"
        ],
        [
         "United States|39",
         "Bolivia"
        ],
        [
         "DEST_COUNTRY_NAME|count",
         "Latvia"
        ],
        [
         "United States|13",
         "Latvia"
        ],
        [
         "DEST_COUNTRY_NAME|count",
         "Marshall Islands"
        ],
        [
         "United States|44",
         "Marshall Islands"
        ],
        [
         "DEST_COUNTRY_NAME|count",
         "Finland"
        ],
        [
         "United States|20",
         "Finland"
        ],
        [
         "DEST_COUNTRY_NAME|count",
         "Luxembourg"
        ],
        [
         "United States|90",
         "Luxembourg"
        ],
        [
         "DEST_COUNTRY_NAME|count",
         "Kuwait"
        ],
        [
         "United States|25",
         "Kuwait"
        ],
        [
         "DEST_COUNTRY_NAME|count",
         "Senegal"
        ],
        [
         "United States|46",
         "Senegal"
        ],
        [
         "DEST_COUNTRY_NAME|count",
         "Ghana"
        ],
        [
         "United States|28",
         "Ghana"
        ],
        [
         "DEST_COUNTRY_NAME|count",
         "Anguilla"
        ],
        [
         "United States|20",
         "Anguilla"
        ],
        [
         "DEST_COUNTRY_NAME|count",
         "French Polynesia"
        ],
        [
         "United States|38",
         "French Polynesia"
        ],
        [
         "DEST_COUNTRY_NAME|count",
         "Pakistan"
        ],
        [
         "United States|15",
         "Pakistan"
        ],
        [
         "DEST_COUNTRY_NAME|count",
         "Hungary"
        ],
        [
         "United States|15",
         "Hungary"
        ],
        [
         "DEST_COUNTRY_NAME|count",
         "Guyana"
        ],
        [
         "United States|20",
         "Guyana"
        ],
        [
         "DEST_COUNTRY_NAME|count",
         "New Zealand"
        ],
        [
         "United States|71",
         "New Zealand"
        ],
        [
         "DEST_COUNTRY_NAME|count",
         "Singapore"
        ],
        [
         "United States|25",
         "Singapore"
        ],
        [
         "DEST_COUNTRY_NAME|count",
         "Ethiopia"
        ],
        [
         "United States|12",
         "Ethiopia"
        ],
        [
         "DEST_COUNTRY_NAME|count",
         "Bonaire, Sint Eustatius, and Saba"
        ],
        [
         "United States|16",
         "Bonaire, Sint Eustatius, and Saba"
        ],
        [
         "DEST_COUNTRY_NAME|count",
         "Angola"
        ],
        [
         "United States|18",
         "Angola"
        ],
        [
         "DEST_COUNTRY_NAME|count",
         "Greece"
        ],
        [
         "United States|61",
         "Greece"
        ],
        [
         "DEST_COUNTRY_NAME|count",
         "Suriname"
        ],
        [
         "United States|13",
         "Suriname"
        ],
        [
         "DEST_COUNTRY_NAME|count",
         "Palau"
        ],
        [
         "United States|30",
         "Palau"
        ],
        [
         "DEST_COUNTRY_NAME|count",
         "Saudi Arabia"
        ],
        [
         "United States|54",
         "Saudi Arabia"
        ],
        [
         "DEST_COUNTRY_NAME|count",
         "Uruguay"
        ],
        [
         "United States|24",
         "Uruguay"
        ],
        [
         "DEST_COUNTRY_NAME|count",
         "Curacao"
        ],
        [
         "United States|14",
         "Curacao"
        ],
        [
         "DEST_COUNTRY_NAME|count",
         "Thailand"
        ],
        [
         "United States|13",
         "Thailand"
        ],
        [
         "DEST_COUNTRY_NAME|count",
         "Guadeloupe"
        ],
        [
         "United States|33",
         "Guadeloupe"
        ],
        [
         "DEST_COUNTRY_NAME|count",
         "Fiji"
        ],
        [
         "United States|51",
         "Fiji"
        ],
        [
         "DEST_COUNTRY_NAME|count",
         "Samoa"
        ],
        [
         "United States|28",
         "Samoa"
        ],
        [
         "DEST_COUNTRY_NAME|count",
         "Ukraine"
        ],
        [
         "United States|17",
         "Ukraine"
        ],
        [
         "DEST_COUNTRY_NAME|count",
         "Martinique"
        ],
        [
         "United States|20",
         "Martinique"
        ],
        [
         "DEST_COUNTRY_NAME|count",
         "Turkey"
        ],
        [
         "United States|87",
         "Turkey"
        ],
        [
         "DEST_COUNTRY_NAME|count",
         "Austria"
        ],
        [
         "United States|34",
         "Austria"
        ],
        [
         "DEST_COUNTRY_NAME|count",
         "Cape Verde"
        ],
        [
         "United States|18",
         "Cape Verde"
        ],
        [
         "DEST_COUNTRY_NAME|count",
         "Qatar"
        ],
        [
         "United States|40",
         "Qatar"
        ],
        [
         "DEST_COUNTRY_NAME|count",
         "India"
        ],
        [
         "United States|69",
         "India"
        ],
        [
         "DEST_COUNTRY_NAME|count",
         "South Africa"
        ],
        [
         "United States|15",
         "South Africa"
        ],
        [
         "DEST_COUNTRY_NAME|count",
         "Morocco"
        ],
        [
         "United States|16",
         "Morocco"
        ],
        [
         "DEST_COUNTRY_NAME|count",
         "Saint Vincent and the Grenadines"
        ],
        [
         "United States|16",
         "Saint Vincent and the Grenadines"
        ],
        [
         "DEST_COUNTRY_NAME|count",
         "Nigeria"
        ],
        [
         "United States|18",
         "Nigeria"
        ],
        [
         "DEST_COUNTRY_NAME|count",
         "Czech Republic"
        ],
        [
         "United States|22",
         "Czech Republic"
        ],
        [
         "DEST_COUNTRY_NAME|count",
         "Poland"
        ],
        [
         "United States|61",
         "Poland"
        ],
        [
         "DEST_COUNTRY_NAME|count",
         "Jordan"
        ],
        [
         "United States|51",
         "Jordan"
        ],
        [
         "DEST_COUNTRY_NAME|count",
         "Kiribati"
        ],
        [
         "United States|18",
         "Kiribati"
        ],
        [
         "DEST_COUNTRY_NAME|count",
         "Cook Islands"
        ],
        [
         "United States|12",
         "Cook Islands"
        ],
        [
         "DEST_COUNTRY_NAME|count",
         "Norway"
        ],
        [
         "United States|36",
         "Norway"
        ],
        [
         "DEST_COUNTRY_NAME|count",
         "Azerbaijan"
        ],
        [
         "United States|1",
         "Azerbaijan"
        ],
        [
         "DEST_COUNTRY_NAME|count",
         "Papua New Guinea"
        ],
        [
         "United States|1",
         "Papua New Guinea"
        ],
        [
         "DEST_COUNTRY_NAME|count",
         "Bulgaria"
        ],
        [
         "United States|2",
         "Bulgaria"
        ],
        [
         "DEST_COUNTRY_NAME|count",
         "Malaysia"
        ],
        [
         "United States|3",
         "Malaysia"
        ],
        [
         "DEST_COUNTRY_NAME|count",
         "Burkina Faso"
        ],
        [
         "United States|1",
         "Burkina Faso"
        ],
        [
         "DEST_COUNTRY_NAME|count",
         "Slovakia"
        ],
        [
         "United States|1",
         "Slovakia"
        ],
        [
         "DEST_COUNTRY_NAME|count",
         "Bahrain"
        ],
        [
         "United States|1",
         "Bahrain"
        ],
        [
         "DEST_COUNTRY_NAME|count",
         "Uganda"
        ],
        [
         "United States|1",
         "Uganda"
        ],
        [
         "DEST_COUNTRY_NAME|count",
         "Indonesia"
        ],
        [
         "United States|1",
         "Indonesia"
        ],
        [
         "DEST_COUNTRY_NAME|count",
         "Serbia"
        ],
        [
         "United States|1",
         "Serbia"
        ],
        [
         "DEST_COUNTRY_NAME|count",
         "Gabon"
        ],
        [
         "United States|1",
         "Gabon"
        ],
        [
         "DEST_COUNTRY_NAME|count",
         "Bosnia and Herzegovina"
        ],
        [
         "United States|1",
         "Bosnia and Herzegovina"
        ],
        [
         "DEST_COUNTRY_NAME|count",
         "Cameroon"
        ],
        [
         "United States|1",
         "Cameroon"
        ],
        [
         "DEST_COUNTRY_NAME|count",
         "French Guiana"
        ],
        [
         "United States|1",
         "French Guiana"
        ],
        [
         "DEST_COUNTRY_NAME|count",
         "Cyprus"
        ],
        [
         "United States|1",
         "Cyprus"
        ],
        [
         "DEST_COUNTRY_NAME|count",
         "Algeria"
        ],
        [
         "United States|1",
         "Algeria"
        ],
        [
         "DEST_COUNTRY_NAME|count",
         "Afghanistan"
        ],
        [
         "United States|2",
         "Afghanistan"
        ],
        [
         "DEST_COUNTRY_NAME|count",
         "Estonia"
        ],
        [
         "United States|1",
         "Estonia"
        ],
        [
         "DEST_COUNTRY_NAME|count",
         "Greenland"
        ],
        [
         "United States|2",
         "Greenland"
        ],
        [
         "DEST_COUNTRY_NAME|count",
         "Malta"
        ],
        [
         "United States|2",
         "Malta"
        ],
        [
         "DEST_COUNTRY_NAME|count",
         "Liberia"
        ],
        [
         "United States|1",
         "Liberia"
        ],
        [
         "DEST_COUNTRY_NAME|count",
         "Vietnam"
        ],
        [
         "United States|1",
         "Vietnam"
        ],
        [
         "DEST_COUNTRY_NAME|count",
         "Romania"
        ],
        [
         "United States|1",
         "Romania"
        ]
       ],
       "datasetInfos": [],
       "dbfsResultPath": null,
       "isJsonSchema": true,
       "metadata": {},
       "overflow": false,
       "plotOptions": {
        "customPlotOptions": {},
        "displayType": "table",
        "pivotAggregation": null,
        "pivotColumns": null,
        "xColumns": null,
        "yColumns": null
       },
       "removedWidgets": [],
       "schema": [
        {
         "metadata": "{}",
         "name": "_c0",
         "type": "\"string\""
        },
        {
         "metadata": "{}",
         "name": "ORIGIN_COUNTRY_NAME",
         "type": "\"string\""
        }
       ],
       "type": "table"
      }
     },
     "output_type": "display_data"
    }
   ],
   "source": [
    "%sql\n",
    "select * from csv.`dbfs:/FileStore/shared_uploads/zaderohish5@gmail.com/out/`"
   ]
  },
  {
   "cell_type": "code",
   "execution_count": 0,
   "metadata": {
    "application/vnd.databricks.v1+cell": {
     "cellMetadata": {
      "byteLimit": 2048000,
      "implicitDf": true,
      "rowLimit": 10000
     },
     "inputWidgets": {},
     "nuid": "98ddbc72-b169-4060-9d2b-c4b4d9bb07ee",
     "showTitle": false,
     "tableResultSettingsMap": {},
     "title": ""
    }
   },
   "outputs": [
    {
     "output_type": "display_data",
     "data": {
      "text/html": [
       "<style scoped>\n",
       "  .table-result-container {\n",
       "    max-height: 300px;\n",
       "    overflow: auto;\n",
       "  }\n",
       "  table, th, td {\n",
       "    border: 1px solid black;\n",
       "    border-collapse: collapse;\n",
       "  }\n",
       "  th, td {\n",
       "    padding: 5px;\n",
       "  }\n",
       "  th {\n",
       "    text-align: left;\n",
       "  }\n",
       "</style><div class='table-result-container'><table class='table-result'><thead style='background-color: white'><tr><th>_c0</th></tr></thead><tbody><tr><td>DEST_COUNTRY_NAME|count</td></tr><tr><td>United States|69</td></tr></tbody></table></div>"
      ]
     },
     "metadata": {
      "application/vnd.databricks.v1+output": {
       "addedWidgets": {},
       "aggData": [],
       "aggError": "",
       "aggOverflow": false,
       "aggSchema": [],
       "aggSeriesLimitReached": false,
       "aggType": "",
       "arguments": {},
       "columnCustomDisplayInfos": {},
       "data": [
        [
         "DEST_COUNTRY_NAME|count"
        ],
        [
         "United States|69"
        ]
       ],
       "datasetInfos": [],
       "dbfsResultPath": null,
       "isJsonSchema": true,
       "metadata": {},
       "overflow": false,
       "plotOptions": {
        "customPlotOptions": {},
        "displayType": "table",
        "pivotAggregation": null,
        "pivotColumns": null,
        "xColumns": null,
        "yColumns": null
       },
       "removedWidgets": [],
       "schema": [
        {
         "metadata": "{}",
         "name": "_c0",
         "type": "\"string\""
        }
       ],
       "type": "table"
      }
     },
     "output_type": "display_data"
    }
   ],
   "source": [
    "%sql\n",
    "select * from csv.`dbfs:/FileStore/shared_uploads/zaderohish5@gmail.com/out/ORIGIN_COUNTRY_NAME=India/part-00000-tid-8171927095212985685-7004e94a-5416-4c0f-9c18-f427923198c3-9-64.c000.csv.gz`"
   ]
  }
 ],
 "metadata": {
  "application/vnd.databricks.v1+notebook": {
   "dashboards": [],
   "environmentMetadata": null,
   "language": "python",
   "notebookMetadata": {
    "mostRecentlyExecutedCommandWithImplicitDF": {
     "commandId": 1968503931203470,
     "dataframes": [
      "_sqldf"
     ]
    },
    "pythonIndentUnit": 4
   },
   "notebookName": "writing_dataframe_to_disk_in_pyspark",
   "widgets": {}
  }
 },
 "nbformat": 4,
 "nbformat_minor": 0
}
