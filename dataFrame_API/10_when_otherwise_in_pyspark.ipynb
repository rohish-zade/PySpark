{
 "cells": [
  {
   "cell_type": "markdown",
   "metadata": {
    "application/vnd.databricks.v1+cell": {
     "cellMetadata": {},
     "inputWidgets": {},
     "nuid": "1351d47c-0f0c-45e7-aad4-68df21591a2c",
     "showTitle": false,
     "tableResultSettingsMap": {},
     "title": ""
    }
   },
   "source": [
    "## when() and otherwise() in PySpark"
   ]
  },
  {
   "cell_type": "markdown",
   "metadata": {
    "application/vnd.databricks.v1+cell": {
     "cellMetadata": {},
     "inputWidgets": {},
     "nuid": "3b72998a-4912-4ca4-ab05-47b8738fdd90",
     "showTitle": false,
     "tableResultSettingsMap": {},
     "title": ""
    }
   },
   "source": [
    "The when and otherwise functions in PySpark are used to implement conditional logic similar to an if-else or CASE statement in SQL.\n",
    "\n",
    "These are part of the pyspark.sql.functions module and are commonly used to create new columns or update existing ones based on certain conditions."
   ]
  },
  {
   "cell_type": "markdown",
   "metadata": {
    "application/vnd.databricks.v1+cell": {
     "cellMetadata": {},
     "inputWidgets": {},
     "nuid": "4382daa5-c208-4546-a9d9-e7c0210199e0",
     "showTitle": false,
     "tableResultSettingsMap": {},
     "title": ""
    }
   },
   "source": [
    "**Syntax:**"
   ]
  },
  {
   "cell_type": "markdown",
   "metadata": {
    "application/vnd.databricks.v1+cell": {
     "cellMetadata": {},
     "inputWidgets": {},
     "nuid": "99cf5640-88b9-40d7-985d-888f4e4e428f",
     "showTitle": false,
     "tableResultSettingsMap": {},
     "title": ""
    }
   },
   "source": [
    "```python\n",
    "# Conditional logic\n",
    "df.withColumn(\"new_column\", \n",
    "              when(condition, value).otherwise(default_value))\n",
    "```\n",
    "\n",
    "**when(condition, value)** specifies the condition and the value to return when the condition is\n",
    "\n",
    "**otherwise(default_value)** specifies the value to return when the condition is false."
   ]
  },
  {
   "cell_type": "markdown",
   "metadata": {
    "application/vnd.databricks.v1+cell": {
     "cellMetadata": {},
     "inputWidgets": {},
     "nuid": "0850477a-b484-4450-9bef-13f6f6b01e36",
     "showTitle": false,
     "tableResultSettingsMap": {},
     "title": ""
    }
   },
   "source": []
  },
  {
   "cell_type": "markdown",
   "metadata": {
    "application/vnd.databricks.v1+cell": {
     "cellMetadata": {},
     "inputWidgets": {},
     "nuid": "d473eb7e-98ba-4c5d-bb1e-7a48eed8d7b5",
     "showTitle": false,
     "tableResultSettingsMap": {},
     "title": ""
    }
   },
   "source": [
    "**Example**"
   ]
  },
  {
   "cell_type": "code",
   "execution_count": 0,
   "metadata": {
    "application/vnd.databricks.v1+cell": {
     "cellMetadata": {
      "byteLimit": 2048000,
      "rowLimit": 10000
     },
     "inputWidgets": {},
     "nuid": "a9c4de6f-4700-4b12-8cbb-aaf14ea98926",
     "showTitle": false,
     "tableResultSettingsMap": {},
     "title": ""
    }
   },
   "outputs": [],
   "source": [
    "# creating a sample dataframe\n",
    "data = [\n",
    "(1,'Rohish',27,20000,'india','IT'),\n",
    "(2,'Melody',25,40000,'germany','engineering'),\n",
    "(3,'Smit',12,60000,'india','sales'),\n",
    "(4,'Pushpak',44,None,'uk','engineering'),\n",
    "(5,'Faisal',35,70000,'india','sales'),\n",
    "(6,None,29,200000,'uk','IT'),\n",
    "(7,'Chandra',18,65000,'us','IT'),\n",
    "(8,'Rajesh',16,40000,'us','sales'),\n",
    "(None,None,None,None,None,None),\n",
    "(7,'Babali',37,65000,'us','IT')\n",
    "]\n",
    "\n",
    "columns = \"id int, name string, age int, salary long, country string, dept string\"\n",
    "\n",
    "emp_df = spark.createDataFrame(data, columns)"
   ]
  },
  {
   "cell_type": "code",
   "execution_count": 0,
   "metadata": {
    "application/vnd.databricks.v1+cell": {
     "cellMetadata": {
      "byteLimit": 2048000,
      "rowLimit": 10000
     },
     "inputWidgets": {},
     "nuid": "c5e9edb3-b6a1-4079-9daa-92543ce23b29",
     "showTitle": false,
     "tableResultSettingsMap": {},
     "title": ""
    }
   },
   "outputs": [
    {
     "output_type": "display_data",
     "data": {
      "text/html": [
       "<style scoped>\n",
       "  .table-result-container {\n",
       "    max-height: 300px;\n",
       "    overflow: auto;\n",
       "  }\n",
       "  table, th, td {\n",
       "    border: 1px solid black;\n",
       "    border-collapse: collapse;\n",
       "  }\n",
       "  th, td {\n",
       "    padding: 5px;\n",
       "  }\n",
       "  th {\n",
       "    text-align: left;\n",
       "  }\n",
       "</style><div class='table-result-container'><table class='table-result'><thead style='background-color: white'><tr><th>id</th><th>name</th><th>age</th><th>salary</th><th>country</th><th>dept</th></tr></thead><tbody><tr><td>1</td><td>Rohish</td><td>27</td><td>20000</td><td>india</td><td>IT</td></tr><tr><td>2</td><td>Melody</td><td>25</td><td>40000</td><td>germany</td><td>engineering</td></tr><tr><td>3</td><td>Smit</td><td>12</td><td>60000</td><td>india</td><td>sales</td></tr><tr><td>4</td><td>Pushpak</td><td>44</td><td>null</td><td>uk</td><td>engineering</td></tr><tr><td>5</td><td>Faisal</td><td>35</td><td>70000</td><td>india</td><td>sales</td></tr><tr><td>6</td><td>null</td><td>29</td><td>200000</td><td>uk</td><td>IT</td></tr><tr><td>7</td><td>Chandra</td><td>18</td><td>65000</td><td>us</td><td>IT</td></tr><tr><td>8</td><td>Rajesh</td><td>16</td><td>40000</td><td>us</td><td>sales</td></tr><tr><td>null</td><td>null</td><td>null</td><td>null</td><td>null</td><td>null</td></tr><tr><td>7</td><td>Babali</td><td>37</td><td>65000</td><td>us</td><td>IT</td></tr></tbody></table></div>"
      ]
     },
     "metadata": {
      "application/vnd.databricks.v1+output": {
       "addedWidgets": {},
       "aggData": [],
       "aggError": "",
       "aggOverflow": false,
       "aggSchema": [],
       "aggSeriesLimitReached": false,
       "aggType": "",
       "arguments": {},
       "columnCustomDisplayInfos": {},
       "data": [
        [
         1,
         "Rohish",
         27,
         20000,
         "india",
         "IT"
        ],
        [
         2,
         "Melody",
         25,
         40000,
         "germany",
         "engineering"
        ],
        [
         3,
         "Smit",
         12,
         60000,
         "india",
         "sales"
        ],
        [
         4,
         "Pushpak",
         44,
         null,
         "uk",
         "engineering"
        ],
        [
         5,
         "Faisal",
         35,
         70000,
         "india",
         "sales"
        ],
        [
         6,
         null,
         29,
         200000,
         "uk",
         "IT"
        ],
        [
         7,
         "Chandra",
         18,
         65000,
         "us",
         "IT"
        ],
        [
         8,
         "Rajesh",
         16,
         40000,
         "us",
         "sales"
        ],
        [
         null,
         null,
         null,
         null,
         null,
         null
        ],
        [
         7,
         "Babali",
         37,
         65000,
         "us",
         "IT"
        ]
       ],
       "datasetInfos": [],
       "dbfsResultPath": null,
       "isJsonSchema": true,
       "metadata": {},
       "overflow": false,
       "plotOptions": {
        "customPlotOptions": {},
        "displayType": "table",
        "pivotAggregation": null,
        "pivotColumns": null,
        "xColumns": null,
        "yColumns": null
       },
       "removedWidgets": [],
       "schema": [
        {
         "metadata": "{}",
         "name": "id",
         "type": "\"integer\""
        },
        {
         "metadata": "{}",
         "name": "name",
         "type": "\"string\""
        },
        {
         "metadata": "{}",
         "name": "age",
         "type": "\"integer\""
        },
        {
         "metadata": "{}",
         "name": "salary",
         "type": "\"long\""
        },
        {
         "metadata": "{}",
         "name": "country",
         "type": "\"string\""
        },
        {
         "metadata": "{}",
         "name": "dept",
         "type": "\"string\""
        }
       ],
       "type": "table"
      }
     },
     "output_type": "display_data"
    }
   ],
   "source": [
    "emp_df.display()"
   ]
  },
  {
   "cell_type": "markdown",
   "metadata": {
    "application/vnd.databricks.v1+cell": {
     "cellMetadata": {},
     "inputWidgets": {},
     "nuid": "5eab0a53-cd55-4d3a-a6e2-27f5956596e3",
     "showTitle": false,
     "tableResultSettingsMap": {},
     "title": ""
    }
   },
   "source": [
    "**Example 1:**  create a new column adult that assigns a label(Yes or No) based on age\n",
    "\n",
    "- If the age is greater than or equal to 18, then Yes, Otherwise assigns no"
   ]
  },
  {
   "cell_type": "code",
   "execution_count": 0,
   "metadata": {
    "application/vnd.databricks.v1+cell": {
     "cellMetadata": {
      "byteLimit": 2048000,
      "rowLimit": 10000
     },
     "inputWidgets": {},
     "nuid": "c94c205d-ed7a-44fc-a384-38c4a7e32ced",
     "showTitle": false,
     "tableResultSettingsMap": {},
     "title": ""
    }
   },
   "outputs": [
    {
     "output_type": "stream",
     "name": "stdout",
     "output_type": "stream",
     "text": [
      "+----+-------+----+------+-------+-----------+-----+\n|  id|   name| age|salary|country|       dept|Adult|\n+----+-------+----+------+-------+-----------+-----+\n|   1| Rohish|  27| 20000|  india|         IT|  Yes|\n|   2| Melody|  25| 40000|germany|engineering|  Yes|\n|   3|   Smit|  12| 60000|  india|      sales|   No|\n|   4|Pushpak|  44|  null|     uk|engineering|  Yes|\n|   5| Faisal|  35| 70000|  india|      sales|  Yes|\n|   6|   null|  29|200000|     uk|         IT|  Yes|\n|   7|Chandra|  18| 65000|     us|         IT|  Yes|\n|   8| Rajesh|  16| 40000|     us|      sales|   No|\n|null|   null|null|  null|   null|       null|   NA|\n|   7| Babali|  37| 65000|     us|         IT|  Yes|\n+----+-------+----+------+-------+-----------+-----+\n\n"
     ]
    }
   ],
   "source": [
    "from pyspark.sql.functions import *\n",
    "\n",
    "emp_df.withColumn(\"Adult\", when(col(\"age\")>=18, \"Yes\") \\\n",
    "                          .when(col(\"age\")<18, \"No\") \\\n",
    "                          .otherwise(\"NA\")).show()"
   ]
  },
  {
   "cell_type": "markdown",
   "metadata": {
    "application/vnd.databricks.v1+cell": {
     "cellMetadata": {},
     "inputWidgets": {},
     "nuid": "1a2cc2ef-6e67-488f-bb13-bb38f27510a8",
     "showTitle": false,
     "tableResultSettingsMap": {},
     "title": ""
    }
   },
   "source": [
    "**Example 2:** create a new column category that assigns a label based on age:\n",
    "- If the age is greater than or equal to 18, the category will be \"Adult\".\n",
    "- Otherwise, the category will be \"Minor\"."
   ]
  },
  {
   "cell_type": "code",
   "execution_count": 0,
   "metadata": {
    "application/vnd.databricks.v1+cell": {
     "cellMetadata": {
      "byteLimit": 2048000,
      "rowLimit": 10000
     },
     "inputWidgets": {},
     "nuid": "47830c0b-f2a4-4076-9429-f87a270f16c9",
     "showTitle": false,
     "tableResultSettingsMap": {},
     "title": ""
    }
   },
   "outputs": [
    {
     "output_type": "stream",
     "name": "stdout",
     "output_type": "stream",
     "text": [
      "+----+-------+----+------+-------+-----------+--------+\n|  id|   name| age|salary|country|       dept|category|\n+----+-------+----+------+-------+-----------+--------+\n|   1| Rohish|  27| 20000|  india|         IT|   Major|\n|   2| Melody|  25| 40000|germany|engineering|   Major|\n|   3|   Smit|  12| 60000|  india|      sales|   Minor|\n|   4|Pushpak|  44|  null|     uk|engineering|   Major|\n|   5| Faisal|  35| 70000|  india|      sales|   Major|\n|   6|   null|  29|200000|     uk|         IT|   Major|\n|   7|Chandra|  18| 65000|     us|         IT|   Major|\n|   8| Rajesh|  16| 40000|     us|      sales|   Minor|\n|null|   null|null|  null|   null|       null|      NA|\n|   7| Babali|  37| 65000|     us|         IT|   Major|\n+----+-------+----+------+-------+-----------+--------+\n\n"
     ]
    }
   ],
   "source": [
    "emp_df.withColumn(\"category\", when(col(\"age\") < 18, \"Minor\") \\\n",
    "                              .when(col(\"age\") >= 18, \"Major\") \\\n",
    "                              .otherwise(\"NA\")).show()"
   ]
  },
  {
   "cell_type": "markdown",
   "metadata": {
    "application/vnd.databricks.v1+cell": {
     "cellMetadata": {},
     "inputWidgets": {},
     "nuid": "cd077534-c3ea-4ade-9cce-0721f8779f60",
     "showTitle": false,
     "tableResultSettingsMap": {},
     "title": ""
    }
   },
   "source": []
  },
  {
   "cell_type": "markdown",
   "metadata": {
    "application/vnd.databricks.v1+cell": {
     "cellMetadata": {},
     "inputWidgets": {},
     "nuid": "e709b243-7fae-44c9-9029-3adca0a4e1a1",
     "showTitle": false,
     "tableResultSettingsMap": {},
     "title": ""
    }
   },
   "source": [
    "**Handling Null Values**"
   ]
  },
  {
   "cell_type": "code",
   "execution_count": 0,
   "metadata": {
    "application/vnd.databricks.v1+cell": {
     "cellMetadata": {
      "byteLimit": 2048000,
      "rowLimit": 10000
     },
     "inputWidgets": {},
     "nuid": "17ac6085-9d05-44ea-82da-10737f0c0fe5",
     "showTitle": false,
     "tableResultSettingsMap": {},
     "title": ""
    }
   },
   "outputs": [
    {
     "output_type": "stream",
     "name": "stdout",
     "output_type": "stream",
     "text": [
      "+----+-------+---+------+-------+-----------+-----+\n|  id|   name|age|salary|country|       dept|Adult|\n+----+-------+---+------+-------+-----------+-----+\n|   1| Rohish| 27| 20000|  india|         IT|  YES|\n|   2| Melody| 25| 40000|germany|engineering|  YES|\n|   3|   Smit| 12| 60000|  india|      sales|   NO|\n|   4|Pushpak| 44|  null|     uk|engineering|  YES|\n|   5| Faisal| 35| 70000|  india|      sales|  YES|\n|   6|   null| 29|200000|     uk|         IT|  YES|\n|   7|Chandra| 18| 65000|     us|         IT|  YES|\n|   8| Rajesh| 16| 40000|     us|      sales|   NO|\n|null|   null| 19|  null|   null|       null|  YES|\n|   7| Babali| 37| 65000|     us|         IT|  YES|\n+----+-------+---+------+-------+-----------+-----+\n\n"
     ]
    }
   ],
   "source": [
    "emp_df.withColumn(\"age\", when(col(\"age\").isNull(), lit(19)).otherwise(col(\"age\"))) \\\n",
    "      .withColumn(\"Adult\", when(col(\"age\") >= 18, \"YES\") \\\n",
    "                            .otherwise(\"NO\")).show()"
   ]
  }
 ],
 "metadata": {
  "application/vnd.databricks.v1+notebook": {
   "computePreferences": null,
   "dashboards": [],
   "environmentMetadata": {
    "base_environment": "",
    "client": "1"
   },
   "language": "python",
   "notebookMetadata": {
    "pythonIndentUnit": 4
   },
   "notebookName": "when_otherwise_in_pyspark",
   "widgets": {}
  }
 },
 "nbformat": 4,
 "nbformat_minor": 0
}
