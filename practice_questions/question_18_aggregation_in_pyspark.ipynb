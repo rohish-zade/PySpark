{
 "cells": [
  {
   "cell_type": "markdown",
   "metadata": {
    "application/vnd.databricks.v1+cell": {
     "cellMetadata": {
      "byteLimit": 2048000,
      "rowLimit": 10000
     },
     "inputWidgets": {},
     "nuid": "347bba5c-9244-482c-83fe-e658e0abe354",
     "showTitle": false,
     "tableResultSettingsMap": {},
     "title": ""
    }
   },
   "source": [
    "### Customer Transactions"
   ]
  },
  {
   "cell_type": "markdown",
   "metadata": {
    "application/vnd.databricks.v1+cell": {
     "cellMetadata": {
      "byteLimit": 2048000,
      "rowLimit": 10000
     },
     "inputWidgets": {},
     "nuid": "ee247c61-9ea7-4ee6-a713-ea0ada03353c",
     "showTitle": false,
     "tableResultSettingsMap": {},
     "title": ""
    }
   },
   "source": [
    "You are given a DataFrame containing customer transactions. The columns are customer_id, transaction_date, and amount.\n",
    "\n",
    "Write a PySpark code to calculate the following:\n",
    "- The total transaction amount for each customer.\n",
    "- The average transaction amount for each customer.\n",
    "- The number of transactions made by each customer.\n",
    "- Filter out customers who have made more than 5 transactions."
   ]
  },
  {
   "cell_type": "code",
   "execution_count": 0,
   "metadata": {
    "application/vnd.databricks.v1+cell": {
     "cellMetadata": {
      "byteLimit": 2048000,
      "rowLimit": 10000
     },
     "inputWidgets": {},
     "nuid": "93061aa8-b0f0-4c69-92bd-72909ddb3f34",
     "showTitle": false,
     "tableResultSettingsMap": {},
     "title": ""
    }
   },
   "outputs": [
    {
     "output_type": "stream",
     "name": "stdout",
     "output_type": "stream",
     "text": [
      "+-----------+----------------+------+\n|customer_id|transaction_date|amount|\n+-----------+----------------+------+\n|          1|      2024-01-01|   200|\n|          1|      2024-01-02|   150|\n|          2|      2024-01-01|   300|\n|          3|      2024-01-01|   100|\n|          1|      2024-01-03|   250|\n|          3|      2024-01-02|   200|\n|          2|      2024-01-02|   100|\n|          2|      2024-01-03|   200|\n|          1|      2024-01-04|   300|\n|          1|      2024-01-05|   100|\n+-----------+----------------+------+\n\n"
     ]
    }
   ],
   "source": [
    "# Sample data\n",
    "data = [\n",
    "    (1, \"2024-01-01\", 200),\n",
    "    (1, \"2024-01-02\", 150),\n",
    "    (2, \"2024-01-01\", 300),\n",
    "    (3, \"2024-01-01\", 100),\n",
    "    (1, \"2024-01-03\", 250),\n",
    "    (3, \"2024-01-02\", 200),\n",
    "    (2, \"2024-01-02\", 100),\n",
    "    (2, \"2024-01-03\", 200),\n",
    "    (1, \"2024-01-04\", 300),\n",
    "    (1, \"2024-01-05\", 100),\n",
    "]\n",
    "\n",
    "# Create DataFrame\n",
    "df = spark.createDataFrame(data, [\"customer_id\", \"transaction_date\", \"amount\"])\n",
    "df.show()"
   ]
  },
  {
   "cell_type": "markdown",
   "metadata": {
    "application/vnd.databricks.v1+cell": {
     "cellMetadata": {
      "byteLimit": 2048000,
      "rowLimit": 10000
     },
     "inputWidgets": {},
     "nuid": "e3b77736-252d-41ca-9bc3-b3d752785912",
     "showTitle": false,
     "tableResultSettingsMap": {},
     "title": ""
    }
   },
   "source": []
  },
  {
   "cell_type": "code",
   "execution_count": 0,
   "metadata": {
    "application/vnd.databricks.v1+cell": {
     "cellMetadata": {
      "byteLimit": 2048000,
      "rowLimit": 10000
     },
     "inputWidgets": {},
     "nuid": "e64ed642-ce1e-45cc-8051-0e911ede8887",
     "showTitle": false,
     "tableResultSettingsMap": {},
     "title": ""
    }
   },
   "outputs": [],
   "source": [
    "from pyspark.sql.functions import sum, avg, col, count"
   ]
  },
  {
   "cell_type": "code",
   "execution_count": 0,
   "metadata": {
    "application/vnd.databricks.v1+cell": {
     "cellMetadata": {
      "byteLimit": 2048000,
      "rowLimit": 10000
     },
     "inputWidgets": {},
     "nuid": "ffe5efd3-f90e-42ae-ba38-2218fb830506",
     "showTitle": false,
     "tableResultSettingsMap": {},
     "title": ""
    }
   },
   "outputs": [
    {
     "output_type": "stream",
     "name": "stdout",
     "output_type": "stream",
     "text": [
      "+-----------+------------------------+--------------------------+-----------------+\n|customer_id|total_transaction_amount|average_transaction_amount|transaction_count|\n+-----------+------------------------+--------------------------+-----------------+\n|          1|                    1000|                     200.0|                5|\n|          2|                     600|                     200.0|                3|\n|          3|                     300|                     150.0|                2|\n+-----------+------------------------+--------------------------+-----------------+\n\n"
     ]
    }
   ],
   "source": [
    "aggregated_df = df.groupBy(\"customer_id\").agg(\n",
    "    sum(col(\"amount\")).alias(\"total_transaction_amount\"),\n",
    "    avg(col(\"amount\")).alias(\"average_transaction_amount\"),\n",
    "    count(col(\"amount\")).alias(\"transaction_count\")\n",
    ")\n",
    "\n",
    "aggregated_df.show()"
   ]
  },
  {
   "cell_type": "code",
   "execution_count": 0,
   "metadata": {
    "application/vnd.databricks.v1+cell": {
     "cellMetadata": {
      "byteLimit": 2048000,
      "rowLimit": 10000
     },
     "inputWidgets": {},
     "nuid": "a4d7ce0e-abc3-4b8e-ada0-2f809c1943b1",
     "showTitle": false,
     "tableResultSettingsMap": {},
     "title": ""
    }
   },
   "outputs": [
    {
     "output_type": "stream",
     "name": "stdout",
     "output_type": "stream",
     "text": [
      "+-----------+------------------------+--------------------------+-----------------+\n|customer_id|total_transaction_amount|average_transaction_amount|transaction_count|\n+-----------+------------------------+--------------------------+-----------------+\n|          1|                    1000|                     200.0|                5|\n+-----------+------------------------+--------------------------+-----------------+\n\n"
     ]
    }
   ],
   "source": [
    "# Filter out customers who have made more than 5 transactions.\n",
    "filtered_df = aggregated_df.filter(col(\"transaction_count\") >= 5)\n",
    "filtered_df.show()"
   ]
  }
 ],
 "metadata": {
  "application/vnd.databricks.v1+notebook": {
   "computePreferences": null,
   "dashboards": [],
   "environmentMetadata": {
    "base_environment": "",
    "environment_version": "1"
   },
   "inputWidgetPreferences": null,
   "language": "python",
   "notebookMetadata": {
    "pythonIndentUnit": 4
   },
   "notebookName": "question_18_aggregation_in_pyspark",
   "widgets": {}
  }
 },
 "nbformat": 4,
 "nbformat_minor": 0
}