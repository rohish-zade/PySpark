{
 "cells": [
  {
   "cell_type": "markdown",
   "metadata": {
    "application/vnd.databricks.v1+cell": {
     "cellMetadata": {},
     "inputWidgets": {},
     "nuid": "e77828ab-9376-4403-8a7e-b9455bc2f343",
     "showTitle": false,
     "tableResultSettingsMap": {},
     "title": ""
    }
   },
   "source": [
    "### Writing to Disk"
   ]
  },
  {
   "cell_type": "markdown",
   "metadata": {
    "application/vnd.databricks.v1+cell": {
     "cellMetadata": {},
     "inputWidgets": {},
     "nuid": "05e9c06d-dbff-453c-81ab-dd3582b7e709",
     "showTitle": false,
     "tableResultSettingsMap": {},
     "title": ""
    }
   },
   "source": [
    "**Write a PySpark DataFrame to a CSV file**\n",
    "\n",
    "Steps:\n",
    "1. Create a Spark session\n",
    "2. Create sample data\n",
    "3. Convert it into a DataFrame\n",
    "4. Write DataFrame to a CSV file\n"
   ]
  },
  {
   "cell_type": "code",
   "execution_count": 0,
   "metadata": {
    "application/vnd.databricks.v1+cell": {
     "cellMetadata": {
      "byteLimit": 2048000,
      "rowLimit": 10000
     },
     "inputWidgets": {},
     "nuid": "37302d6a-b83c-4d50-b83b-82ffd44d6b81",
     "showTitle": false,
     "tableResultSettingsMap": {},
     "title": ""
    }
   },
   "outputs": [
    {
     "output_type": "display_data",
     "data": {
      "text/html": [
       "\n",
       "            <div>\n",
       "                <p><b>SparkSession - hive</b></p>\n",
       "                \n",
       "        <div>\n",
       "            <p><b>SparkContext</b></p>\n",
       "\n",
       "            <p><a href=\"/?o=1985111441010120#setting/sparkui/0330-071606-hpcq8p6w/driver-1077487265608508961\">Spark UI</a></p>\n",
       "\n",
       "            <dl>\n",
       "              <dt>Version</dt>\n",
       "                <dd><code>v3.3.2</code></dd>\n",
       "              <dt>Master</dt>\n",
       "                <dd><code>local[8]</code></dd>\n",
       "              <dt>AppName</dt>\n",
       "                <dd><code>Databricks Shell</code></dd>\n",
       "            </dl>\n",
       "        </div>\n",
       "        \n",
       "            </div>\n",
       "        "
      ]
     },
     "metadata": {
      "application/vnd.databricks.v1+output": {
       "addedWidgets": {},
       "arguments": {},
       "data": "\n            <div>\n                <p><b>SparkSession - hive</b></p>\n                \n        <div>\n            <p><b>SparkContext</b></p>\n\n            <p><a href=\"/?o=1985111441010120#setting/sparkui/0330-071606-hpcq8p6w/driver-1077487265608508961\">Spark UI</a></p>\n\n            <dl>\n              <dt>Version</dt>\n                <dd><code>v3.3.2</code></dd>\n              <dt>Master</dt>\n                <dd><code>local[8]</code></dd>\n              <dt>AppName</dt>\n                <dd><code>Databricks Shell</code></dd>\n            </dl>\n        </div>\n        \n            </div>\n        ",
       "datasetInfos": [],
       "metadata": {},
       "removedWidgets": [],
       "textData": null,
       "type": "htmlSandbox"
      }
     },
     "output_type": "display_data"
    }
   ],
   "source": [
    "# create a spark session\n",
    "from pyspark.sql import SparkSession\n",
    "\n",
    "spark = SparkSession.builder.appName(\"save_df_to_csv\").getOrCreate()\n",
    "spark"
   ]
  },
  {
   "cell_type": "code",
   "execution_count": 0,
   "metadata": {
    "application/vnd.databricks.v1+cell": {
     "cellMetadata": {
      "byteLimit": 2048000,
      "rowLimit": 10000
     },
     "inputWidgets": {},
     "nuid": "b153089e-ae85-414d-83c1-bb1f6c99c771",
     "showTitle": false,
     "tableResultSettingsMap": {},
     "title": ""
    }
   },
   "outputs": [
    {
     "output_type": "stream",
     "name": "stdout",
     "output_type": "stream",
     "text": [
      "+-------+---+------+\n|   Name|Age|Salary|\n+-------+---+------+\n| Rohish| 34|  5000|\n| Rajesh| 45|  4000|\n| Chetan| 23|  3000|\n|Chandra| 37|  7000|\n+-------+---+------+\n\n"
     ]
    }
   ],
   "source": [
    "# Create sample data\n",
    "data = [\n",
    "    (\"Rohish\", 34, 5000),\n",
    "    (\"Rajesh\", 45, 4000),\n",
    "    (\"Chetan\", 23, 3000),\n",
    "    (\"Chandra\", 37, 7000)\n",
    "]\n",
    "\n",
    "columns = [\"Name\", \"Age\", \"Salary\"]\n",
    "\n",
    "# Convert it into a DataFrame\n",
    "df = spark.createDataFrame(data, columns)\n",
    "df.show()"
   ]
  },
  {
   "cell_type": "code",
   "execution_count": 0,
   "metadata": {
    "application/vnd.databricks.v1+cell": {
     "cellMetadata": {
      "byteLimit": 2048000,
      "rowLimit": 10000
     },
     "inputWidgets": {},
     "nuid": "a94e724c-5829-4866-8c17-4952b43e316d",
     "showTitle": false,
     "tableResultSettingsMap": {},
     "title": ""
    }
   },
   "outputs": [],
   "source": [
    "# Write DataFrame to a CSV file\n",
    "df.coalesce(1).write.format(\"csv\") \\\n",
    "        .option(\"header\", \"true\") \\\n",
    "        .option(\"delimiter\", \"|\") \\\n",
    "        .mode(\"overwrite\") \\\n",
    "        .save(\"dbfs:/FileStore/shared_uploads/zaderohish5@gmail.com/q_14/frds_name/\")"
   ]
  },
  {
   "cell_type": "code",
   "execution_count": 0,
   "metadata": {
    "application/vnd.databricks.v1+cell": {
     "cellMetadata": {
      "byteLimit": 2048000,
      "rowLimit": 10000
     },
     "inputWidgets": {},
     "nuid": "4b70a36e-ec77-4867-bafb-872e410b4c04",
     "showTitle": false,
     "tableResultSettingsMap": {},
     "title": ""
    }
   },
   "outputs": [
    {
     "output_type": "display_data",
     "data": {
      "text/html": [
       "<style scoped>\n",
       "  .table-result-container {\n",
       "    max-height: 300px;\n",
       "    overflow: auto;\n",
       "  }\n",
       "  table, th, td {\n",
       "    border: 1px solid black;\n",
       "    border-collapse: collapse;\n",
       "  }\n",
       "  th, td {\n",
       "    padding: 5px;\n",
       "  }\n",
       "  th {\n",
       "    text-align: left;\n",
       "  }\n",
       "</style><div class='table-result-container'><table class='table-result'><thead style='background-color: white'><tr><th>path</th><th>name</th><th>size</th><th>modificationTime</th></tr></thead><tbody><tr><td>dbfs:/FileStore/shared_uploads/zaderohish5@gmail.com/q_14/frds_name/_SUCCESS</td><td>_SUCCESS</td><td>0</td><td>1743320789000</td></tr><tr><td>dbfs:/FileStore/shared_uploads/zaderohish5@gmail.com/q_14/frds_name/_committed_5241224727740733783</td><td>_committed_5241224727740733783</td><td>112</td><td>1743320789000</td></tr><tr><td>dbfs:/FileStore/shared_uploads/zaderohish5@gmail.com/q_14/frds_name/_started_5241224727740733783</td><td>_started_5241224727740733783</td><td>0</td><td>1743320788000</td></tr><tr><td>dbfs:/FileStore/shared_uploads/zaderohish5@gmail.com/q_14/frds_name/part-00000-tid-5241224727740733783-23ceab50-de56-48d8-8778-5ff4911ff53d-89-1-c000.csv</td><td>part-00000-tid-5241224727740733783-23ceab50-de56-48d8-8778-5ff4911ff53d-89-1-c000.csv</td><td>77</td><td>1743320789000</td></tr></tbody></table></div>"
      ]
     },
     "metadata": {
      "application/vnd.databricks.v1+output": {
       "addedWidgets": {},
       "aggData": [],
       "aggError": "",
       "aggOverflow": false,
       "aggSchema": [],
       "aggSeriesLimitReached": false,
       "aggType": "",
       "arguments": {},
       "columnCustomDisplayInfos": {},
       "data": [
        [
         "dbfs:/FileStore/shared_uploads/zaderohish5@gmail.com/q_14/frds_name/_SUCCESS",
         "_SUCCESS",
         0,
         1743320789000
        ],
        [
         "dbfs:/FileStore/shared_uploads/zaderohish5@gmail.com/q_14/frds_name/_committed_5241224727740733783",
         "_committed_5241224727740733783",
         112,
         1743320789000
        ],
        [
         "dbfs:/FileStore/shared_uploads/zaderohish5@gmail.com/q_14/frds_name/_started_5241224727740733783",
         "_started_5241224727740733783",
         0,
         1743320788000
        ],
        [
         "dbfs:/FileStore/shared_uploads/zaderohish5@gmail.com/q_14/frds_name/part-00000-tid-5241224727740733783-23ceab50-de56-48d8-8778-5ff4911ff53d-89-1-c000.csv",
         "part-00000-tid-5241224727740733783-23ceab50-de56-48d8-8778-5ff4911ff53d-89-1-c000.csv",
         77,
         1743320789000
        ]
       ],
       "datasetInfos": [],
       "dbfsResultPath": null,
       "isJsonSchema": true,
       "metadata": {
        "isDbfsCommandResult": false
       },
       "overflow": false,
       "plotOptions": {
        "customPlotOptions": {},
        "displayType": "table",
        "pivotAggregation": null,
        "pivotColumns": null,
        "xColumns": null,
        "yColumns": null
       },
       "removedWidgets": [],
       "schema": [
        {
         "metadata": "{}",
         "name": "path",
         "type": "\"string\""
        },
        {
         "metadata": "{}",
         "name": "name",
         "type": "\"string\""
        },
        {
         "metadata": "{}",
         "name": "size",
         "type": "\"long\""
        },
        {
         "metadata": "{}",
         "name": "modificationTime",
         "type": "\"long\""
        }
       ],
       "type": "table"
      }
     },
     "output_type": "display_data"
    }
   ],
   "source": [
    "%fs\n",
    "ls dbfs:/FileStore/shared_uploads/zaderohish5@gmail.com/q_14/frds_name/"
   ]
  },
  {
   "cell_type": "code",
   "execution_count": 0,
   "metadata": {
    "application/vnd.databricks.v1+cell": {
     "cellMetadata": {
      "byteLimit": 2048000,
      "rowLimit": 10000
     },
     "inputWidgets": {},
     "nuid": "6a67a7cd-a1f5-4e6d-bc8f-0a2008bdae9e",
     "showTitle": false,
     "tableResultSettingsMap": {},
     "title": ""
    }
   },
   "outputs": [
    {
     "output_type": "display_data",
     "data": {
      "text/html": [
       "<style scoped>\n",
       "  .ansiout {\n",
       "    display: block;\n",
       "    unicode-bidi: embed;\n",
       "    white-space: pre-wrap;\n",
       "    word-wrap: break-word;\n",
       "    word-break: break-all;\n",
       "    font-family: \"Menlo\", \"Monaco\", \"Consolas\", \"Ubuntu Mono\", \"Source Code Pro\", monospace;\n",
       "    font-size: 13px;\n",
       "    color: #555;\n",
       "    margin-left: 4px;\n",
       "    line-height: 19px;\n",
       "  }\n",
       "</style>\n",
       "<div class=\"ansiout\">Name|Age|Salary\n",
       "Rohish|34|5000\n",
       "Rajesh|45|4000\n",
       "Chetan|23|3000\n",
       "Chandra|37|7000\n",
       "</div>"
      ]
     },
     "metadata": {
      "application/vnd.databricks.v1+output": {
       "addedWidgets": {},
       "arguments": {},
       "data": "<div class=\"ansiout\">Name|Age|Salary\nRohish|34|5000\nRajesh|45|4000\nChetan|23|3000\nChandra|37|7000\n</div>",
       "datasetInfos": [],
       "metadata": {
        "isDbfsCommandResult": false
       },
       "removedWidgets": [],
       "type": "html"
      }
     },
     "output_type": "display_data"
    }
   ],
   "source": [
    "%fs\n",
    "head dbfs:/FileStore/shared_uploads/zaderohish5@gmail.com/q_14/frds_name/part-00000-tid-5241224727740733783-23ceab50-de56-48d8-8778-5ff4911ff53d-89-1-c000.csv"
   ]
  },
  {
   "cell_type": "code",
   "execution_count": 0,
   "metadata": {
    "application/vnd.databricks.v1+cell": {
     "cellMetadata": {
      "byteLimit": 2048000,
      "implicitDf": true,
      "rowLimit": 10000
     },
     "inputWidgets": {},
     "nuid": "af79114a-f3a8-4781-aa43-d440d57eb023",
     "showTitle": false,
     "tableResultSettingsMap": {},
     "title": ""
    }
   },
   "outputs": [
    {
     "output_type": "display_data",
     "data": {
      "text/html": [
       "<style scoped>\n",
       "  .table-result-container {\n",
       "    max-height: 300px;\n",
       "    overflow: auto;\n",
       "  }\n",
       "  table, th, td {\n",
       "    border: 1px solid black;\n",
       "    border-collapse: collapse;\n",
       "  }\n",
       "  th, td {\n",
       "    padding: 5px;\n",
       "  }\n",
       "  th {\n",
       "    text-align: left;\n",
       "  }\n",
       "</style><div class='table-result-container'><table class='table-result'><thead style='background-color: white'><tr><th>_c0</th></tr></thead><tbody><tr><td>Name|Age|Salary</td></tr><tr><td>Rohish|34|5000</td></tr><tr><td>Rajesh|45|4000</td></tr><tr><td>Chetan|23|3000</td></tr><tr><td>Chandra|37|7000</td></tr></tbody></table></div>"
      ]
     },
     "metadata": {
      "application/vnd.databricks.v1+output": {
       "addedWidgets": {},
       "aggData": [],
       "aggError": "",
       "aggOverflow": false,
       "aggSchema": [],
       "aggSeriesLimitReached": false,
       "aggType": "",
       "arguments": {},
       "columnCustomDisplayInfos": {},
       "data": [
        [
         "Name|Age|Salary"
        ],
        [
         "Rohish|34|5000"
        ],
        [
         "Rajesh|45|4000"
        ],
        [
         "Chetan|23|3000"
        ],
        [
         "Chandra|37|7000"
        ]
       ],
       "datasetInfos": [],
       "dbfsResultPath": null,
       "isJsonSchema": true,
       "metadata": {},
       "overflow": false,
       "plotOptions": {
        "customPlotOptions": {},
        "displayType": "table",
        "pivotAggregation": null,
        "pivotColumns": null,
        "xColumns": null,
        "yColumns": null
       },
       "removedWidgets": [],
       "schema": [
        {
         "metadata": "{}",
         "name": "_c0",
         "type": "\"string\""
        }
       ],
       "type": "table"
      }
     },
     "output_type": "display_data"
    }
   ],
   "source": [
    "%sql\n",
    "select * from csv.`dbfs:/FileStore/shared_uploads/zaderohish5@gmail.com/q_14/frds_name/`"
   ]
  }
 ],
 "metadata": {
  "application/vnd.databricks.v1+notebook": {
   "computePreferences": null,
   "dashboards": [],
   "environmentMetadata": {
    "base_environment": "",
    "environment_version": "1"
   },
   "inputWidgetPreferences": null,
   "language": "python",
   "notebookMetadata": {
    "mostRecentlyExecutedCommandWithImplicitDF": {
     "commandId": 4240388499431877,
     "dataframes": [
      "_sqldf"
     ]
    },
    "pythonIndentUnit": 4
   },
   "notebookName": "question_14_write_df_to_csv",
   "widgets": {}
  }
 },
 "nbformat": 4,
 "nbformat_minor": 0
}