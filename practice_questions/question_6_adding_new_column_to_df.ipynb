{
 "cells": [
  {
   "cell_type": "markdown",
   "metadata": {
    "application/vnd.databricks.v1+cell": {
     "cellMetadata": {},
     "inputWidgets": {},
     "nuid": "bae6710b-5f49-4ecf-b995-a656213af162",
     "showTitle": false,
     "tableResultSettingsMap": {},
     "title": ""
    }
   },
   "source": [
    "### Adding a New Column to a DataFrame"
   ]
  },
  {
   "cell_type": "markdown",
   "metadata": {
    "application/vnd.databricks.v1+cell": {
     "cellMetadata": {},
     "inputWidgets": {},
     "nuid": "833b94f2-0dd3-4cc6-9bcf-231d59d35272",
     "showTitle": false,
     "tableResultSettingsMap": {},
     "title": ""
    }
   },
   "source": [
    "Write code to add a new column, `Country`, to the DataFrame using different methods in PySpark. \n",
    "\n",
    "The Country column values should be based on the following mapping:\n",
    "- New York: USA\n",
    "- London: UK\n",
    "- Sydney: Australia\n"
   ]
  },
  {
   "cell_type": "code",
   "execution_count": 0,
   "metadata": {
    "application/vnd.databricks.v1+cell": {
     "cellMetadata": {
      "byteLimit": 2048000,
      "rowLimit": 10000
     },
     "inputWidgets": {},
     "nuid": "01efc0b1-ea02-4149-b703-bdb410d0679d",
     "showTitle": false,
     "tableResultSettingsMap": {},
     "title": ""
    }
   },
   "outputs": [
    {
     "output_type": "stream",
     "name": "stdout",
     "output_type": "stream",
     "text": [
      "+-------+---+--------+\n|   Name|Age|    City|\n+-------+---+--------+\n|   John| 28|New York|\n|  Sarah| 24|  London|\n|Michael| 30|  Sydney|\n+-------+---+--------+\n\n"
     ]
    }
   ],
   "source": [
    "# Sample data\n",
    "from pyspark.sql import SparkSession\n",
    "\n",
    "# initilize spark session\n",
    "spark = SparkSession.builder.appName(\"DataFrame Example\").getOrCreate()\n",
    "\n",
    "# Sample data\n",
    "data = [(\"John\", 28, \"New York\"), (\"Sarah\", 24, \"London\"), (\"Michael\", 30, \"Sydney\")]\n",
    "columns = [\"Name\", \"Age\", \"City\"]\n",
    "\n",
    "# Create DataFrame\n",
    "df = spark.createDataFrame(data, columns)\n",
    "\n",
    "df.show()"
   ]
  },
  {
   "cell_type": "markdown",
   "metadata": {
    "application/vnd.databricks.v1+cell": {
     "cellMetadata": {},
     "inputWidgets": {},
     "nuid": "62fb088e-2a6e-4957-9985-5eed0eea8022",
     "showTitle": false,
     "tableResultSettingsMap": {},
     "title": ""
    }
   },
   "source": [
    "%md\n",
    "**Using `withColumn(`) and `lit`:** Adding a contant value "
   ]
  },
  {
   "cell_type": "code",
   "execution_count": 0,
   "metadata": {
    "application/vnd.databricks.v1+cell": {
     "cellMetadata": {
      "byteLimit": 2048000,
      "rowLimit": 10000
     },
     "inputWidgets": {},
     "nuid": "dd4154b7-9dca-4da0-bb82-82bede122aa3",
     "showTitle": false,
     "tableResultSettingsMap": {},
     "title": ""
    }
   },
   "outputs": [
    {
     "output_type": "stream",
     "name": "stdout",
     "output_type": "stream",
     "text": [
      "+-------+---+--------+-------+\n|   Name|Age|    City|Country|\n+-------+---+--------+-------+\n|   John| 28|New York|Unknown|\n|  Sarah| 24|  London|Unknown|\n|Michael| 30|  Sydney|Unknown|\n+-------+---+--------+-------+\n\n"
     ]
    }
   ],
   "source": [
    "country_df = df.withColumn(\"Country\", lit(\"Unknown\"))\n",
    "country_df.show()"
   ]
  },
  {
   "cell_type": "markdown",
   "metadata": {
    "application/vnd.databricks.v1+cell": {
     "cellMetadata": {},
     "inputWidgets": {},
     "nuid": "6efa9828-5824-4c2a-8bf4-a46886a68e97",
     "showTitle": false,
     "tableResultSettingsMap": {},
     "title": ""
    }
   },
   "source": [
    "**Using `Dictionary` and `replace()`**"
   ]
  },
  {
   "cell_type": "code",
   "execution_count": 0,
   "metadata": {
    "application/vnd.databricks.v1+cell": {
     "cellMetadata": {
      "byteLimit": 2048000,
      "rowLimit": 10000
     },
     "inputWidgets": {},
     "nuid": "a3894939-105c-4989-a9d0-6de0b70c6f1b",
     "showTitle": false,
     "tableResultSettingsMap": {},
     "title": ""
    }
   },
   "outputs": [
    {
     "output_type": "stream",
     "name": "stdout",
     "output_type": "stream",
     "text": [
      "+-------+---+---------+\n|   Name|Age|  Country|\n+-------+---+---------+\n|   John| 28|      USA|\n|  Sarah| 24|       UK|\n|Michael| 30|Australia|\n+-------+---+---------+\n\n"
     ]
    }
   ],
   "source": [
    "from pyspark.sql.functions import col\n",
    "\n",
    "# Define the mapping dictionary\n",
    "city_to_country = {\n",
    "    \"New York\": \"USA\",\n",
    "    \"London\": \"UK\",\n",
    "    \"Sydney\": \"Australia\"\n",
    "}\n",
    "\n",
    "df_with_country = df.replace(city_to_country, subset=[\"City\"]).withColumnRenamed(\"City\", \"Country\")\n",
    "df_with_country.show()"
   ]
  },
  {
   "cell_type": "markdown",
   "metadata": {
    "application/vnd.databricks.v1+cell": {
     "cellMetadata": {},
     "inputWidgets": {},
     "nuid": "cccd4ac6-cf95-444f-824f-8f0f98c8ac99",
     "showTitle": false,
     "tableResultSettingsMap": {},
     "title": ""
    }
   },
   "source": []
  },
  {
   "cell_type": "markdown",
   "metadata": {
    "application/vnd.databricks.v1+cell": {
     "cellMetadata": {},
     "inputWidgets": {},
     "nuid": "1be2a54a-54dc-401c-a339-43284c2e95a9",
     "showTitle": false,
     "tableResultSettingsMap": {},
     "title": ""
    }
   },
   "source": [
    "**Using `selectExpr()`**"
   ]
  },
  {
   "cell_type": "code",
   "execution_count": 0,
   "metadata": {
    "application/vnd.databricks.v1+cell": {
     "cellMetadata": {
      "byteLimit": 2048000,
      "rowLimit": 10000
     },
     "inputWidgets": {},
     "nuid": "3c161021-df97-472b-afc8-00def211edd3",
     "showTitle": false,
     "tableResultSettingsMap": {},
     "title": ""
    }
   },
   "outputs": [
    {
     "output_type": "stream",
     "name": "stdout",
     "output_type": "stream",
     "text": [
      "+-------+---+--------+-------+\n|   Name|Age|    City| Contry|\n+-------+---+--------+-------+\n|   John| 28|New York|Unknown|\n|  Sarah| 24|  London|Unknown|\n|Michael| 30|  Sydney|Unknown|\n+-------+---+--------+-------+\n\n"
     ]
    }
   ],
   "source": [
    "country_df_2 = df.selectExpr(\"*\", \"'Unknown' as Contry\")\n",
    "country_df_2.show()"
   ]
  },
  {
   "cell_type": "markdown",
   "metadata": {
    "application/vnd.databricks.v1+cell": {
     "cellMetadata": {},
     "inputWidgets": {},
     "nuid": "0af9e9fe-e375-49f6-9655-1a85a5e21b08",
     "showTitle": false,
     "tableResultSettingsMap": {},
     "title": ""
    }
   },
   "source": []
  },
  {
   "cell_type": "markdown",
   "metadata": {
    "application/vnd.databricks.v1+cell": {
     "cellMetadata": {},
     "inputWidgets": {},
     "nuid": "f4b58db8-0f86-496b-b4ba-3c1f6245ab4d",
     "showTitle": false,
     "tableResultSettingsMap": {},
     "title": ""
    }
   },
   "source": [
    "%md\n",
    "**Using `select`**"
   ]
  },
  {
   "cell_type": "code",
   "execution_count": 0,
   "metadata": {
    "application/vnd.databricks.v1+cell": {
     "cellMetadata": {
      "byteLimit": 2048000,
      "rowLimit": 10000
     },
     "inputWidgets": {},
     "nuid": "017fd2ef-6a09-4f62-b19a-ba86ded7359e",
     "showTitle": false,
     "tableResultSettingsMap": {},
     "title": ""
    }
   },
   "outputs": [
    {
     "output_type": "stream",
     "name": "stdout",
     "output_type": "stream",
     "text": [
      "+-------+---+--------+-------+\n|   Name|Age|    City|Country|\n+-------+---+--------+-------+\n|   John| 28|New York|Unknown|\n|  Sarah| 24|  London|Unknown|\n|Michael| 30|  Sydney|Unknown|\n+-------+---+--------+-------+\n\n"
     ]
    }
   ],
   "source": [
    "country_df_3 = df.select(\"*\", lit(\"Unknown\").alias(\"Country\"))\n",
    "country_df_3.show()"
   ]
  },
  {
   "cell_type": "markdown",
   "metadata": {
    "application/vnd.databricks.v1+cell": {
     "cellMetadata": {},
     "inputWidgets": {},
     "nuid": "bf8f1998-eb9a-4ad2-96a1-5c142a60c555",
     "showTitle": false,
     "tableResultSettingsMap": {},
     "title": ""
    }
   },
   "source": []
  },
  {
   "cell_type": "markdown",
   "metadata": {
    "application/vnd.databricks.v1+cell": {
     "cellMetadata": {},
     "inputWidgets": {},
     "nuid": "17a07870-4bee-44fc-b5bb-524672c44333",
     "showTitle": false,
     "tableResultSettingsMap": {},
     "title": ""
    }
   },
   "source": [
    "**Adding a new column using `withColumn(`) with `when()` and `otherwise()` to check the conditions** "
   ]
  },
  {
   "cell_type": "code",
   "execution_count": 0,
   "metadata": {
    "application/vnd.databricks.v1+cell": {
     "cellMetadata": {
      "byteLimit": 2048000,
      "rowLimit": 10000
     },
     "inputWidgets": {},
     "nuid": "0b7669fa-13c7-4ee6-bd4f-b1d57a0d655e",
     "showTitle": false,
     "tableResultSettingsMap": {},
     "title": ""
    }
   },
   "outputs": [
    {
     "output_type": "stream",
     "name": "stdout",
     "output_type": "stream",
     "text": [
      "+-------+---+--------+---------+\n|   Name|Age|    City|  Country|\n+-------+---+--------+---------+\n|   John| 28|New York|      USA|\n|  Sarah| 24|  London|       UK|\n|Michael| 30|  Sydney|Australia|\n+-------+---+--------+---------+\n\n"
     ]
    }
   ],
   "source": [
    "from pyspark.sql.functions import col, lit, when\n",
    "\n",
    "country_df_4 = df.withColumn(\"Country\", when(col(\"City\")=='New York', \"USA\") \\\n",
    "                                    .when(col(\"City\")=='London', \"UK\") \\\n",
    "                                    .when(col(\"City\")=='Sydney', \"Australia\") \\\n",
    "                                    .otherwise(\"Unknown\"))\n",
    "\n",
    "country_df_4.show()"
   ]
  }
 ],
 "metadata": {
  "application/vnd.databricks.v1+notebook": {
   "computePreferences": null,
   "dashboards": [],
   "environmentMetadata": {
    "base_environment": "",
    "client": "1"
   },
   "language": "python",
   "notebookMetadata": {
    "pythonIndentUnit": 4
   },
   "notebookName": "question_6_adding_new_column_to_df",
   "widgets": {}
  }
 },
 "nbformat": 4,
 "nbformat_minor": 0
}
