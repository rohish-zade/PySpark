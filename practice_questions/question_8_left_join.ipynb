{
 "cells": [
  {
   "cell_type": "markdown",
   "metadata": {
    "application/vnd.databricks.v1+cell": {
     "cellMetadata": {},
     "inputWidgets": {},
     "nuid": "bb44bc58-8ac4-46e9-b7c8-9d1c16ace865",
     "showTitle": false,
     "tableResultSettingsMap": {},
     "title": ""
    }
   },
   "source": [
    "### Left join in PySpark"
   ]
  },
  {
   "cell_type": "markdown",
   "metadata": {
    "application/vnd.databricks.v1+cell": {
     "cellMetadata": {},
     "inputWidgets": {},
     "nuid": "ff6972a0-10e0-4b7c-b449-c73ff93ab980",
     "showTitle": false,
     "tableResultSettingsMap": {},
     "title": ""
    }
   },
   "source": [
    "You are given two DataFrames: \n",
    "- employees: Contains employee details with the columns emp_id, name, and dept_id.\n",
    "- departments: Contains department details with the columns dept_id and dept_name.\n",
    "\n",
    "You need to perform a left join on employees with departments to get all employee details, including the department name. If an employee doesn't have a department, their department name should be null.\n"
   ]
  },
  {
   "cell_type": "markdown",
   "metadata": {
    "application/vnd.databricks.v1+cell": {
     "cellMetadata": {},
     "inputWidgets": {},
     "nuid": "90eab0e6-4712-41ad-bfc6-4f39ad55dd71",
     "showTitle": false,
     "tableResultSettingsMap": {},
     "title": ""
    }
   },
   "source": [
    "**employe_df**"
   ]
  },
  {
   "cell_type": "code",
   "execution_count": 0,
   "metadata": {
    "application/vnd.databricks.v1+cell": {
     "cellMetadata": {
      "byteLimit": 2048000,
      "rowLimit": 10000
     },
     "inputWidgets": {},
     "nuid": "77782c02-2423-4bba-8421-6d48330ca749",
     "showTitle": false,
     "tableResultSettingsMap": {},
     "title": ""
    }
   },
   "outputs": [
    {
     "output_type": "stream",
     "name": "stdout",
     "output_type": "stream",
     "text": [
      "+------+-------+-------+\n|emp_id|   name|dept_id|\n+------+-------+-------+\n|     1|  Alice|     10|\n|     2|    Bob|     20|\n|     3|Charlie|   null|\n|     4|  David|     30|\n|     5| Edward|     40|\n+------+-------+-------+\n\n"
     ]
    }
   ],
   "source": [
    "# employe_df\n",
    "employee_data = [\n",
    "    (1, \"Alice\", 10),\n",
    "    (2, \"Bob\", 20),\n",
    "    (3, \"Charlie\", None),\n",
    "    (4, \"David\", 30),\n",
    "    (5, \"Edward\", 40)\n",
    "]\n",
    "\n",
    "employee_schema = \"emp_id int, name string, dept_id int\"\n",
    "\n",
    "employee_df = spark.createDataFrame(employee_data, employee_schema)\n",
    "employee_df.show()"
   ]
  },
  {
   "cell_type": "markdown",
   "metadata": {
    "application/vnd.databricks.v1+cell": {
     "cellMetadata": {},
     "inputWidgets": {},
     "nuid": "d5832282-bc62-45e3-901a-be8f1b929a55",
     "showTitle": false,
     "tableResultSettingsMap": {},
     "title": ""
    }
   },
   "source": [
    "**department_df**"
   ]
  },
  {
   "cell_type": "code",
   "execution_count": 0,
   "metadata": {
    "application/vnd.databricks.v1+cell": {
     "cellMetadata": {
      "byteLimit": 2048000,
      "rowLimit": 10000
     },
     "inputWidgets": {},
     "nuid": "b4a156c1-3acb-4a6e-8590-90ec4f95eef8",
     "showTitle": false,
     "tableResultSettingsMap": {},
     "title": ""
    }
   },
   "outputs": [
    {
     "output_type": "stream",
     "name": "stdout",
     "output_type": "stream",
     "text": [
      "+-------+---------+\n|dept_id|dept_name|\n+-------+---------+\n|     10|       HR|\n|     20|  Finance|\n|     30|Marketing|\n+-------+---------+\n\n"
     ]
    }
   ],
   "source": [
    "# department_df\n",
    "department_data = [\n",
    "    (10, \"HR\"),\n",
    "    (20, \"Finance\"),\n",
    "    (30, \"Marketing\")\n",
    "]\n",
    "\n",
    "department_schema = \"dept_id int, dept_name string\"\n",
    "\n",
    "department_df = spark.createDataFrame(department_data, department_schema)\n",
    "department_df.show()"
   ]
  },
  {
   "cell_type": "markdown",
   "metadata": {
    "application/vnd.databricks.v1+cell": {
     "cellMetadata": {},
     "inputWidgets": {},
     "nuid": "a594f275-5eca-40a1-82d4-c1f2efd8489f",
     "showTitle": false,
     "tableResultSettingsMap": {},
     "title": ""
    }
   },
   "source": [
    "**Output:**\n",
    "\n",
    "| emp_id | name      | dept_id | dept_name |\n",
    "|--------|-----------|---------|-----------|\n",
    "| 1      | Alice     | 10      | HR        |\n",
    "| 2      | Bob       | 20      | Finance   |\n",
    "| 3      | Charlie   | null    | null      |\n",
    "| 4      | David     | 30      | Marketing |\n",
    "| 5      | Edward    | 40      | null      |"
   ]
  },
  {
   "cell_type": "markdown",
   "metadata": {
    "application/vnd.databricks.v1+cell": {
     "cellMetadata": {},
     "inputWidgets": {},
     "nuid": "afbe291e-570d-4eef-b424-146277ee4231",
     "showTitle": false,
     "tableResultSettingsMap": {},
     "title": ""
    }
   },
   "source": [
    "**PySpark code to perform left join:**"
   ]
  },
  {
   "cell_type": "code",
   "execution_count": 0,
   "metadata": {
    "application/vnd.databricks.v1+cell": {
     "cellMetadata": {
      "byteLimit": 2048000,
      "rowLimit": 10000
     },
     "inputWidgets": {},
     "nuid": "b02788f1-b5f4-43e1-b519-8202f97514ba",
     "showTitle": false,
     "tableResultSettingsMap": {},
     "title": ""
    }
   },
   "outputs": [
    {
     "output_type": "stream",
     "name": "stdout",
     "output_type": "stream",
     "text": [
      "+------+-------+-------+---------+\n|emp_id|   name|dept_id|dept_name|\n+------+-------+-------+---------+\n|     1|  Alice|     10|       HR|\n|     2|    Bob|     20|  Finance|\n|     3|Charlie|   null|     null|\n|     4|  David|     30|Marketing|\n|     5| Edward|     40|     null|\n+------+-------+-------+---------+\n\n"
     ]
    }
   ],
   "source": [
    "# joining employee_df and department__df on dept_id\n",
    "joined_df = employee_df.join(department_df, employee_df.dept_id==department_df.dept_id, \"left\")\n",
    "\n",
    "# selecting only required columns\n",
    "final_df = joined_df.select(\n",
    "    employee_df[\"emp_id\"],employee_df[\"name\"],employee_df[\"dept_id\"],department_df[\"dept_name\"]\n",
    ")\n",
    "\n",
    "# showing final output\n",
    "final_df.show()"
   ]
  }
 ],
 "metadata": {
  "application/vnd.databricks.v1+notebook": {
   "computePreferences": null,
   "dashboards": [],
   "environmentMetadata": {
    "base_environment": "",
    "client": "1"
   },
   "language": "python",
   "notebookMetadata": {
    "pythonIndentUnit": 4
   },
   "notebookName": "question_8_left_join",
   "widgets": {}
  }
 },
 "nbformat": 4,
 "nbformat_minor": 0
}
