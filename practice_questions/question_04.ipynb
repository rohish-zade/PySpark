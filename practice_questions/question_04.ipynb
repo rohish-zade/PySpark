{
 "cells": [
  {
   "cell_type": "markdown",
   "metadata": {
    "application/vnd.databricks.v1+cell": {
     "cellMetadata": {},
     "inputWidgets": {},
     "nuid": "14ff5295-9256-4e54-bccc-44bba8dc2e28",
     "showTitle": false,
     "tableResultSettingsMap": {},
     "title": ""
    }
   },
   "source": [
    "#### Given a DataFrame df with columns id, name, and salary, write a PySpark code to filter rows where salary is greater than 5000 and select only the name column."
   ]
  },
  {
   "cell_type": "code",
   "execution_count": 0,
   "metadata": {
    "application/vnd.databricks.v1+cell": {
     "cellMetadata": {
      "byteLimit": 2048000,
      "rowLimit": 10000
     },
     "inputWidgets": {},
     "nuid": "1df3aa25-9089-4ec3-a171-132cb9d2672f",
     "showTitle": false,
     "tableResultSettingsMap": {},
     "title": ""
    }
   },
   "outputs": [
    {
     "name": "stdout",
     "output_type": "stream",
     "text": [
      "+---+------+------+\n",
      "| id|  name|salary|\n",
      "+---+------+------+\n",
      "|  1|Rohish|  4000|\n",
      "|  2|Hemant|  6000|\n",
      "|  3|  Ajit|  5500|\n",
      "|  4| Suraj|  4500|\n",
      "|  5|Nikhil|  7000|\n",
      "+---+------+------+\n",
      "\n"
     ]
    }
   ],
   "source": [
    "# sample data\n",
    "data = [\n",
    "    (1, \"Rohish\", 4000),\n",
    "    (2, \"Hemant\", 6000),\n",
    "    (3, \"Ajit\", 5500),\n",
    "    (4, \"Suraj\", 4500),\n",
    "    (5, \"Nikhil\", 7000)\n",
    "]\n",
    "\n",
    "columns = \"id int, name string, salary long\"\n",
    "\n",
    "# creating a dataframe\n",
    "df = spark.createDataFrame(data, columns)\n",
    "df.show()"
   ]
  },
  {
   "cell_type": "code",
   "execution_count": 0,
   "metadata": {
    "application/vnd.databricks.v1+cell": {
     "cellMetadata": {
      "byteLimit": 2048000,
      "rowLimit": 10000
     },
     "inputWidgets": {},
     "nuid": "f39cc3f0-709e-4fa3-9022-1799bd796eac",
     "showTitle": false,
     "tableResultSettingsMap": {},
     "title": ""
    }
   },
   "outputs": [
    {
     "name": "stdout",
     "output_type": "stream",
     "text": [
      "+------+\n",
      "|  name|\n",
      "+------+\n",
      "|Hemant|\n",
      "|  Ajit|\n",
      "|Nikhil|\n",
      "+------+\n",
      "\n"
     ]
    }
   ],
   "source": [
    "from pyspark.sql.functions import col\n",
    "\n",
    "# filter rows who's salary is greater than 5000\n",
    "filter_df = df.filter(col(\"salary\") > 5000).select(\"name\")\n",
    "\n",
    "# show the result\n",
    "filter_df.show()"
   ]
  }
 ],
 "metadata": {
  "application/vnd.databricks.v1+notebook": {
   "computePreferences": null,
   "dashboards": [],
   "environmentMetadata": {
    "base_environment": "",
    "client": "1"
   },
   "language": "python",
   "notebookMetadata": {
    "pythonIndentUnit": 4
   },
   "notebookName": "question_4",
   "widgets": {}
  },
  "language_info": {
   "name": "python"
  }
 },
 "nbformat": 4,
 "nbformat_minor": 0
}
