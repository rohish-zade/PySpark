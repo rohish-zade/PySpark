{
 "cells": [
  {
   "cell_type": "markdown",
   "metadata": {
    "application/vnd.databricks.v1+cell": {
     "cellMetadata": {},
     "inputWidgets": {},
     "nuid": "fa14378e-773c-48d1-ad3c-3639722dc440",
     "showTitle": false,
     "tableResultSettingsMap": {},
     "title": ""
    }
   },
   "source": [
    "### Filter customers whose names start with 'A' and display their details"
   ]
  },
  {
   "cell_type": "markdown",
   "metadata": {
    "application/vnd.databricks.v1+cell": {
     "cellMetadata": {},
     "inputWidgets": {},
     "nuid": "6c623152-031b-4092-b7bd-264a7e3bcc1d",
     "showTitle": false,
     "tableResultSettingsMap": {},
     "title": ""
    }
   },
   "source": [
    "In PySpark, the `startswith() `function is used to filter rows where a column's string value starts with a specified prefix.\n",
    "This function is applied on columns and works well for string comparisons."
   ]
  },
  {
   "cell_type": "code",
   "execution_count": 0,
   "metadata": {
    "application/vnd.databricks.v1+cell": {
     "cellMetadata": {
      "byteLimit": 2048000,
      "rowLimit": 10000
     },
     "inputWidgets": {},
     "nuid": "90bbb523-04e8-48ba-9bb5-f7d9bd6480c1",
     "showTitle": false,
     "tableResultSettingsMap": {},
     "title": ""
    }
   },
   "outputs": [
    {
     "output_type": "stream",
     "name": "stdout",
     "output_type": "stream",
     "text": [
      "+----------+-------------+----------+------+\n|EmployeeID|         Name|Department|Salary|\n+----------+-------------+----------+------+\n|         1|       Rohish|        HR|  5000|\n|         2|         Smit|        HR|  6000|\n|         3|       Faisal|        IT|  7000|\n|         4|      Pushpak|        IT|  9000|\n|         5|      Rishabh|        HR|  5500|\n|         6|        Vinit|        IT|  8000|\n|         7|DemonSlayer69|        IT| 90000|\n|         8|         Ajit|   Finance| 15000|\n+----------+-------------+----------+------+\n\n"
     ]
    }
   ],
   "source": [
    "# sample data\n",
    "data = [\n",
    "    (1, 'Rohish', 'HR', 5000),\n",
    "    (2, 'Smit', 'HR', 6000),\n",
    "    (3, 'Faisal', 'IT', 7000),\n",
    "    (4, 'Pushpak', 'IT', 9000),\n",
    "    (5, 'Rishabh', 'HR', 5500),\n",
    "    (6, 'Vinit', 'IT', 8000),\n",
    "    (7, 'DemonSlayer69', 'IT', 90000),\n",
    "    (8, 'Ajit', 'Finance', 15000)\n",
    "]\n",
    "\n",
    "columns = [\"EmployeeID\", \"Name\", \"Department\", \"Salary\"]\n",
    "\n",
    "df = spark.createDataFrame(data, columns)\n",
    "df.show()"
   ]
  },
  {
   "cell_type": "code",
   "execution_count": 0,
   "metadata": {
    "application/vnd.databricks.v1+cell": {
     "cellMetadata": {
      "byteLimit": 2048000,
      "rowLimit": 10000
     },
     "inputWidgets": {},
     "nuid": "4da8a0a7-d5a8-4577-8554-132db83f85d0",
     "showTitle": false,
     "tableResultSettingsMap": {},
     "title": ""
    }
   },
   "outputs": [
    {
     "output_type": "stream",
     "name": "stdout",
     "output_type": "stream",
     "text": [
      "+----------+----+----------+------+\n|EmployeeID|Name|Department|Salary|\n+----------+----+----------+------+\n|         8|Ajit|   Finance| 15000|\n+----------+----+----------+------+\n\n"
     ]
    }
   ],
   "source": [
    "# Filter customers whose names start with 'A'\n",
    "from pyspark.sql.functions import col\n",
    "\n",
    "filtered_df = df.filter(col(\"Name\").startswith(\"A\"))\n",
    "filtered_df.show()"
   ]
  },
  {
   "cell_type": "markdown",
   "metadata": {
    "application/vnd.databricks.v1+cell": {
     "cellMetadata": {},
     "inputWidgets": {},
     "nuid": "deee1b5c-adf6-47ae-bcf4-31d67836918b",
     "showTitle": false,
     "tableResultSettingsMap": {},
     "title": ""
    }
   },
   "source": [
    "startswith() is a powerful function to filter data based on string patterns in PySpark.\n",
    "\n",
    "You can use it for quick filtering based on the first few characters of a string."
   ]
  }
 ],
 "metadata": {
  "application/vnd.databricks.v1+notebook": {
   "computePreferences": null,
   "dashboards": [],
   "environmentMetadata": {
    "base_environment": "",
    "environment_version": "1"
   },
   "inputWidgetPreferences": null,
   "language": "python",
   "notebookMetadata": {
    "pythonIndentUnit": 4
   },
   "notebookName": "question_21_startswith",
   "widgets": {}
  }
 },
 "nbformat": 4,
 "nbformat_minor": 0
}