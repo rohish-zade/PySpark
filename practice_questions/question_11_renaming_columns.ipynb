{
 "cells": [
  {
   "cell_type": "markdown",
   "metadata": {
    "application/vnd.databricks.v1+cell": {
     "cellMetadata": {},
     "inputWidgets": {},
     "nuid": "f5d90430-6fdd-4912-b85f-95e7cd52ba22",
     "showTitle": false,
     "tableResultSettingsMap": {},
     "title": ""
    }
   },
   "source": [
    "### Renaming a column in a dataframe"
   ]
  },
  {
   "cell_type": "markdown",
   "metadata": {
    "application/vnd.databricks.v1+cell": {
     "cellMetadata": {},
     "inputWidgets": {},
     "nuid": "a848edc9-2df3-48ea-b4e3-d5d20307ec88",
     "showTitle": false,
     "tableResultSettingsMap": {},
     "title": ""
    }
   },
   "source": [
    "In PySpark, there are multiple ways to rename columns in a DataFrame. Below are a few methods to achieve this, each explained with sample data and code"
   ]
  },
  {
   "cell_type": "code",
   "execution_count": 0,
   "metadata": {
    "application/vnd.databricks.v1+cell": {
     "cellMetadata": {
      "byteLimit": 2048000,
      "rowLimit": 10000
     },
     "inputWidgets": {},
     "nuid": "979db48a-49d2-4fc0-8edc-c456dd7d5065",
     "showTitle": false,
     "tableResultSettingsMap": {},
     "title": ""
    }
   },
   "outputs": [
    {
     "output_type": "stream",
     "name": "stdout",
     "output_type": "stream",
     "text": [
      "+---+-------+---+\n| id|   name|age|\n+---+-------+---+\n|  1|  Alice| 30|\n|  2|    Bob| 25|\n|  3|Charlie| 35|\n+---+-------+---+\n\n"
     ]
    }
   ],
   "source": [
    "# sample data\n",
    "data = [\n",
    "    (1, \"Alice\", 30),\n",
    "    (2, \"Bob\", 25),\n",
    "    (3, \"Charlie\", 35)\n",
    "]\n",
    "\n",
    "columns = [\"id\", \"name\", \"age\"]\n",
    "\n",
    "df = spark.createDataFrame(data, columns)\n",
    "df.show()"
   ]
  },
  {
   "cell_type": "markdown",
   "metadata": {
    "application/vnd.databricks.v1+cell": {
     "cellMetadata": {},
     "inputWidgets": {},
     "nuid": "e7e26936-09cf-429a-ba59-9440c5532136",
     "showTitle": false,
     "tableResultSettingsMap": {},
     "title": ""
    }
   },
   "source": []
  },
  {
   "cell_type": "markdown",
   "metadata": {
    "application/vnd.databricks.v1+cell": {
     "cellMetadata": {},
     "inputWidgets": {},
     "nuid": "3e3bc161-5509-4e12-876a-aa87ad0853dd",
     "showTitle": false,
     "tableResultSettingsMap": {},
     "title": ""
    }
   },
   "source": [
    "**Method 1: using withColumnRenamed():**\n",
    "\n",
    "used to rename one or more columns in a DataFrame. It returns a new DataFrame with the specified column(s) renamed while keeping all other columns unchanged.\n",
    "\n",
    "df.withColumnRenamed(existing_name, new_name)"
   ]
  },
  {
   "cell_type": "code",
   "execution_count": 0,
   "metadata": {
    "application/vnd.databricks.v1+cell": {
     "cellMetadata": {
      "byteLimit": 2048000,
      "rowLimit": 10000
     },
     "inputWidgets": {},
     "nuid": "76af0d1a-af91-4803-9ff8-eb200bc62fb8",
     "showTitle": false,
     "tableResultSettingsMap": {},
     "title": ""
    }
   },
   "outputs": [
    {
     "output_type": "stream",
     "name": "stdout",
     "output_type": "stream",
     "text": [
      "+---+----------+---+\n| id|first_name|age|\n+---+----------+---+\n|  1|     Alice| 30|\n|  2|       Bob| 25|\n|  3|   Charlie| 35|\n+---+----------+---+\n\n"
     ]
    }
   ],
   "source": [
    "# Rename a single column:\n",
    "df1 = df.withColumnRenamed(\"name\", \"first_name\")\n",
    "df1.show()"
   ]
  },
  {
   "cell_type": "code",
   "execution_count": 0,
   "metadata": {
    "application/vnd.databricks.v1+cell": {
     "cellMetadata": {
      "byteLimit": 2048000,
      "rowLimit": 10000
     },
     "inputWidgets": {},
     "nuid": "ca9592a7-6e02-41af-bd10-4df258a3fec0",
     "showTitle": false,
     "tableResultSettingsMap": {},
     "title": ""
    }
   },
   "outputs": [
    {
     "output_type": "stream",
     "name": "stdout",
     "output_type": "stream",
     "text": [
      "+------+----------+---+\n|emp_id|first_name|age|\n+------+----------+---+\n|     1|     Alice| 30|\n|     2|       Bob| 25|\n|     3|   Charlie| 35|\n+------+----------+---+\n\n"
     ]
    }
   ],
   "source": [
    "# Rename multiple columns (chaining):\n",
    "df2 = df.withColumnRenamed(\"name\", \"first_name\") \\\n",
    "        .withColumnRenamed(\"id\", \"emp_id\")\n",
    "df2.show()"
   ]
  },
  {
   "cell_type": "markdown",
   "metadata": {
    "application/vnd.databricks.v1+cell": {
     "cellMetadata": {},
     "inputWidgets": {},
     "nuid": "33685316-13ea-44ef-84e2-e017172974d2",
     "showTitle": false,
     "tableResultSettingsMap": {},
     "title": ""
    }
   },
   "source": []
  },
  {
   "cell_type": "markdown",
   "metadata": {
    "application/vnd.databricks.v1+cell": {
     "cellMetadata": {},
     "inputWidgets": {},
     "nuid": "e8397858-531a-4b16-a5bd-f353b5a53804",
     "showTitle": false,
     "tableResultSettingsMap": {},
     "title": ""
    }
   },
   "source": [
    "**Method 2: Using selectExpr():**\n",
    "\n",
    "You can rename columns by using selectExpr(), where the column renaming is expressed as SQL-like aliases."
   ]
  },
  {
   "cell_type": "code",
   "execution_count": 0,
   "metadata": {
    "application/vnd.databricks.v1+cell": {
     "cellMetadata": {
      "byteLimit": 2048000,
      "rowLimit": 10000
     },
     "inputWidgets": {},
     "nuid": "63455f11-be12-4f7e-abdb-568a47928700",
     "showTitle": false,
     "tableResultSettingsMap": {},
     "title": ""
    }
   },
   "outputs": [
    {
     "output_type": "stream",
     "name": "stdout",
     "output_type": "stream",
     "text": [
      "+---+---------+-----+\n| id|full_name|years|\n+---+---------+-----+\n|  1|    Alice|   30|\n|  2|      Bob|   25|\n|  3|  Charlie|   35|\n+---+---------+-----+\n\n"
     ]
    }
   ],
   "source": [
    "# renaming columns using selectExpr()\n",
    "df3 = df.selectExpr(\"id\", \"name as full_name\", \"age as years\")\n",
    "df3.show()"
   ]
  },
  {
   "cell_type": "markdown",
   "metadata": {
    "application/vnd.databricks.v1+cell": {
     "cellMetadata": {},
     "inputWidgets": {},
     "nuid": "401fb13a-a1b7-4d05-8940-510dbb8e00cc",
     "showTitle": false,
     "tableResultSettingsMap": {},
     "title": ""
    }
   },
   "source": []
  },
  {
   "cell_type": "markdown",
   "metadata": {
    "application/vnd.databricks.v1+cell": {
     "cellMetadata": {},
     "inputWidgets": {},
     "nuid": "6f5c7cbc-30e4-46a3-bbc6-4976a6e2b693",
     "showTitle": false,
     "tableResultSettingsMap": {},
     "title": ""
    }
   },
   "source": [
    "**Method 3: Using toDF()**\n",
    "\n",
    "You can also rename all the columns in a Dataframe by passing a new list of column names to the toDF() function."
   ]
  },
  {
   "cell_type": "code",
   "execution_count": 0,
   "metadata": {
    "application/vnd.databricks.v1+cell": {
     "cellMetadata": {
      "byteLimit": 2048000,
      "rowLimit": 10000
     },
     "inputWidgets": {},
     "nuid": "f8c0d865-4397-43c5-bb87-ea956cc992f7",
     "showTitle": false,
     "tableResultSettingsMap": {},
     "title": ""
    }
   },
   "outputs": [
    {
     "output_type": "stream",
     "name": "stdout",
     "output_type": "stream",
     "text": [
      "+---+---------+---+\n| ID|Full_Name|Age|\n+---+---------+---+\n|  1|    Alice| 30|\n|  2|      Bob| 25|\n|  3|  Charlie| 35|\n+---+---------+---+\n\n"
     ]
    }
   ],
   "source": [
    "# Renaming DataFrame Columns\n",
    "df4 = df.toDF(\"ID\", \"Full_Name\", \"Age\")\n",
    "df4.show()"
   ]
  },
  {
   "cell_type": "markdown",
   "metadata": {
    "application/vnd.databricks.v1+cell": {
     "cellMetadata": {},
     "inputWidgets": {},
     "nuid": "1e543083-86ce-47c7-bc30-34c2cb5d00c0",
     "showTitle": false,
     "tableResultSettingsMap": {},
     "title": ""
    }
   },
   "source": []
  },
  {
   "cell_type": "markdown",
   "metadata": {
    "application/vnd.databricks.v1+cell": {
     "cellMetadata": {},
     "inputWidgets": {},
     "nuid": "5712d496-1a38-47b4-80d6-0f3f88ee0cde",
     "showTitle": false,
     "tableResultSettingsMap": {},
     "title": ""
    }
   },
   "source": [
    "**Method 4: Using alias() (for a single column within select())**\n",
    "\n",
    "if you are using select() function to choose specific columns, you can rename them using alias()"
   ]
  },
  {
   "cell_type": "code",
   "execution_count": 0,
   "metadata": {
    "application/vnd.databricks.v1+cell": {
     "cellMetadata": {
      "byteLimit": 2048000,
      "rowLimit": 10000
     },
     "inputWidgets": {},
     "nuid": "abc4301b-6181-4945-9fce-6f9ccc73ad0f",
     "showTitle": false,
     "tableResultSettingsMap": {},
     "title": ""
    }
   },
   "outputs": [
    {
     "output_type": "stream",
     "name": "stdout",
     "output_type": "stream",
     "text": [
      "+---+--------+\n| id|emp_name|\n+---+--------+\n|  1|   Alice|\n|  2|     Bob|\n|  3| Charlie|\n+---+--------+\n\n"
     ]
    }
   ],
   "source": [
    "df5 = df.select(df.id, df.name.alias(\"emp_name\"))\n",
    "df5.show()"
   ]
  },
  {
   "cell_type": "markdown",
   "metadata": {
    "application/vnd.databricks.v1+cell": {
     "cellMetadata": {},
     "inputWidgets": {},
     "nuid": "95bebb1d-7ad8-4f57-bf4c-0306b19c9d11",
     "showTitle": false,
     "tableResultSettingsMap": {},
     "title": ""
    }
   },
   "source": []
  },
  {
   "cell_type": "markdown",
   "metadata": {
    "application/vnd.databricks.v1+cell": {
     "cellMetadata": {},
     "inputWidgets": {},
     "nuid": "2601ed4d-9a61-440a-a18b-81042b2b3a57",
     "showTitle": false,
     "tableResultSettingsMap": {},
     "title": ""
    }
   },
   "source": [
    "#### Conclusion:\n",
    "\n",
    "There are various ways to rename columns in PySpark DataFrames, and the method you choose depends on your specific use case. Here's a summary of the approaches:\n",
    "\n",
    "- **withColumnRenamed():** Useful for renaming one or more columns individually.\n",
    "\n",
    "- **selectExpr():** SQL-like renaming, good for multiple columns.\n",
    "\n",
    "- **toDF():** Rename all columns in one go.\n",
    "\n",
    "- **alias():** Renaming in a select() query for specific columns."
   ]
  }
 ],
 "metadata": {
  "application/vnd.databricks.v1+notebook": {
   "computePreferences": null,
   "dashboards": [],
   "environmentMetadata": {
    "base_environment": "",
    "environment_version": "1"
   },
   "inputWidgetPreferences": null,
   "language": "python",
   "notebookMetadata": {
    "pythonIndentUnit": 4
   },
   "notebookName": "question_11_renaming_columns",
   "widgets": {}
  }
 },
 "nbformat": 4,
 "nbformat_minor": 0
}