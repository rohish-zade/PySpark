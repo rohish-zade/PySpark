{
 "cells": [
  {
   "cell_type": "markdown",
   "metadata": {
    "application/vnd.databricks.v1+cell": {
     "cellMetadata": {},
     "inputWidgets": {},
     "nuid": "2c7ad0d8-9936-45cd-9c1e-77c491cb0a24",
     "showTitle": false,
     "tableResultSettingsMap": {},
     "title": ""
    }
   },
   "source": [
    "### Joins in PySpark"
   ]
  },
  {
   "cell_type": "markdown",
   "metadata": {
    "application/vnd.databricks.v1+cell": {
     "cellMetadata": {},
     "inputWidgets": {},
     "nuid": "f1530db6-b4aa-4fdf-800f-24481d40ed4a",
     "showTitle": false,
     "tableResultSettingsMap": {},
     "title": ""
    }
   },
   "source": [
    "You are given two DataFrames in PySpark:\n",
    "- employee_df: Contains employee information.\n",
    "- department_df: Contains department information\n",
    "\n",
    "You need to perform an inner join on these DataFrames to find out which department each employee belongs to."
   ]
  },
  {
   "cell_type": "markdown",
   "metadata": {
    "application/vnd.databricks.v1+cell": {
     "cellMetadata": {},
     "inputWidgets": {},
     "nuid": "cdd3df5c-459d-4aa1-a478-cbb6ff1c5c65",
     "showTitle": false,
     "tableResultSettingsMap": {},
     "title": ""
    }
   },
   "source": [
    "**employe_df**"
   ]
  },
  {
   "cell_type": "code",
   "execution_count": 0,
   "metadata": {
    "application/vnd.databricks.v1+cell": {
     "cellMetadata": {
      "byteLimit": 2048000,
      "rowLimit": 10000
     },
     "inputWidgets": {},
     "nuid": "c3977e35-7f9d-4d0e-b89c-2bcbd06703b4",
     "showTitle": false,
     "tableResultSettingsMap": {},
     "title": ""
    }
   },
   "outputs": [
    {
     "output_type": "stream",
     "name": "stdout",
     "output_type": "stream",
     "text": [
      "+------+-----+-------+\n|emp_id| name|dept_id|\n+------+-----+-------+\n|     1|Alice|    101|\n|     2|  Bob|    102|\n|     3|Carol|    103|\n|     4| Dave|    101|\n|     5|  Eve|    104|\n+------+-----+-------+\n\n"
     ]
    }
   ],
   "source": [
    "# employe_df\n",
    "employee_data = [\n",
    "    (1, \"Alice\", 101),\n",
    "    (2, \"Bob\", 102),\n",
    "    (3, \"Carol\", 103),\n",
    "    (4, \"Dave\", 101),\n",
    "    (5, \"Eve\", 104)\n",
    "]\n",
    "\n",
    "employee_schema = \"emp_id int, name string, dept_id int\"\n",
    "\n",
    "employee_df = spark.createDataFrame(employee_data, employee_schema)\n",
    "employee_df.show()"
   ]
  },
  {
   "cell_type": "markdown",
   "metadata": {
    "application/vnd.databricks.v1+cell": {
     "cellMetadata": {},
     "inputWidgets": {},
     "nuid": "27a238c3-f863-4a25-805a-43d3669a7f74",
     "showTitle": false,
     "tableResultSettingsMap": {},
     "title": ""
    }
   },
   "source": [
    "**department_df**"
   ]
  },
  {
   "cell_type": "code",
   "execution_count": 0,
   "metadata": {
    "application/vnd.databricks.v1+cell": {
     "cellMetadata": {
      "byteLimit": 2048000,
      "rowLimit": 10000
     },
     "inputWidgets": {},
     "nuid": "13ddbc36-5cc2-43b9-b4c2-50d8c1f2d68a",
     "showTitle": false,
     "tableResultSettingsMap": {},
     "title": ""
    }
   },
   "outputs": [
    {
     "output_type": "stream",
     "name": "stdout",
     "output_type": "stream",
     "text": [
      "+-------+-----------+\n|dept_id|  dept_name|\n+-------+-----------+\n|    101|         HR|\n|    102|Engineering|\n|    103|  Marketing|\n|    105|      Sales|\n+-------+-----------+\n\n"
     ]
    }
   ],
   "source": [
    "# department_df\n",
    "department_data = [\n",
    "    (101, \"HR\"),\n",
    "    (102, \"Engineering\"),\n",
    "    (103, \"Marketing\"),\n",
    "    (105, \"Sales\")\n",
    "]\n",
    "\n",
    "department_schema = \"dept_id int, dept_name string\"\n",
    "\n",
    "department_df = spark.createDataFrame(department_data, department_schema)\n",
    "department_df.show()"
   ]
  },
  {
   "cell_type": "markdown",
   "metadata": {
    "application/vnd.databricks.v1+cell": {
     "cellMetadata": {},
     "inputWidgets": {},
     "nuid": "eb675e6c-54b8-45db-aa32-40d561d6a57a",
     "showTitle": false,
     "tableResultSettingsMap": {},
     "title": ""
    }
   },
   "source": [
    "**Output:**\n",
    "\n",
    "| emp_id | name  | dept_name   |\n",
    "|--------|-------|-------------|\n",
    "| 1      | Alice | HR          |\n",
    "| 2      | Bob   | Engineering |\n",
    "| 3      | Carol | Marketing   |\n",
    "| 4      | Dave  | HR          |"
   ]
  },
  {
   "cell_type": "code",
   "execution_count": 0,
   "metadata": {
    "application/vnd.databricks.v1+cell": {
     "cellMetadata": {
      "byteLimit": 2048000,
      "rowLimit": 10000
     },
     "inputWidgets": {},
     "nuid": "0a2d1bb7-23e1-4e47-907a-d8339806625a",
     "showTitle": false,
     "tableResultSettingsMap": {},
     "title": ""
    }
   },
   "outputs": [
    {
     "output_type": "stream",
     "name": "stdout",
     "output_type": "stream",
     "text": [
      "+------+-----+-----------+\n|emp_id| name|  dept_name|\n+------+-----+-----------+\n|     1|Alice|         HR|\n|     2|  Bob|Engineering|\n|     3|Carol|  Marketing|\n|     4| Dave|         HR|\n+------+-----+-----------+\n\n"
     ]
    }
   ],
   "source": [
    "joined_df = employee_df.join(department_df, employee_df.dept_id==department_df.dept_id, how='inner')\n",
    "\n",
    "final_df = joined_df.select(\"emp_id\", \"name\",\"dept_name\").orderBy(\"emp_id\")\n",
    "final_df.show()"
   ]
  }
 ],
 "metadata": {
  "application/vnd.databricks.v1+notebook": {
   "computePreferences": null,
   "dashboards": [],
   "environmentMetadata": {
    "base_environment": "",
    "client": "1"
   },
   "language": "python",
   "notebookMetadata": {
    "pythonIndentUnit": 4
   },
   "notebookName": "question_7",
   "widgets": {}
  }
 },
 "nbformat": 4,
 "nbformat_minor": 0
}
