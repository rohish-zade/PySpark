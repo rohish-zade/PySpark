{
 "cells": [
  {
   "cell_type": "markdown",
   "metadata": {
    "application/vnd.databricks.v1+cell": {
     "cellMetadata": {},
     "inputWidgets": {},
     "nuid": "5b00ee0c-854e-41f6-9a03-58b10d99d956",
     "showTitle": false,
     "tableResultSettingsMap": {},
     "title": ""
    }
   },
   "source": [
    "### Right join in PySpark"
   ]
  },
  {
   "cell_type": "markdown",
   "metadata": {
    "application/vnd.databricks.v1+cell": {
     "cellMetadata": {},
     "inputWidgets": {},
     "nuid": "e56bd726-28a6-499c-9470-b633ab7a8ccb",
     "showTitle": false,
     "tableResultSettingsMap": {},
     "title": ""
    }
   },
   "source": [
    "You are working as a Data Engineer for an e-commerce company. The company has two datasets:\n",
    "- Orders Dataset: Contains order details such as order_id, customer_id, and order_status.\n",
    "- Customers Dataset: Contains information about customers like customer_id, customer_name, and customer_city.\n",
    "\n",
    "Your task is to generate a report that contains all customer information, even if they have not placed any orders. Use a right join to solve this problem, so that we get all customers, including those without orders."
   ]
  },
  {
   "cell_type": "markdown",
   "metadata": {
    "application/vnd.databricks.v1+cell": {
     "cellMetadata": {},
     "inputWidgets": {},
     "nuid": "f657687e-d72a-43c9-a091-df3f811c4013",
     "showTitle": false,
     "tableResultSettingsMap": {},
     "title": ""
    }
   },
   "source": [
    "**Orders Dataset (orders_df):**"
   ]
  },
  {
   "cell_type": "code",
   "execution_count": 0,
   "metadata": {
    "application/vnd.databricks.v1+cell": {
     "cellMetadata": {
      "byteLimit": 2048000,
      "rowLimit": 10000
     },
     "inputWidgets": {},
     "nuid": "e3151f8d-e5da-406a-894e-9c7c5be1a087",
     "showTitle": false,
     "tableResultSettingsMap": {},
     "title": ""
    }
   },
   "outputs": [
    {
     "output_type": "stream",
     "name": "stdout",
     "output_type": "stream",
     "text": [
      "+--------+-----------+------------+\n|order_id|customer_id|order_status|\n+--------+-----------+------------+\n|       1|        101|   Delivered|\n|       2|        102|     Pending|\n|       3|        103|     Shipped|\n|       4|        101|   Cancelled|\n+--------+-----------+------------+\n\n"
     ]
    }
   ],
   "source": [
    "\n",
    "# orders_df\n",
    "orders_data = [\n",
    "    (1, 101, \"Delivered\"),\n",
    "    (2, 102, \"Pending\"),\n",
    "    (3, 103, \"Shipped\"),\n",
    "    (4, 101, \"Cancelled\")\n",
    "]\n",
    "\n",
    "orders_columns = \"order_id int, customer_id int, order_status string\"\n",
    "\n",
    "orders_df = spark.createDataFrame(orders_data, orders_columns)\n",
    "orders_df.show()"
   ]
  },
  {
   "cell_type": "markdown",
   "metadata": {
    "application/vnd.databricks.v1+cell": {
     "cellMetadata": {},
     "inputWidgets": {},
     "nuid": "aef6c26f-63e6-4690-8d21-669120c1743f",
     "showTitle": false,
     "tableResultSettingsMap": {},
     "title": ""
    }
   },
   "source": [
    "**Customers Dataset (customers_df):**"
   ]
  },
  {
   "cell_type": "code",
   "execution_count": 0,
   "metadata": {
    "application/vnd.databricks.v1+cell": {
     "cellMetadata": {
      "byteLimit": 2048000,
      "rowLimit": 10000
     },
     "inputWidgets": {},
     "nuid": "2dedb4ec-95df-4e87-b299-ae8d26355ad0",
     "showTitle": false,
     "tableResultSettingsMap": {},
     "title": ""
    }
   },
   "outputs": [
    {
     "output_type": "stream",
     "name": "stdout",
     "output_type": "stream",
     "text": [
      "+-----------+-------------+-------------+\n|customer_id|customer_name|customer_city|\n+-----------+-------------+-------------+\n|        101|        Alice|     New York|\n|        102|          Bob|  Los Angeles|\n|        103|      Charlie|      Chicago|\n|        104|        David|      Houston|\n+-----------+-------------+-------------+\n\n"
     ]
    }
   ],
   "source": [
    "# customers_df)\n",
    "customers_data = [\n",
    "    (101, \"Alice\", \"New York\"),\n",
    "    (102, \"Bob\", \"Los Angeles\"),\n",
    "    (103, \"Charlie\", \"Chicago\"),\n",
    "    (104, \"David\", \"Houston\")\n",
    "]\n",
    "\n",
    "customers_columns = \"customer_id int, customer_name string, customer_city string\"\n",
    "\n",
    "customers_df = spark.createDataFrame(customers_data, customers_columns)\n",
    "customers_df.show()"
   ]
  },
  {
   "cell_type": "markdown",
   "metadata": {
    "application/vnd.databricks.v1+cell": {
     "cellMetadata": {},
     "inputWidgets": {},
     "nuid": "cf230e5b-d9bf-4128-8e57-36382441fbd6",
     "showTitle": false,
     "tableResultSettingsMap": {},
     "title": ""
    }
   },
   "source": [
    "**Output:**\n",
    "\n",
    "| customer_id | order_id | order_status | customer_name | customer_city |\n",
    "|-------------|----------|--------------|---------------|---------------|\n",
    "| 101         | 1        | Delivered    | Alice         | New York      |\n",
    "| 101         | 4        | Cancelled    | Alice         | New York      |\n",
    "| 102         | 2        | Pending      | Bob           | Los Angeles   |\n",
    "| 103         | 3        | Shipped      | Charlie       | Chicago       |\n",
    "| 104         | null     | null         | David         | Houston       |"
   ]
  },
  {
   "cell_type": "markdown",
   "metadata": {
    "application/vnd.databricks.v1+cell": {
     "cellMetadata": {},
     "inputWidgets": {},
     "nuid": "e8c73dcf-4c5b-47ef-9580-9fb7ecf7c3e7",
     "showTitle": false,
     "tableResultSettingsMap": {},
     "title": ""
    }
   },
   "source": [
    "**PySpark code Solution**"
   ]
  },
  {
   "cell_type": "code",
   "execution_count": 0,
   "metadata": {
    "application/vnd.databricks.v1+cell": {
     "cellMetadata": {
      "byteLimit": 2048000,
      "rowLimit": 10000
     },
     "inputWidgets": {},
     "nuid": "f62f3dfb-7b88-4097-9971-a4669bb9e727",
     "showTitle": false,
     "tableResultSettingsMap": {},
     "title": ""
    }
   },
   "outputs": [
    {
     "output_type": "stream",
     "name": "stdout",
     "output_type": "stream",
     "text": [
      "+--------+-----------+------------+-----------+-------------+-------------+\n|order_id|customer_id|order_status|customer_id|customer_name|customer_city|\n+--------+-----------+------------+-----------+-------------+-------------+\n|       4|        101|   Cancelled|        101|        Alice|     New York|\n|       1|        101|   Delivered|        101|        Alice|     New York|\n|       2|        102|     Pending|        102|          Bob|  Los Angeles|\n|       3|        103|     Shipped|        103|      Charlie|      Chicago|\n|    null|       null|        null|        104|        David|      Houston|\n+--------+-----------+------------+-----------+-------------+-------------+\n\n"
     ]
    }
   ],
   "source": [
    "joined_df = orders_df.join(customers_df, orders_df.customer_id==customers_df.customer_id, \"right\")\n",
    "\n",
    "joined_df.orderBy(customers_df.customer_id).show()"
   ]
  }
 ],
 "metadata": {
  "application/vnd.databricks.v1+notebook": {
   "computePreferences": null,
   "dashboards": [],
   "environmentMetadata": {
    "base_environment": "",
    "environment_version": "1"
   },
   "inputWidgetPreferences": null,
   "language": "python",
   "notebookMetadata": {
    "pythonIndentUnit": 4
   },
   "notebookName": "question_9_right_join",
   "widgets": {}
  }
 },
 "nbformat": 4,
 "nbformat_minor": 0
}