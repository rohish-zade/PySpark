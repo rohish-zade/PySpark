{
 "cells": [
  {
   "cell_type": "markdown",
   "metadata": {
    "application/vnd.databricks.v1+cell": {
     "cellMetadata": {},
     "inputWidgets": {},
     "nuid": "2916298e-c56d-484f-96f0-3ef0cbcb61ce",
     "showTitle": false,
     "tableResultSettingsMap": {},
     "title": ""
    }
   },
   "source": [
    "**Sorting a Dataframe**"
   ]
  },
  {
   "cell_type": "markdown",
   "metadata": {
    "application/vnd.databricks.v1+cell": {
     "cellMetadata": {},
     "inputWidgets": {},
     "nuid": "bbc92f49-b947-4835-b8d4-f9ec141682f8",
     "showTitle": false,
     "tableResultSettingsMap": {},
     "title": ""
    }
   },
   "source": [
    "Sort a DataFrame based on one or multiple columns in PySpark"
   ]
  },
  {
   "cell_type": "code",
   "execution_count": 0,
   "metadata": {
    "application/vnd.databricks.v1+cell": {
     "cellMetadata": {
      "byteLimit": 2048000,
      "rowLimit": 10000
     },
     "inputWidgets": {},
     "nuid": "5c1eb780-a371-4aaf-b25b-aa9b1319d906",
     "showTitle": false,
     "tableResultSettingsMap": {},
     "title": ""
    }
   },
   "outputs": [
    {
     "output_type": "stream",
     "name": "stdout",
     "output_type": "stream",
     "text": [
      "+---------+---+-------------+\n|     Name|Age|         City|\n+---------+---+-------------+\n|    Alice| 34|     New York|\n|      Bob| 45|San Francisco|\n|Catherine| 29|  Los Angeles|\n|   Daniel| 35|     New York|\n|      Eva| 45|  Los Angeles|\n+---------+---+-------------+\n\n"
     ]
    }
   ],
   "source": [
    "# Sample Data\n",
    "data = [\n",
    "    ('Alice', 34, 'New York'),\n",
    "    ('Bob', 45, 'San Francisco'),\n",
    "    ('Catherine', 29, 'Los Angeles'),\n",
    "    ('Daniel', 35, 'New York'),\n",
    "    ('Eva', 45, 'Los Angeles')\n",
    "]\n",
    "\n",
    "columns = ['Name', 'Age', 'City']\n",
    "\n",
    "df = spark.createDataFrame(data, columns)\n",
    "df.show()"
   ]
  },
  {
   "cell_type": "markdown",
   "metadata": {
    "application/vnd.databricks.v1+cell": {
     "cellMetadata": {},
     "inputWidgets": {},
     "nuid": "366e685e-f612-40be-993e-1188fa5a9063",
     "showTitle": false,
     "tableResultSettingsMap": {},
     "title": ""
    }
   },
   "source": []
  },
  {
   "cell_type": "markdown",
   "metadata": {
    "application/vnd.databricks.v1+cell": {
     "cellMetadata": {},
     "inputWidgets": {},
     "nuid": "3e8fdeea-c65e-4ec9-a789-a6b021523026",
     "showTitle": false,
     "tableResultSettingsMap": {},
     "title": ""
    }
   },
   "source": [
    "**Sorting by a Single Column:**\n",
    "\n",
    "To sort the DataFrame by a single column (e.g.,Age):"
   ]
  },
  {
   "cell_type": "code",
   "execution_count": 0,
   "metadata": {
    "application/vnd.databricks.v1+cell": {
     "cellMetadata": {
      "byteLimit": 2048000,
      "rowLimit": 10000
     },
     "inputWidgets": {},
     "nuid": "4cb6dd24-3c1b-472f-8333-d2b8f03aaa93",
     "showTitle": false,
     "tableResultSettingsMap": {},
     "title": ""
    }
   },
   "outputs": [
    {
     "output_type": "stream",
     "name": "stdout",
     "output_type": "stream",
     "text": [
      "+---------+---+-------------+\n|     Name|Age|         City|\n+---------+---+-------------+\n|Catherine| 29|  Los Angeles|\n|    Alice| 34|     New York|\n|   Daniel| 35|     New York|\n|      Eva| 45|  Los Angeles|\n|      Bob| 45|San Francisco|\n+---------+---+-------------+\n\n"
     ]
    }
   ],
   "source": [
    "sorted_df1 = df.sort(\"Age\")\n",
    "sorted_df1.show()"
   ]
  },
  {
   "cell_type": "markdown",
   "metadata": {
    "application/vnd.databricks.v1+cell": {
     "cellMetadata": {},
     "inputWidgets": {},
     "nuid": "f7192096-e330-423d-80c0-6759ffb9c7ce",
     "showTitle": false,
     "tableResultSettingsMap": {},
     "title": ""
    }
   },
   "source": []
  },
  {
   "cell_type": "markdown",
   "metadata": {
    "application/vnd.databricks.v1+cell": {
     "cellMetadata": {},
     "inputWidgets": {},
     "nuid": "e3158796-b734-49bb-a150-524d283c71ed",
     "showTitle": false,
     "tableResultSettingsMap": {},
     "title": ""
    }
   },
   "source": [
    "**Sorting by Multiple Columns:**\n",
    "\n",
    "To sort by multiple columns (e.g., by Age and City):"
   ]
  },
  {
   "cell_type": "code",
   "execution_count": 0,
   "metadata": {
    "application/vnd.databricks.v1+cell": {
     "cellMetadata": {
      "byteLimit": 2048000,
      "rowLimit": 10000
     },
     "inputWidgets": {},
     "nuid": "61f66548-82a5-48ea-9895-e635e8a09d79",
     "showTitle": false,
     "tableResultSettingsMap": {},
     "title": ""
    }
   },
   "outputs": [
    {
     "output_type": "stream",
     "name": "stdout",
     "output_type": "stream",
     "text": [
      "+---------+---+-------------+\n|     Name|Age|         City|\n+---------+---+-------------+\n|Catherine| 29|  Los Angeles|\n|    Alice| 34|     New York|\n|   Daniel| 35|     New York|\n|      Eva| 45|  Los Angeles|\n|      Bob| 45|San Francisco|\n+---------+---+-------------+\n\n"
     ]
    }
   ],
   "source": [
    "sorted_df2 = df.sort(\"Age\", \"City\")\n",
    "sorted_df2.show()"
   ]
  },
  {
   "cell_type": "markdown",
   "metadata": {
    "application/vnd.databricks.v1+cell": {
     "cellMetadata": {},
     "inputWidgets": {},
     "nuid": "92fd5e75-201f-4991-a47e-93e35596fee0",
     "showTitle": false,
     "tableResultSettingsMap": {},
     "title": ""
    }
   },
   "source": []
  },
  {
   "cell_type": "markdown",
   "metadata": {
    "application/vnd.databricks.v1+cell": {
     "cellMetadata": {},
     "inputWidgets": {},
     "nuid": "ca3c1a87-8405-4048-853c-2eb61d7f0942",
     "showTitle": false,
     "tableResultSettingsMap": {},
     "title": ""
    }
   },
   "source": [
    "**Sorting in Descending Order:**\n",
    "\n",
    "To sort in descending order, use the desc() function from pyspark.sql.functions:"
   ]
  },
  {
   "cell_type": "code",
   "execution_count": 0,
   "metadata": {
    "application/vnd.databricks.v1+cell": {
     "cellMetadata": {
      "byteLimit": 2048000,
      "rowLimit": 10000
     },
     "inputWidgets": {},
     "nuid": "5a769b6f-a614-4764-b665-228cb48a10e1",
     "showTitle": false,
     "tableResultSettingsMap": {},
     "title": ""
    }
   },
   "outputs": [
    {
     "output_type": "stream",
     "name": "stdout",
     "output_type": "stream",
     "text": [
      "+---------+---+-------------+\n|     Name|Age|         City|\n+---------+---+-------------+\n|      Eva| 45|  Los Angeles|\n|      Bob| 45|San Francisco|\n|   Daniel| 35|     New York|\n|    Alice| 34|     New York|\n|Catherine| 29|  Los Angeles|\n+---------+---+-------------+\n\n"
     ]
    }
   ],
   "source": [
    "from pyspark.sql.functions import desc,col\n",
    "\n",
    "sorted_df3 = df.sort(desc(\"Age\"))\n",
    "sorted_df3.show()"
   ]
  },
  {
   "cell_type": "code",
   "execution_count": 0,
   "metadata": {
    "application/vnd.databricks.v1+cell": {
     "cellMetadata": {
      "byteLimit": 2048000,
      "rowLimit": 10000
     },
     "inputWidgets": {},
     "nuid": "4774654f-4ef5-4ef2-a090-362f06b62906",
     "showTitle": false,
     "tableResultSettingsMap": {},
     "title": ""
    }
   },
   "outputs": [
    {
     "output_type": "stream",
     "name": "stdout",
     "output_type": "stream",
     "text": [
      "+---------+---+-------------+\n|     Name|Age|         City|\n+---------+---+-------------+\n|      Bob| 45|San Francisco|\n|      Eva| 45|  Los Angeles|\n|   Daniel| 35|     New York|\n|    Alice| 34|     New York|\n|Catherine| 29|  Los Angeles|\n+---------+---+-------------+\n\n"
     ]
    }
   ],
   "source": [
    "#alternate\n",
    "df.sort(col(\"Age\").desc()).show()"
   ]
  }
 ],
 "metadata": {
  "application/vnd.databricks.v1+notebook": {
   "computePreferences": null,
   "dashboards": [],
   "environmentMetadata": {
    "base_environment": "",
    "environment_version": "1"
   },
   "inputWidgetPreferences": null,
   "language": "python",
   "notebookMetadata": {
    "pythonIndentUnit": 4
   },
   "notebookName": "question_13_sorting",
   "widgets": {}
  }
 },
 "nbformat": 4,
 "nbformat_minor": 0
}