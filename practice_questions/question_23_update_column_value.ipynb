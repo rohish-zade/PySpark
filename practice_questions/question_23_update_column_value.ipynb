{
 "cells": [
  {
   "cell_type": "markdown",
   "metadata": {
    "application/vnd.databricks.v1+cell": {
     "cellMetadata": {},
     "inputWidgets": {},
     "nuid": "5a1fe1b8-259f-4cc2-b0d1-e26a16eb9840",
     "showTitle": false,
     "tableResultSettingsMap": {},
     "title": ""
    }
   },
   "source": [
    "### Replace the department name \"Finance\" with \"Financial Services\" in the DataFrame"
   ]
  },
  {
   "cell_type": "code",
   "execution_count": 0,
   "metadata": {
    "application/vnd.databricks.v1+cell": {
     "cellMetadata": {
      "byteLimit": 2048000,
      "rowLimit": 10000
     },
     "inputWidgets": {},
     "nuid": "b5a9a2e1-e873-437c-9444-0bda024cc7e6",
     "showTitle": false,
     "tableResultSettingsMap": {},
     "title": ""
    }
   },
   "outputs": [
    {
     "output_type": "stream",
     "name": "stdout",
     "output_type": "stream",
     "text": [
      "+----------+-----+----------+\n|EmployeeID| Name|Department|\n+----------+-----+----------+\n|         1| John|   Finance|\n|         2|Alice|        HR|\n|         3|  Bob|   Finance|\n|         4|Carol|        IT|\n+----------+-----+----------+\n\n"
     ]
    }
   ],
   "source": [
    "# Sample data\n",
    "data = [\n",
    "    (1, \"John\", \"Finance\"),\n",
    "    (2, \"Alice\", \"HR\"),\n",
    "    (3, \"Bob\", \"Finance\"),\n",
    "    (4, \"Carol\", \"IT\")\n",
    "]\n",
    "\n",
    "# Create DataFrame \n",
    "df = spark.createDataFrame(data, [\"EmployeeID\", \"Name\", \"Department\"])\n",
    "df.show()"
   ]
  },
  {
   "cell_type": "code",
   "execution_count": 0,
   "metadata": {
    "application/vnd.databricks.v1+cell": {
     "cellMetadata": {
      "byteLimit": 2048000,
      "rowLimit": 10000
     },
     "inputWidgets": {},
     "nuid": "664ab165-5a1b-48d7-9ba8-2a8cb9434ff9",
     "showTitle": false,
     "tableResultSettingsMap": {},
     "title": ""
    }
   },
   "outputs": [],
   "source": [
    "from pyspark.sql.functions import col, when, lit"
   ]
  },
  {
   "cell_type": "code",
   "execution_count": 0,
   "metadata": {
    "application/vnd.databricks.v1+cell": {
     "cellMetadata": {
      "byteLimit": 2048000,
      "rowLimit": 10000
     },
     "inputWidgets": {},
     "nuid": "88a3bd82-13e3-4446-9ec1-a6e21399d4fd",
     "showTitle": false,
     "tableResultSettingsMap": {},
     "title": ""
    }
   },
   "outputs": [
    {
     "output_type": "stream",
     "name": "stdout",
     "output_type": "stream",
     "text": [
      "+----------+-----+------------------+\n|EmployeeID| Name|        Department|\n+----------+-----+------------------+\n|         1| John|Financial Services|\n|         2|Alice|                HR|\n|         3|  Bob|Financial Services|\n|         4|Carol|                IT|\n+----------+-----+------------------+\n\n"
     ]
    }
   ],
   "source": [
    "# reanme the department name \"Finance\" with \"Financial Services\"\n",
    "renamed_df = df.withColumn(\"Department\", when(col(\"Department\")==\"Finance\", \"Financial Services\") \\\n",
    "                                         .otherwise(col(\"Department\")))\n",
    "renamed_df.show()"
   ]
  }
 ],
 "metadata": {
  "application/vnd.databricks.v1+notebook": {
   "computePreferences": null,
   "dashboards": [],
   "environmentMetadata": {
    "base_environment": "",
    "environment_version": "1"
   },
   "inputWidgetPreferences": null,
   "language": "python",
   "notebookMetadata": {
    "pythonIndentUnit": 4
   },
   "notebookName": "question_23_update_column_value",
   "widgets": {}
  }
 },
 "nbformat": 4,
 "nbformat_minor": 0
}