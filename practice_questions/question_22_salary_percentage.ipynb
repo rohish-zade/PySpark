{
 "cells": [
  {
   "cell_type": "markdown",
   "metadata": {
    "application/vnd.databricks.v1+cell": {
     "cellMetadata": {},
     "inputWidgets": {},
     "nuid": "56df0376-858d-4aaa-a970-85f262dd0abe",
     "showTitle": false,
     "tableResultSettingsMap": {},
     "title": ""
    }
   },
   "source": [
    "### To calculate the percentage of total salary that each employee contributes to their respective department."
   ]
  },
  {
   "cell_type": "code",
   "execution_count": 0,
   "metadata": {
    "application/vnd.databricks.v1+cell": {
     "cellMetadata": {
      "byteLimit": 2048000,
      "rowLimit": 10000
     },
     "inputWidgets": {},
     "nuid": "717be441-415f-472f-bd1d-b8cc5d8349bf",
     "showTitle": false,
     "tableResultSettingsMap": {},
     "title": ""
    }
   },
   "outputs": [],
   "source": [
    "from pyspark.sql import Window\n",
    "from pyspark.sql.functions import sum, col, round"
   ]
  },
  {
   "cell_type": "code",
   "execution_count": 0,
   "metadata": {
    "application/vnd.databricks.v1+cell": {
     "cellMetadata": {
      "byteLimit": 2048000,
      "rowLimit": 10000
     },
     "inputWidgets": {},
     "nuid": "441cca3e-f16f-400b-877d-07b3a3997de5",
     "showTitle": false,
     "tableResultSettingsMap": {},
     "title": ""
    }
   },
   "outputs": [
    {
     "output_type": "stream",
     "name": "stdout",
     "output_type": "stream",
     "text": [
      "+-----------+-------+----------+------+\n|Employee_ID|   Name|Department|Salary|\n+-----------+-------+----------+------+\n|          1|  Alice|        HR|  5000|\n|          2|    Bob|        HR|  7000|\n|          3|Charlie|        IT| 10000|\n|          4|  David|        IT|  8000|\n|          5|    Eve|        IT|  6000|\n+-----------+-------+----------+------+\n\n"
     ]
    }
   ],
   "source": [
    "# sample data\n",
    "data = [\n",
    "    (1, \"Alice\", \"HR\", 5000),\n",
    "    (2, \"Bob\", \"HR\", 7000),\n",
    "    (3, \"Charlie\", \"IT\", 10000),\n",
    "    (4, \"David\", \"IT\", 8000),\n",
    "    (5, \"Eve\", \"IT\", 6000)\n",
    "]\n",
    "\n",
    "columns = [\"Employee_ID\", \"Name\", \"Department\", \"Salary\"]\n",
    "\n",
    "df = spark.createDataFrame(data, columns)\n",
    "df.show()"
   ]
  },
  {
   "cell_type": "code",
   "execution_count": 0,
   "metadata": {
    "application/vnd.databricks.v1+cell": {
     "cellMetadata": {
      "byteLimit": 2048000,
      "rowLimit": 10000
     },
     "inputWidgets": {},
     "nuid": "401bf685-cd5e-46dc-9da3-94896d8ca767",
     "showTitle": false,
     "tableResultSettingsMap": {},
     "title": ""
    }
   },
   "outputs": [
    {
     "output_type": "stream",
     "name": "stdout",
     "output_type": "stream",
     "text": [
      "+-----------+-------+----------+------+------------+\n|Employee_ID|   Name|Department|Salary|Total_Salary|\n+-----------+-------+----------+------+------------+\n|          1|  Alice|        HR|  5000|       12000|\n|          2|    Bob|        HR|  7000|       12000|\n|          3|Charlie|        IT| 10000|       24000|\n|          4|  David|        IT|  8000|       24000|\n|          5|    Eve|        IT|  6000|       24000|\n+-----------+-------+----------+------+------------+\n\n"
     ]
    }
   ],
   "source": [
    "# find the total salary for each department\n",
    "window_specs = Window.partitionBy(\"Department\")\n",
    "\n",
    "grouped_df = df.withColumn(\"Total_Salary\", sum(\"Salary\").over(window_specs))\n",
    "grouped_df.show()"
   ]
  },
  {
   "cell_type": "code",
   "execution_count": 0,
   "metadata": {
    "application/vnd.databricks.v1+cell": {
     "cellMetadata": {
      "byteLimit": 2048000,
      "rowLimit": 10000
     },
     "inputWidgets": {},
     "nuid": "b77a5dd2-b239-42c9-bf18-a1a6041329f0",
     "showTitle": false,
     "tableResultSettingsMap": {},
     "title": ""
    }
   },
   "outputs": [
    {
     "output_type": "stream",
     "name": "stdout",
     "output_type": "stream",
     "text": [
      "+-----------+-------+----------+------+------------+-----------------+\n|Employee_ID|   Name|Department|Salary|Total_Salary|Salary_Percentage|\n+-----------+-------+----------+------+------------+-----------------+\n|          1|  Alice|        HR|  5000|       12000|            41.67|\n|          2|    Bob|        HR|  7000|       12000|            58.33|\n|          3|Charlie|        IT| 10000|       24000|            41.67|\n|          4|  David|        IT|  8000|       24000|            33.33|\n|          5|    Eve|        IT|  6000|       24000|             25.0|\n+-----------+-------+----------+------+------------+-----------------+\n\n"
     ]
    }
   ],
   "source": [
    "# calculate percentage of total salary that each employee \n",
    "result_df = grouped_df.withColumn(\"Salary_Percentage\",  round((col(\"Salary\") / col(\"Total_Salary\")) * 100, 2))\n",
    "result_df.show()"
   ]
  }
 ],
 "metadata": {
  "application/vnd.databricks.v1+notebook": {
   "computePreferences": null,
   "dashboards": [],
   "environmentMetadata": {
    "base_environment": "",
    "environment_version": "1"
   },
   "inputWidgetPreferences": null,
   "language": "python",
   "notebookMetadata": {
    "pythonIndentUnit": 4
   },
   "notebookName": "question_22_salary_percentage",
   "widgets": {}
  }
 },
 "nbformat": 4,
 "nbformat_minor": 0
}