{
 "cells": [
  {
   "cell_type": "markdown",
   "metadata": {
    "application/vnd.databricks.v1+cell": {
     "cellMetadata": {},
     "inputWidgets": {},
     "nuid": "13a770b1-e48b-41e3-badf-df874cbc715b",
     "showTitle": false,
     "tableResultSettingsMap": {},
     "title": ""
    }
   },
   "source": [
    "### Extract First Name and Last Name from Full Name"
   ]
  },
  {
   "cell_type": "markdown",
   "metadata": {
    "application/vnd.databricks.v1+cell": {
     "cellMetadata": {},
     "inputWidgets": {},
     "nuid": "083057e5-5568-4501-a45e-05146a145a53",
     "showTitle": false,
     "tableResultSettingsMap": {},
     "title": ""
    }
   },
   "source": [
    "Given a PySpark DataFrame containing a column `name` with **full names** (e.g., `\"Rohish Zade\"`), you are required to: create two new columns: `first_name` and `last_name`."
   ]
  },
  {
   "cell_type": "markdown",
   "metadata": {
    "application/vnd.databricks.v1+cell": {
     "cellMetadata": {},
     "inputWidgets": {},
     "nuid": "74860cf5-e83c-4451-8d01-9c745216789d",
     "showTitle": false,
     "tableResultSettingsMap": {},
     "title": ""
    }
   },
   "source": [
    "#### Sample Data"
   ]
  },
  {
   "cell_type": "code",
   "execution_count": 0,
   "metadata": {
    "application/vnd.databricks.v1+cell": {
     "cellMetadata": {
      "byteLimit": 2048000,
      "rowLimit": 10000
     },
     "inputWidgets": {},
     "nuid": "df1f4f3f-744c-4863-8ace-3cb1d4900b5e",
     "showTitle": false,
     "tableResultSettingsMap": {},
     "title": ""
    }
   },
   "outputs": [
    {
     "output_type": "stream",
     "name": "stdout",
     "output_type": "stream",
     "text": [
      "+---+-------------+------+\n| id|    full_name|salary|\n+---+-------------+------+\n|  1|  Rohish Zade|  2000|\n|  2|Priya Ramteke|  2000|\n|  3|  Faizal Reza|  2000|\n+---+-------------+------+\n\n"
     ]
    }
   ],
   "source": [
    "data = [ \n",
    "    (1, \"Rohish Zade\", 2000),\n",
    "    (2, \"Priya Ramteke\", 2000),\n",
    "    (3, \"Faizal Reza\", 2000),\n",
    "]\n",
    "columns = [\"id\", \"full_name\", \"salary\"]\n",
    "\n",
    "df = spark.createDataFrame(data, columns)\n",
    "df.show()"
   ]
  },
  {
   "cell_type": "markdown",
   "metadata": {
    "application/vnd.databricks.v1+cell": {
     "cellMetadata": {},
     "inputWidgets": {},
     "nuid": "01130c5b-f672-49c4-9e28-9c0b612a9267",
     "showTitle": false,
     "tableResultSettingsMap": {},
     "title": ""
    }
   },
   "source": [
    "#### Solution 1:\n",
    "Using `split()` Function"
   ]
  },
  {
   "cell_type": "code",
   "execution_count": 0,
   "metadata": {
    "application/vnd.databricks.v1+cell": {
     "cellMetadata": {
      "byteLimit": 2048000,
      "rowLimit": 10000
     },
     "inputWidgets": {},
     "nuid": "35574ae6-cc1c-41f5-a12d-a791b01f11a9",
     "showTitle": false,
     "tableResultSettingsMap": {},
     "title": ""
    }
   },
   "outputs": [],
   "source": [
    "from pyspark.sql.functions import col, split, substring, instr, expr"
   ]
  },
  {
   "cell_type": "code",
   "execution_count": 0,
   "metadata": {
    "application/vnd.databricks.v1+cell": {
     "cellMetadata": {
      "byteLimit": 2048000,
      "rowLimit": 10000
     },
     "inputWidgets": {},
     "nuid": "9ecfd4e7-08ee-4962-baa8-3a928e0f93c1",
     "showTitle": false,
     "tableResultSettingsMap": {},
     "title": ""
    }
   },
   "outputs": [
    {
     "output_type": "stream",
     "name": "stdout",
     "output_type": "stream",
     "text": [
      "+---+-------------+------+----------+---------+\n| id|    full_name|salary|first_name|last_name|\n+---+-------------+------+----------+---------+\n|  1|  Rohish Zade|  2000|    Rohish|     Zade|\n|  2|Priya Ramteke|  2000|     Priya|  Ramteke|\n|  3|  Faizal Reza|  2000|    Faizal|     Reza|\n+---+-------------+------+----------+---------+\n\n"
     ]
    }
   ],
   "source": [
    "split_df = df.withColumn(\"first_name\", split(col(\"full_name\"), \" \").getItem(0)) \\\n",
    "            .withColumn(\"last_name\", split(col(\"full_name\"), \" \").getItem(1))\n",
    "\n",
    "split_df.show()"
   ]
  },
  {
   "cell_type": "markdown",
   "metadata": {
    "application/vnd.databricks.v1+cell": {
     "cellMetadata": {},
     "inputWidgets": {},
     "nuid": "20243ca4-d7f9-4203-9749-044688b98e05",
     "showTitle": false,
     "tableResultSettingsMap": {},
     "title": ""
    }
   },
   "source": [
    "**Explanation:**\n",
    "- `split(col(\"name\"), \" \")` splits the string at the space into an array like `[\"Rohish\", \"Zade\"]`.\n",
    "- `.getItem(0)` fetches the first element (first name).\n",
    "- `.getItem(1)` fetches the second element (last name)."
   ]
  },
  {
   "cell_type": "markdown",
   "metadata": {
    "application/vnd.databricks.v1+cell": {
     "cellMetadata": {},
     "inputWidgets": {},
     "nuid": "36493785-2329-495b-85fd-acc9e565a010",
     "showTitle": false,
     "tableResultSettingsMap": {},
     "title": ""
    }
   },
   "source": []
  },
  {
   "cell_type": "markdown",
   "metadata": {
    "application/vnd.databricks.v1+cell": {
     "cellMetadata": {},
     "inputWidgets": {},
     "nuid": "1b399e47-cf87-4e61-a2a1-89c06924017a",
     "showTitle": false,
     "tableResultSettingsMap": {},
     "title": ""
    }
   },
   "source": [
    "### Solution 2:\n",
    "\n",
    "Using `substring()` and `instr()` (Extract Substrings Based on Position)"
   ]
  },
  {
   "cell_type": "markdown",
   "metadata": {
    "application/vnd.databricks.v1+cell": {
     "cellMetadata": {},
     "inputWidgets": {},
     "nuid": "80bc871e-1cb9-41d7-be96-43a9d3e25cbb",
     "showTitle": false,
     "tableResultSettingsMap": {},
     "title": ""
    }
   },
   "source": [
    "**What is instr() in PySpark?**\n",
    "- `instr()` is a string function in PySpark that returns the 1-based position of the first occurrence of a substring in a string column. If the substring is not found, it returns 0.\n",
    "- Syntax: `instr(column, substring)`\n",
    "- Indexing is 1-based, not 0-based like Python"
   ]
  },
  {
   "cell_type": "code",
   "execution_count": 0,
   "metadata": {
    "application/vnd.databricks.v1+cell": {
     "cellMetadata": {
      "byteLimit": 2048000,
      "rowLimit": 10000
     },
     "inputWidgets": {},
     "nuid": "9ffbd9a1-186f-410c-8bdd-2f0bd5afa798",
     "showTitle": false,
     "tableResultSettingsMap": {},
     "title": ""
    }
   },
   "outputs": [
    {
     "output_type": "stream",
     "name": "stdout",
     "output_type": "stream",
     "text": [
      "+---+-------------+------+-----------+\n| id|    full_name|salary|space_index|\n+---+-------------+------+-----------+\n|  1|  Rohish Zade|  2000|          7|\n|  2|Priya Ramteke|  2000|          6|\n|  3|  Faizal Reza|  2000|          7|\n+---+-------------+------+-----------+\n\n"
     ]
    }
   ],
   "source": [
    "# Example:\n",
    "df.withColumn(\"space_index\", instr(col(\"full_name\"), \" \")).show()"
   ]
  },
  {
   "cell_type": "code",
   "execution_count": 0,
   "metadata": {
    "application/vnd.databricks.v1+cell": {
     "cellMetadata": {
      "byteLimit": 2048000,
      "rowLimit": 10000
     },
     "inputWidgets": {},
     "nuid": "f03edf4f-7db0-4a88-9706-887140d66c96",
     "showTitle": false,
     "tableResultSettingsMap": {},
     "title": ""
    }
   },
   "outputs": [
    {
     "output_type": "stream",
     "name": "stdout",
     "output_type": "stream",
     "text": [
      "+---+-------------+------+-----------+\n| id|    full_name|salary|space_index|\n+---+-------------+------+-----------+\n|  1|  Rohish Zade|  2000|          7|\n|  2|Priya Ramteke|  2000|          6|\n|  3|  Faizal Reza|  2000|          7|\n+---+-------------+------+-----------+\n\n"
     ]
    }
   ],
   "source": [
    "df.withColumn(\"space_index\", instr(col(\"full_name\"), \" \")).show()"
   ]
  },
  {
   "cell_type": "code",
   "execution_count": 0,
   "metadata": {
    "application/vnd.databricks.v1+cell": {
     "cellMetadata": {
      "byteLimit": 2048000,
      "rowLimit": 10000
     },
     "inputWidgets": {},
     "nuid": "ecc0fc1a-1826-4ecb-95d5-eccdd1ec9dd4",
     "showTitle": false,
     "tableResultSettingsMap": {},
     "title": ""
    }
   },
   "outputs": [
    {
     "output_type": "stream",
     "name": "stdout",
     "output_type": "stream",
     "text": [
      "+---+-------------+------+----------+---------+\n| id|    full_name|salary|first_name|last_name|\n+---+-------------+------+----------+---------+\n|  1|  Rohish Zade|  2000|    Rohish|     Zade|\n|  2|Priya Ramteke|  2000|     Priya|  Ramteke|\n|  3|  Faizal Reza|  2000|    Faizal|     Reza|\n+---+-------------+------+----------+---------+\n\n"
     ]
    }
   ],
   "source": [
    "substr_df = df.withColumn(\"space_index\", instr(col(\"full_name\"), \" \")) \\\n",
    "               .withColumn(\"first_name\", expr(\"substring(full_name, 1, space_index - 1)\")) \\\n",
    "               .withColumn(\"last_name\", expr(\"substring(full_name, space_index + 1, len(full_name))\")).drop(\"space_index\")\n",
    "\n",
    "substr_df.show()"
   ]
  },
  {
   "cell_type": "markdown",
   "metadata": {
    "application/vnd.databricks.v1+cell": {
     "cellMetadata": {},
     "inputWidgets": {},
     "nuid": "ebbe15f1-d902-4b04-aab6-7ba00cec920e",
     "showTitle": false,
     "tableResultSettingsMap": {},
     "title": ""
    }
   },
   "source": [
    "**Explanation:**\n",
    "- `instr(full_name, \" \")` finds the position of space.\n",
    "- `substring(full_name, 1, space_index - 1)` gives the first name.\n",
    "- `substring(full_name, space_index + 1, length(full_name))` gets the rest of the name (last name)."
   ]
  }
 ],
 "metadata": {
  "application/vnd.databricks.v1+notebook": {
   "computePreferences": null,
   "dashboards": [],
   "environmentMetadata": {
    "base_environment": "",
    "environment_version": "1"
   },
   "inputWidgetPreferences": null,
   "language": "python",
   "notebookMetadata": {
    "pythonIndentUnit": 4
   },
   "notebookName": "extract_first_and_last_name_from_fullname",
   "widgets": {}
  }
 },
 "nbformat": 4,
 "nbformat_minor": 0
}