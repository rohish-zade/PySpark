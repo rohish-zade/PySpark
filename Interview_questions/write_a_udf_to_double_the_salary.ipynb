{
 "cells": [
  {
   "cell_type": "markdown",
   "metadata": {
    "application/vnd.databricks.v1+cell": {
     "cellMetadata": {},
     "inputWidgets": {},
     "nuid": "fa027062-376a-473b-b614-5e56d562e413",
     "showTitle": false,
     "tableResultSettingsMap": {},
     "title": ""
    }
   },
   "source": [
    "## create a User Defined Function (UDF) in PySpark to double the salary"
   ]
  },
  {
   "cell_type": "markdown",
   "metadata": {
    "application/vnd.databricks.v1+cell": {
     "cellMetadata": {},
     "inputWidgets": {},
     "nuid": "1187e6c4-053b-4b97-b693-e757e9bc786e",
     "showTitle": false,
     "tableResultSettingsMap": {},
     "title": ""
    }
   },
   "source": [
    "You are given a dataset of employees with their respective salaries.\n",
    "create a `UDF` in PySpark to double the salary of each employee and add it as a new column in the DataFrame."
   ]
  },
  {
   "cell_type": "code",
   "execution_count": 0,
   "metadata": {
    "application/vnd.databricks.v1+cell": {
     "cellMetadata": {
      "byteLimit": 2048000,
      "rowLimit": 10000
     },
     "inputWidgets": {},
     "nuid": "2c90443d-9e28-4f2a-b2d3-ec98a904dfd4",
     "showTitle": false,
     "tableResultSettingsMap": {},
     "title": ""
    }
   },
   "outputs": [
    {
     "output_type": "stream",
     "name": "stdout",
     "output_type": "stream",
     "text": [
      "+---+-------------+------+\n| id|    full_name|salary|\n+---+-------------+------+\n|  1|  Rohish Zade|  2000|\n|  2|Priya Ramteke|  3000|\n|  3|  Faizal Reza|  2500|\n+---+-------------+------+\n\n"
     ]
    }
   ],
   "source": [
    "data = [ \n",
    "    (1, \"Rohish Zade\", 2000),\n",
    "    (2, \"Priya Ramteke\", 3000),\n",
    "    (3, \"Faizal Reza\", 2500),\n",
    "]\n",
    "columns = [\"id\", \"full_name\", \"salary\"]\n",
    "\n",
    "df = spark.createDataFrame(data, columns)\n",
    "df.show()"
   ]
  },
  {
   "cell_type": "code",
   "execution_count": 0,
   "metadata": {
    "application/vnd.databricks.v1+cell": {
     "cellMetadata": {
      "byteLimit": 2048000,
      "rowLimit": 10000
     },
     "inputWidgets": {},
     "nuid": "173feff9-7830-484f-a70a-656f2c9e99e2",
     "showTitle": false,
     "tableResultSettingsMap": {},
     "title": ""
    }
   },
   "outputs": [],
   "source": [
    "# Define the Python function\n",
    "def double_salary(salary):\n",
    "    return salary * 2 if salary is not None else None"
   ]
  },
  {
   "cell_type": "code",
   "execution_count": 0,
   "metadata": {
    "application/vnd.databricks.v1+cell": {
     "cellMetadata": {
      "byteLimit": 2048000,
      "rowLimit": 10000
     },
     "inputWidgets": {},
     "nuid": "7fffa48d-cf30-45d0-a36d-c4b5b7601faa",
     "showTitle": false,
     "tableResultSettingsMap": {},
     "title": ""
    }
   },
   "outputs": [],
   "source": [
    "# Register the UDF\n",
    "from pyspark.sql.functions import udf, col\n",
    "from pyspark.sql.types import IntegerType\n",
    "\n",
    "double_salary_udf = udf(double_salary, IntegerType())"
   ]
  },
  {
   "cell_type": "code",
   "execution_count": 0,
   "metadata": {
    "application/vnd.databricks.v1+cell": {
     "cellMetadata": {
      "byteLimit": 2048000,
      "rowLimit": 10000
     },
     "inputWidgets": {},
     "nuid": "2a95dbcb-710c-43cd-ad06-ab2e8c105a46",
     "showTitle": false,
     "tableResultSettingsMap": {},
     "title": ""
    }
   },
   "outputs": [
    {
     "output_type": "stream",
     "name": "stdout",
     "output_type": "stream",
     "text": [
      "+---+-------------+------+----------+\n| id|    full_name|salary|new_salary|\n+---+-------------+------+----------+\n|  1|  Rohish Zade|  2000|      4000|\n|  2|Priya Ramteke|  3000|      6000|\n|  3|  Faizal Reza|  2500|      5000|\n+---+-------------+------+----------+\n\n"
     ]
    }
   ],
   "source": [
    "salary_df = df.withColumn(\"new_salary\", double_salary_udf(col(\"salary\")))\n",
    "salary_df.show()"
   ]
  }
 ],
 "metadata": {
  "application/vnd.databricks.v1+notebook": {
   "computePreferences": null,
   "dashboards": [],
   "environmentMetadata": {
    "base_environment": "",
    "environment_version": "1"
   },
   "inputWidgetPreferences": null,
   "language": "python",
   "notebookMetadata": {
    "pythonIndentUnit": 4
   },
   "notebookName": "write_a_udf_to_double_the_salary",
   "widgets": {}
  }
 },
 "nbformat": 4,
 "nbformat_minor": 0
}